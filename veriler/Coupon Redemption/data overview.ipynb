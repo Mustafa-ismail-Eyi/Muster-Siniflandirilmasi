{
 "cells": [
  {
   "cell_type": "code",
   "execution_count": 1,
   "metadata": {},
   "outputs": [],
   "source": [
    "import numpy as np\n",
    "import pandas as pd"
   ]
  },
  {
   "cell_type": "code",
   "execution_count": 2,
   "metadata": {},
   "outputs": [],
   "source": [
    "traindf = pd.read_csv('./362595_708617_bundle_archive/train.csv')"
   ]
  },
  {
   "cell_type": "code",
   "execution_count": 16,
   "metadata": {},
   "outputs": [
    {
     "output_type": "execute_result",
     "data": {
      "text/plain": "(78369, 5)"
     },
     "metadata": {},
     "execution_count": 16
    }
   ],
   "source": [
    "traindf.shape"
   ]
  },
  {
   "cell_type": "code",
   "execution_count": 21,
   "metadata": {},
   "outputs": [
    {
     "output_type": "execute_result",
     "data": {
      "text/plain": "(50226, 4)"
     },
     "metadata": {},
     "execution_count": 21
    }
   ],
   "source": [
    "testdf = pd.read_csv('./362595_708617_bundle_archive/test_QyjYwdj.csv')\n",
    "testdf.shape"
   ]
  },
  {
   "cell_type": "code",
   "execution_count": 3,
   "metadata": {},
   "outputs": [
    {
     "output_type": "execute_result",
     "data": {
      "text/plain": "   id  campaign_id  coupon_id  customer_id  redemption_status\n0   1           13         27         1053                  0\n1   2           13        116           48                  0\n2   6            9        635          205                  0\n3   7           13        644         1050                  0\n4   9            8       1017         1489                  0",
      "text/html": "<div>\n<style scoped>\n    .dataframe tbody tr th:only-of-type {\n        vertical-align: middle;\n    }\n\n    .dataframe tbody tr th {\n        vertical-align: top;\n    }\n\n    .dataframe thead th {\n        text-align: right;\n    }\n</style>\n<table border=\"1\" class=\"dataframe\">\n  <thead>\n    <tr style=\"text-align: right;\">\n      <th></th>\n      <th>id</th>\n      <th>campaign_id</th>\n      <th>coupon_id</th>\n      <th>customer_id</th>\n      <th>redemption_status</th>\n    </tr>\n  </thead>\n  <tbody>\n    <tr>\n      <th>0</th>\n      <td>1</td>\n      <td>13</td>\n      <td>27</td>\n      <td>1053</td>\n      <td>0</td>\n    </tr>\n    <tr>\n      <th>1</th>\n      <td>2</td>\n      <td>13</td>\n      <td>116</td>\n      <td>48</td>\n      <td>0</td>\n    </tr>\n    <tr>\n      <th>2</th>\n      <td>6</td>\n      <td>9</td>\n      <td>635</td>\n      <td>205</td>\n      <td>0</td>\n    </tr>\n    <tr>\n      <th>3</th>\n      <td>7</td>\n      <td>13</td>\n      <td>644</td>\n      <td>1050</td>\n      <td>0</td>\n    </tr>\n    <tr>\n      <th>4</th>\n      <td>9</td>\n      <td>8</td>\n      <td>1017</td>\n      <td>1489</td>\n      <td>0</td>\n    </tr>\n  </tbody>\n</table>\n</div>"
     },
     "metadata": {},
     "execution_count": 3
    }
   ],
   "source": [
    "traindf.head()"
   ]
  },
  {
   "cell_type": "code",
   "execution_count": 10,
   "metadata": {},
   "outputs": [
    {
     "output_type": "execute_result",
     "data": {
      "text/plain": "array([13,  9,  8, 11, 29, 30,  2,  5, 12, 26,  3,  4, 10,  7, 28, 27,  6,\n        1], dtype=int64)"
     },
     "metadata": {},
     "execution_count": 10
    }
   ],
   "source": [
    "traindf.campaign_id.unique()\n",
    "# 18 adet kampanya"
   ]
  },
  {
   "cell_type": "code",
   "execution_count": 5,
   "metadata": {},
   "outputs": [],
   "source": [
    "campaigndf = pd.read_csv('./362595_708617_bundle_archive/campaign_data.csv')"
   ]
  },
  {
   "cell_type": "code",
   "execution_count": 6,
   "metadata": {},
   "outputs": [
    {
     "output_type": "execute_result",
     "data": {
      "text/plain": "   campaign_id campaign_type start_date  end_date\n0           24             Y   21/10/13  20/12/13\n1           25             Y   21/10/13  22/11/13\n2           20             Y   07/09/13  16/11/13\n3           23             Y   08/10/13  15/11/13\n4           21             Y   16/09/13  18/10/13",
      "text/html": "<div>\n<style scoped>\n    .dataframe tbody tr th:only-of-type {\n        vertical-align: middle;\n    }\n\n    .dataframe tbody tr th {\n        vertical-align: top;\n    }\n\n    .dataframe thead th {\n        text-align: right;\n    }\n</style>\n<table border=\"1\" class=\"dataframe\">\n  <thead>\n    <tr style=\"text-align: right;\">\n      <th></th>\n      <th>campaign_id</th>\n      <th>campaign_type</th>\n      <th>start_date</th>\n      <th>end_date</th>\n    </tr>\n  </thead>\n  <tbody>\n    <tr>\n      <th>0</th>\n      <td>24</td>\n      <td>Y</td>\n      <td>21/10/13</td>\n      <td>20/12/13</td>\n    </tr>\n    <tr>\n      <th>1</th>\n      <td>25</td>\n      <td>Y</td>\n      <td>21/10/13</td>\n      <td>22/11/13</td>\n    </tr>\n    <tr>\n      <th>2</th>\n      <td>20</td>\n      <td>Y</td>\n      <td>07/09/13</td>\n      <td>16/11/13</td>\n    </tr>\n    <tr>\n      <th>3</th>\n      <td>23</td>\n      <td>Y</td>\n      <td>08/10/13</td>\n      <td>15/11/13</td>\n    </tr>\n    <tr>\n      <th>4</th>\n      <td>21</td>\n      <td>Y</td>\n      <td>16/09/13</td>\n      <td>18/10/13</td>\n    </tr>\n  </tbody>\n</table>\n</div>"
     },
     "metadata": {},
     "execution_count": 6
    }
   ],
   "source": [
    "campaigndf.head()"
   ]
  },
  {
   "cell_type": "code",
   "execution_count": 7,
   "metadata": {},
   "outputs": [
    {
     "output_type": "execute_result",
     "data": {
      "text/plain": "array(['Y', 'X'], dtype=object)"
     },
     "metadata": {},
     "execution_count": 7
    }
   ],
   "source": [
    "campaigndf.campaign_type.unique()"
   ]
  },
  {
   "cell_type": "code",
   "execution_count": 15,
   "metadata": {},
   "outputs": [
    {
     "output_type": "execute_result",
     "data": {
      "text/plain": "(28, 4)"
     },
     "metadata": {},
     "execution_count": 15
    }
   ],
   "source": [
    "campaigndf.shape"
   ]
  },
  {
   "cell_type": "code",
   "execution_count": 11,
   "metadata": {},
   "outputs": [
    {
     "output_type": "execute_result",
     "data": {
      "text/plain": "array([24, 25, 20, 23, 21, 22, 18, 19, 17, 16, 13, 11, 12, 10,  9,  8,  7,\n        6,  3,  5,  4,  1,  2, 30, 29, 28, 27, 26], dtype=int64)"
     },
     "metadata": {},
     "execution_count": 11
    }
   ],
   "source": [
    "campaigndf.campaign_id.unique()\n",
    "# 28 adet kampanya"
   ]
  },
  {
   "cell_type": "code",
   "execution_count": 17,
   "metadata": {},
   "outputs": [],
   "source": [
    "customerdf = pd.read_csv('./362595_708617_bundle_archive/customer_demographics.csv')"
   ]
  },
  {
   "cell_type": "code",
   "execution_count": 18,
   "metadata": {},
   "outputs": [
    {
     "output_type": "execute_result",
     "data": {
      "text/plain": "(760, 7)"
     },
     "metadata": {},
     "execution_count": 18
    }
   ],
   "source": [
    "customerdf.shape"
   ]
  },
  {
   "cell_type": "code",
   "execution_count": 19,
   "metadata": {},
   "outputs": [
    {
     "output_type": "execute_result",
     "data": {
      "text/plain": "   customer_id age_range marital_status  rented family_size no_of_children  \\\n0            1       70+        Married       0           2            NaN   \n1            6     46-55        Married       0           2            NaN   \n2            7     26-35            NaN       0           3              1   \n3            8     26-35            NaN       0           4              2   \n4           10     46-55         Single       0           1            NaN   \n\n   income_bracket  \n0               4  \n1               5  \n2               3  \n3               6  \n4               5  ",
      "text/html": "<div>\n<style scoped>\n    .dataframe tbody tr th:only-of-type {\n        vertical-align: middle;\n    }\n\n    .dataframe tbody tr th {\n        vertical-align: top;\n    }\n\n    .dataframe thead th {\n        text-align: right;\n    }\n</style>\n<table border=\"1\" class=\"dataframe\">\n  <thead>\n    <tr style=\"text-align: right;\">\n      <th></th>\n      <th>customer_id</th>\n      <th>age_range</th>\n      <th>marital_status</th>\n      <th>rented</th>\n      <th>family_size</th>\n      <th>no_of_children</th>\n      <th>income_bracket</th>\n    </tr>\n  </thead>\n  <tbody>\n    <tr>\n      <th>0</th>\n      <td>1</td>\n      <td>70+</td>\n      <td>Married</td>\n      <td>0</td>\n      <td>2</td>\n      <td>NaN</td>\n      <td>4</td>\n    </tr>\n    <tr>\n      <th>1</th>\n      <td>6</td>\n      <td>46-55</td>\n      <td>Married</td>\n      <td>0</td>\n      <td>2</td>\n      <td>NaN</td>\n      <td>5</td>\n    </tr>\n    <tr>\n      <th>2</th>\n      <td>7</td>\n      <td>26-35</td>\n      <td>NaN</td>\n      <td>0</td>\n      <td>3</td>\n      <td>1</td>\n      <td>3</td>\n    </tr>\n    <tr>\n      <th>3</th>\n      <td>8</td>\n      <td>26-35</td>\n      <td>NaN</td>\n      <td>0</td>\n      <td>4</td>\n      <td>2</td>\n      <td>6</td>\n    </tr>\n    <tr>\n      <th>4</th>\n      <td>10</td>\n      <td>46-55</td>\n      <td>Single</td>\n      <td>0</td>\n      <td>1</td>\n      <td>NaN</td>\n      <td>5</td>\n    </tr>\n  </tbody>\n</table>\n</div>"
     },
     "metadata": {},
     "execution_count": 19
    }
   ],
   "source": [
    "customerdf.head()"
   ]
  },
  {
   "cell_type": "code",
   "execution_count": null,
   "metadata": {},
   "outputs": [],
   "source": []
  }
 ],
 "metadata": {
  "language_info": {
   "codemirror_mode": {
    "name": "ipython",
    "version": 3
   },
   "file_extension": ".py",
   "mimetype": "text/x-python",
   "name": "python",
   "nbconvert_exporter": "python",
   "pygments_lexer": "ipython3",
   "version": 3
  },
  "orig_nbformat": 2,
  "kernelspec": {
   "name": "python_defaultSpec_1594922150176",
   "display_name": "Python 3.7.7 64-bit ('recsys': conda)"
  }
 },
 "nbformat": 4,
 "nbformat_minor": 2
}