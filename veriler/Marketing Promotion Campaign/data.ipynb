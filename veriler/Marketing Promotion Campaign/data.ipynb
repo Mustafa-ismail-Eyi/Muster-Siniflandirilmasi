{
 "cells": [
  {
   "cell_type": "code",
   "execution_count": 2,
   "metadata": {},
   "outputs": [],
   "source": [
    "import numpy as np\n",
    "import pandas as pd"
   ]
  },
  {
   "cell_type": "code",
   "execution_count": 3,
   "metadata": {},
   "outputs": [],
   "source": [
    "data = pd.read_csv('./507358_937613_bundle_archive/data.csv')"
   ]
  },
  {
   "cell_type": "code",
   "execution_count": 4,
   "metadata": {},
   "outputs": [
    {
     "output_type": "execute_result",
     "data": {
      "text/plain": "(64000, 9)"
     },
     "metadata": {},
     "execution_count": 4
    }
   ],
   "source": [
    "data.shape"
   ]
  },
  {
   "cell_type": "code",
   "execution_count": 5,
   "metadata": {},
   "outputs": [
    {
     "output_type": "execute_result",
     "data": {
      "text/plain": "            recency       history  used_discount     used_bogo   is_referral  \\\ncount  64000.000000  64000.000000   64000.000000  64000.000000  64000.000000   \nmean       5.763734    242.085656       0.551031      0.549719      0.502250   \nstd        3.507592    256.158608       0.497393      0.497526      0.499999   \nmin        1.000000     29.990000       0.000000      0.000000      0.000000   \n25%        2.000000     64.660000       0.000000      0.000000      0.000000   \n50%        6.000000    158.110000       1.000000      1.000000      1.000000   \n75%        9.000000    325.657500       1.000000      1.000000      1.000000   \nmax       12.000000   3345.930000       1.000000      1.000000      1.000000   \n\n         conversion  \ncount  64000.000000  \nmean       0.146781  \nstd        0.353890  \nmin        0.000000  \n25%        0.000000  \n50%        0.000000  \n75%        0.000000  \nmax        1.000000  ",
      "text/html": "<div>\n<style scoped>\n    .dataframe tbody tr th:only-of-type {\n        vertical-align: middle;\n    }\n\n    .dataframe tbody tr th {\n        vertical-align: top;\n    }\n\n    .dataframe thead th {\n        text-align: right;\n    }\n</style>\n<table border=\"1\" class=\"dataframe\">\n  <thead>\n    <tr style=\"text-align: right;\">\n      <th></th>\n      <th>recency</th>\n      <th>history</th>\n      <th>used_discount</th>\n      <th>used_bogo</th>\n      <th>is_referral</th>\n      <th>conversion</th>\n    </tr>\n  </thead>\n  <tbody>\n    <tr>\n      <th>count</th>\n      <td>64000.000000</td>\n      <td>64000.000000</td>\n      <td>64000.000000</td>\n      <td>64000.000000</td>\n      <td>64000.000000</td>\n      <td>64000.000000</td>\n    </tr>\n    <tr>\n      <th>mean</th>\n      <td>5.763734</td>\n      <td>242.085656</td>\n      <td>0.551031</td>\n      <td>0.549719</td>\n      <td>0.502250</td>\n      <td>0.146781</td>\n    </tr>\n    <tr>\n      <th>std</th>\n      <td>3.507592</td>\n      <td>256.158608</td>\n      <td>0.497393</td>\n      <td>0.497526</td>\n      <td>0.499999</td>\n      <td>0.353890</td>\n    </tr>\n    <tr>\n      <th>min</th>\n      <td>1.000000</td>\n      <td>29.990000</td>\n      <td>0.000000</td>\n      <td>0.000000</td>\n      <td>0.000000</td>\n      <td>0.000000</td>\n    </tr>\n    <tr>\n      <th>25%</th>\n      <td>2.000000</td>\n      <td>64.660000</td>\n      <td>0.000000</td>\n      <td>0.000000</td>\n      <td>0.000000</td>\n      <td>0.000000</td>\n    </tr>\n    <tr>\n      <th>50%</th>\n      <td>6.000000</td>\n      <td>158.110000</td>\n      <td>1.000000</td>\n      <td>1.000000</td>\n      <td>1.000000</td>\n      <td>0.000000</td>\n    </tr>\n    <tr>\n      <th>75%</th>\n      <td>9.000000</td>\n      <td>325.657500</td>\n      <td>1.000000</td>\n      <td>1.000000</td>\n      <td>1.000000</td>\n      <td>0.000000</td>\n    </tr>\n    <tr>\n      <th>max</th>\n      <td>12.000000</td>\n      <td>3345.930000</td>\n      <td>1.000000</td>\n      <td>1.000000</td>\n      <td>1.000000</td>\n      <td>1.000000</td>\n    </tr>\n  </tbody>\n</table>\n</div>"
     },
     "metadata": {},
     "execution_count": 5
    }
   ],
   "source": [
    "data.describe()"
   ]
  },
  {
   "cell_type": "code",
   "execution_count": 6,
   "metadata": {},
   "outputs": [
    {
     "output_type": "execute_result",
     "data": {
      "text/plain": "   recency  history  used_discount  used_bogo   zip_code  is_referral channel  \\\n0       10   142.44              1          0  Surburban            0   Phone   \n1        6   329.08              1          1      Rural            1     Web   \n2        7   180.65              0          1  Surburban            1     Web   \n3        9   675.83              1          0      Rural            1     Web   \n4        2    45.34              1          0      Urban            0     Web   \n\n             offer  conversion  \n0  Buy One Get One           0  \n1         No Offer           0  \n2  Buy One Get One           0  \n3         Discount           0  \n4  Buy One Get One           0  ",
      "text/html": "<div>\n<style scoped>\n    .dataframe tbody tr th:only-of-type {\n        vertical-align: middle;\n    }\n\n    .dataframe tbody tr th {\n        vertical-align: top;\n    }\n\n    .dataframe thead th {\n        text-align: right;\n    }\n</style>\n<table border=\"1\" class=\"dataframe\">\n  <thead>\n    <tr style=\"text-align: right;\">\n      <th></th>\n      <th>recency</th>\n      <th>history</th>\n      <th>used_discount</th>\n      <th>used_bogo</th>\n      <th>zip_code</th>\n      <th>is_referral</th>\n      <th>channel</th>\n      <th>offer</th>\n      <th>conversion</th>\n    </tr>\n  </thead>\n  <tbody>\n    <tr>\n      <th>0</th>\n      <td>10</td>\n      <td>142.44</td>\n      <td>1</td>\n      <td>0</td>\n      <td>Surburban</td>\n      <td>0</td>\n      <td>Phone</td>\n      <td>Buy One Get One</td>\n      <td>0</td>\n    </tr>\n    <tr>\n      <th>1</th>\n      <td>6</td>\n      <td>329.08</td>\n      <td>1</td>\n      <td>1</td>\n      <td>Rural</td>\n      <td>1</td>\n      <td>Web</td>\n      <td>No Offer</td>\n      <td>0</td>\n    </tr>\n    <tr>\n      <th>2</th>\n      <td>7</td>\n      <td>180.65</td>\n      <td>0</td>\n      <td>1</td>\n      <td>Surburban</td>\n      <td>1</td>\n      <td>Web</td>\n      <td>Buy One Get One</td>\n      <td>0</td>\n    </tr>\n    <tr>\n      <th>3</th>\n      <td>9</td>\n      <td>675.83</td>\n      <td>1</td>\n      <td>0</td>\n      <td>Rural</td>\n      <td>1</td>\n      <td>Web</td>\n      <td>Discount</td>\n      <td>0</td>\n    </tr>\n    <tr>\n      <th>4</th>\n      <td>2</td>\n      <td>45.34</td>\n      <td>1</td>\n      <td>0</td>\n      <td>Urban</td>\n      <td>0</td>\n      <td>Web</td>\n      <td>Buy One Get One</td>\n      <td>0</td>\n    </tr>\n  </tbody>\n</table>\n</div>"
     },
     "metadata": {},
     "execution_count": 6
    }
   ],
   "source": [
    "data.head()\n",
    "# zip_code kaldırılıp onun yerine türüne göre campaign_id konulup bunlar incelenebilir\n",
    "# zaten burada used_discount ve used bogo var"
   ]
  },
  {
   "cell_type": "code",
   "execution_count": 7,
   "metadata": {},
   "outputs": [],
   "source": [
    "offers=data['offer'].unique()"
   ]
  },
  {
   "cell_type": "code",
   "execution_count": 8,
   "metadata": {
    "tags": []
   },
   "outputs": [
    {
     "output_type": "stream",
     "name": "stdout",
     "text": "['Buy One Get One' 'No Offer' 'Discount']\n"
    }
   ],
   "source": [
    "print(offers)"
   ]
  },
  {
   "cell_type": "code",
   "execution_count": 9,
   "metadata": {},
   "outputs": [
    {
     "output_type": "execute_result",
     "data": {
      "text/plain": "       recency  history   zip_code\n26          12   115.39  Surburban\n54          12   150.06  Surburban\n56          12    69.08      Rural\n107         12    29.99      Urban\n109         12   129.73  Surburban\n...        ...      ...        ...\n63796       12    76.58  Surburban\n63834       12   102.70      Urban\n63843       12   194.40  Surburban\n63864       12   270.02  Surburban\n63933       12    37.94      Urban\n\n[2332 rows x 3 columns]",
      "text/html": "<div>\n<style scoped>\n    .dataframe tbody tr th:only-of-type {\n        vertical-align: middle;\n    }\n\n    .dataframe tbody tr th {\n        vertical-align: top;\n    }\n\n    .dataframe thead th {\n        text-align: right;\n    }\n</style>\n<table border=\"1\" class=\"dataframe\">\n  <thead>\n    <tr style=\"text-align: right;\">\n      <th></th>\n      <th>recency</th>\n      <th>history</th>\n      <th>zip_code</th>\n    </tr>\n  </thead>\n  <tbody>\n    <tr>\n      <th>26</th>\n      <td>12</td>\n      <td>115.39</td>\n      <td>Surburban</td>\n    </tr>\n    <tr>\n      <th>54</th>\n      <td>12</td>\n      <td>150.06</td>\n      <td>Surburban</td>\n    </tr>\n    <tr>\n      <th>56</th>\n      <td>12</td>\n      <td>69.08</td>\n      <td>Rural</td>\n    </tr>\n    <tr>\n      <th>107</th>\n      <td>12</td>\n      <td>29.99</td>\n      <td>Urban</td>\n    </tr>\n    <tr>\n      <th>109</th>\n      <td>12</td>\n      <td>129.73</td>\n      <td>Surburban</td>\n    </tr>\n    <tr>\n      <th>...</th>\n      <td>...</td>\n      <td>...</td>\n      <td>...</td>\n    </tr>\n    <tr>\n      <th>63796</th>\n      <td>12</td>\n      <td>76.58</td>\n      <td>Surburban</td>\n    </tr>\n    <tr>\n      <th>63834</th>\n      <td>12</td>\n      <td>102.70</td>\n      <td>Urban</td>\n    </tr>\n    <tr>\n      <th>63843</th>\n      <td>12</td>\n      <td>194.40</td>\n      <td>Surburban</td>\n    </tr>\n    <tr>\n      <th>63864</th>\n      <td>12</td>\n      <td>270.02</td>\n      <td>Surburban</td>\n    </tr>\n    <tr>\n      <th>63933</th>\n      <td>12</td>\n      <td>37.94</td>\n      <td>Urban</td>\n    </tr>\n  </tbody>\n</table>\n<p>2332 rows × 3 columns</p>\n</div>"
     },
     "metadata": {},
     "execution_count": 9
    }
   ],
   "source": [
    "data[data.recency>=12][['recency','history','zip_code']]\n",
    "#Bu da demek oluyor ki 12 aydan daha fazla pasif(giriş yapmamış) kalan kullanıcı yok, belkide aktiflikten dolayı hesapları dondurulmuş olabilir\n",
    "#data[(data.recency<12) & (data.recency>=7)][['recency','history','zip_code']]"
   ]
  },
  {
   "cell_type": "code",
   "execution_count": 22,
   "metadata": {},
   "outputs": [
    {
     "output_type": "execute_result",
     "data": {
      "text/plain": "       recency  history  used_discount  used_bogo   zip_code  is_referral  \\\n5            6   134.83              0          1  Surburban            0   \n10           7   548.91              0          1      Urban            1   \n13           2   101.64              0          1      Urban            0   \n15           3    58.13              1          0      Urban            1   \n22           2   118.40              1          0  Surburban            0   \n...        ...      ...            ...        ...        ...          ...   \n63954        2    93.97              1          0      Urban            0   \n63961        4   337.36              1          0      Urban            0   \n63977        8    29.99              0          1  Surburban            0   \n63985        9    29.99              1          0      Urban            0   \n63989       10   304.30              1          1  Surburban            0   \n\n      channel            offer  conversion  \n5       Phone  Buy One Get One           1  \n10      Phone  Buy One Get One           1  \n13        Web         Discount           1  \n15        Web         No Offer           1  \n22        Web         Discount           1  \n...       ...              ...         ...  \n63954     Web         No Offer           1  \n63961     Web         Discount           1  \n63977     Web         No Offer           1  \n63985   Phone         Discount           1  \n63989     Web  Buy One Get One           1  \n\n[9394 rows x 9 columns]",
      "text/html": "<div>\n<style scoped>\n    .dataframe tbody tr th:only-of-type {\n        vertical-align: middle;\n    }\n\n    .dataframe tbody tr th {\n        vertical-align: top;\n    }\n\n    .dataframe thead th {\n        text-align: right;\n    }\n</style>\n<table border=\"1\" class=\"dataframe\">\n  <thead>\n    <tr style=\"text-align: right;\">\n      <th></th>\n      <th>recency</th>\n      <th>history</th>\n      <th>used_discount</th>\n      <th>used_bogo</th>\n      <th>zip_code</th>\n      <th>is_referral</th>\n      <th>channel</th>\n      <th>offer</th>\n      <th>conversion</th>\n    </tr>\n  </thead>\n  <tbody>\n    <tr>\n      <th>5</th>\n      <td>6</td>\n      <td>134.83</td>\n      <td>0</td>\n      <td>1</td>\n      <td>Surburban</td>\n      <td>0</td>\n      <td>Phone</td>\n      <td>Buy One Get One</td>\n      <td>1</td>\n    </tr>\n    <tr>\n      <th>10</th>\n      <td>7</td>\n      <td>548.91</td>\n      <td>0</td>\n      <td>1</td>\n      <td>Urban</td>\n      <td>1</td>\n      <td>Phone</td>\n      <td>Buy One Get One</td>\n      <td>1</td>\n    </tr>\n    <tr>\n      <th>13</th>\n      <td>2</td>\n      <td>101.64</td>\n      <td>0</td>\n      <td>1</td>\n      <td>Urban</td>\n      <td>0</td>\n      <td>Web</td>\n      <td>Discount</td>\n      <td>1</td>\n    </tr>\n    <tr>\n      <th>15</th>\n      <td>3</td>\n      <td>58.13</td>\n      <td>1</td>\n      <td>0</td>\n      <td>Urban</td>\n      <td>1</td>\n      <td>Web</td>\n      <td>No Offer</td>\n      <td>1</td>\n    </tr>\n    <tr>\n      <th>22</th>\n      <td>2</td>\n      <td>118.40</td>\n      <td>1</td>\n      <td>0</td>\n      <td>Surburban</td>\n      <td>0</td>\n      <td>Web</td>\n      <td>Discount</td>\n      <td>1</td>\n    </tr>\n    <tr>\n      <th>...</th>\n      <td>...</td>\n      <td>...</td>\n      <td>...</td>\n      <td>...</td>\n      <td>...</td>\n      <td>...</td>\n      <td>...</td>\n      <td>...</td>\n      <td>...</td>\n    </tr>\n    <tr>\n      <th>63954</th>\n      <td>2</td>\n      <td>93.97</td>\n      <td>1</td>\n      <td>0</td>\n      <td>Urban</td>\n      <td>0</td>\n      <td>Web</td>\n      <td>No Offer</td>\n      <td>1</td>\n    </tr>\n    <tr>\n      <th>63961</th>\n      <td>4</td>\n      <td>337.36</td>\n      <td>1</td>\n      <td>0</td>\n      <td>Urban</td>\n      <td>0</td>\n      <td>Web</td>\n      <td>Discount</td>\n      <td>1</td>\n    </tr>\n    <tr>\n      <th>63977</th>\n      <td>8</td>\n      <td>29.99</td>\n      <td>0</td>\n      <td>1</td>\n      <td>Surburban</td>\n      <td>0</td>\n      <td>Web</td>\n      <td>No Offer</td>\n      <td>1</td>\n    </tr>\n    <tr>\n      <th>63985</th>\n      <td>9</td>\n      <td>29.99</td>\n      <td>1</td>\n      <td>0</td>\n      <td>Urban</td>\n      <td>0</td>\n      <td>Phone</td>\n      <td>Discount</td>\n      <td>1</td>\n    </tr>\n    <tr>\n      <th>63989</th>\n      <td>10</td>\n      <td>304.30</td>\n      <td>1</td>\n      <td>1</td>\n      <td>Surburban</td>\n      <td>0</td>\n      <td>Web</td>\n      <td>Buy One Get One</td>\n      <td>1</td>\n    </tr>\n  </tbody>\n</table>\n<p>9394 rows × 9 columns</p>\n</div>"
     },
     "metadata": {},
     "execution_count": 22
    }
   ],
   "source": [
    "data[data.conversion > 0]"
   ]
  },
  {
   "cell_type": "code",
   "execution_count": 38,
   "metadata": {},
   "outputs": [
    {
     "output_type": "execute_result",
     "data": {
      "text/plain": "(2597, 9)"
     },
     "metadata": {},
     "execution_count": 38
    }
   ],
   "source": [
    "data[(data['history']>150) & (data['recency'] < 3) & (data['channel'] == 'Web') & (data['offer'] !='No Offer')].shape"
   ]
  },
  {
   "cell_type": "code",
   "execution_count": 45,
   "metadata": {},
   "outputs": [
    {
     "output_type": "execute_result",
     "data": {
      "text/plain": "(1253, 9)"
     },
     "metadata": {},
     "execution_count": 45
    }
   ],
   "source": [
    "data[(data['history']>150) & (data['recency'] < 3) & (data['channel'] == 'Web') & (data['offer'] =='No Offer')].shape"
   ]
  },
  {
   "cell_type": "code",
   "execution_count": 40,
   "metadata": {},
   "outputs": [
    {
     "output_type": "execute_result",
     "data": {
      "text/plain": "(3850, 9)"
     },
     "metadata": {},
     "execution_count": 40
    }
   ],
   "source": [
    "data[(data['history']>150) & (data['recency'] < 3) & (data['channel'] == 'Web')].shape"
   ]
  },
  {
   "cell_type": "code",
   "execution_count": 41,
   "metadata": {},
   "outputs": [
    {
     "output_type": "execute_result",
     "data": {
      "text/plain": "3850"
     },
     "metadata": {},
     "execution_count": 41
    }
   ],
   "source": []
  },
  {
   "cell_type": "code",
   "execution_count": null,
   "metadata": {},
   "outputs": [],
   "source": []
  }
 ],
 "metadata": {
  "language_info": {
   "codemirror_mode": {
    "name": "ipython",
    "version": 3
   },
   "file_extension": ".py",
   "mimetype": "text/x-python",
   "name": "python",
   "nbconvert_exporter": "python",
   "pygments_lexer": "ipython3",
   "version": 3
  },
  "orig_nbformat": 2,
  "kernelspec": {
   "name": "python_defaultSpec_1595329691503",
   "display_name": "Python 3.7.7 64-bit ('recsys': conda)"
  }
 },
 "nbformat": 4,
 "nbformat_minor": 2
}