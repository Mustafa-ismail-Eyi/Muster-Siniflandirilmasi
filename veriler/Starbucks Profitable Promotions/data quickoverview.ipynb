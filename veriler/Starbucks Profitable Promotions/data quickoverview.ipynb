{
 "cells": [
  {
   "cell_type": "code",
   "execution_count": 1,
   "metadata": {},
   "outputs": [],
   "source": [
    "import numpy as np\n",
    "import pandas as pd"
   ]
  },
  {
   "cell_type": "code",
   "execution_count": 8,
   "metadata": {},
   "outputs": [],
   "source": [
    "portfolio = pd.read_json('./690741_1210253_bundle_archive/portfolio.json', orient='records', lines=True)\n"
   ]
  },
  {
   "cell_type": "code",
   "execution_count": 12,
   "metadata": {},
   "outputs": [
    {
     "output_type": "execute_result",
     "data": {
      "text/plain": "   reward                      channels  difficulty  duration     offer_type  \\\n0      10       [email, mobile, social]          10         7           bogo   \n1      10  [web, email, mobile, social]          10         5           bogo   \n2       0          [web, email, mobile]           0         4  informational   \n3       5          [web, email, mobile]           5         7           bogo   \n4       5                  [web, email]          20        10       discount   \n\n                                 id  \n0  ae264e3637204a6fb9bb56bc8210ddfd  \n1  4d5c57ea9a6940dd891ad53e9dbe8da0  \n2  3f207df678b143eea3cee63160fa8bed  \n3  9b98b8c7a33c4b65b9aebfe6a799e6d9  \n4  0b1e1539f2cc45b7b9fa7c272da2e1d7  ",
      "text/html": "<div>\n<style scoped>\n    .dataframe tbody tr th:only-of-type {\n        vertical-align: middle;\n    }\n\n    .dataframe tbody tr th {\n        vertical-align: top;\n    }\n\n    .dataframe thead th {\n        text-align: right;\n    }\n</style>\n<table border=\"1\" class=\"dataframe\">\n  <thead>\n    <tr style=\"text-align: right;\">\n      <th></th>\n      <th>reward</th>\n      <th>channels</th>\n      <th>difficulty</th>\n      <th>duration</th>\n      <th>offer_type</th>\n      <th>id</th>\n    </tr>\n  </thead>\n  <tbody>\n    <tr>\n      <th>0</th>\n      <td>10</td>\n      <td>[email, mobile, social]</td>\n      <td>10</td>\n      <td>7</td>\n      <td>bogo</td>\n      <td>ae264e3637204a6fb9bb56bc8210ddfd</td>\n    </tr>\n    <tr>\n      <th>1</th>\n      <td>10</td>\n      <td>[web, email, mobile, social]</td>\n      <td>10</td>\n      <td>5</td>\n      <td>bogo</td>\n      <td>4d5c57ea9a6940dd891ad53e9dbe8da0</td>\n    </tr>\n    <tr>\n      <th>2</th>\n      <td>0</td>\n      <td>[web, email, mobile]</td>\n      <td>0</td>\n      <td>4</td>\n      <td>informational</td>\n      <td>3f207df678b143eea3cee63160fa8bed</td>\n    </tr>\n    <tr>\n      <th>3</th>\n      <td>5</td>\n      <td>[web, email, mobile]</td>\n      <td>5</td>\n      <td>7</td>\n      <td>bogo</td>\n      <td>9b98b8c7a33c4b65b9aebfe6a799e6d9</td>\n    </tr>\n    <tr>\n      <th>4</th>\n      <td>5</td>\n      <td>[web, email]</td>\n      <td>20</td>\n      <td>10</td>\n      <td>discount</td>\n      <td>0b1e1539f2cc45b7b9fa7c272da2e1d7</td>\n    </tr>\n  </tbody>\n</table>\n</div>"
     },
     "metadata": {},
     "execution_count": 12
    }
   ],
   "source": [
    "portfolio.head()"
   ]
  },
  {
   "cell_type": "code",
   "execution_count": 6,
   "metadata": {},
   "outputs": [
    {
     "output_type": "execute_result",
     "data": {
      "text/plain": "array(['bogo', 'informational', 'discount'], dtype=object)"
     },
     "metadata": {},
     "execution_count": 6
    }
   ],
   "source": [
    "portfolio.offer_type.unique()"
   ]
  },
  {
   "cell_type": "code",
   "execution_count": 15,
   "metadata": {},
   "outputs": [],
   "source": [
    "profile = pd.read_json('./690741_1210253_bundle_archive/profile.json', orient='records', lines=True)"
   ]
  },
  {
   "cell_type": "code",
   "execution_count": 16,
   "metadata": {},
   "outputs": [
    {
     "output_type": "execute_result",
     "data": {
      "text/plain": "  gender  age                                id  became_member_on    income\n0   None  118  68be06ca386d4c31939f3a4f0e3dd783          20170212       NaN\n1      F   55  0610b486422d4921ae7d2bf64640c50b          20170715  112000.0\n2   None  118  38fe809add3b4fcf9315a9694bb96ff5          20180712       NaN\n3      F   75  78afa995795e4d85b5d9ceeca43f5fef          20170509  100000.0\n4   None  118  a03223e636434f42ac4c3df47e8bac43          20170804       NaN",
      "text/html": "<div>\n<style scoped>\n    .dataframe tbody tr th:only-of-type {\n        vertical-align: middle;\n    }\n\n    .dataframe tbody tr th {\n        vertical-align: top;\n    }\n\n    .dataframe thead th {\n        text-align: right;\n    }\n</style>\n<table border=\"1\" class=\"dataframe\">\n  <thead>\n    <tr style=\"text-align: right;\">\n      <th></th>\n      <th>gender</th>\n      <th>age</th>\n      <th>id</th>\n      <th>became_member_on</th>\n      <th>income</th>\n    </tr>\n  </thead>\n  <tbody>\n    <tr>\n      <th>0</th>\n      <td>None</td>\n      <td>118</td>\n      <td>68be06ca386d4c31939f3a4f0e3dd783</td>\n      <td>20170212</td>\n      <td>NaN</td>\n    </tr>\n    <tr>\n      <th>1</th>\n      <td>F</td>\n      <td>55</td>\n      <td>0610b486422d4921ae7d2bf64640c50b</td>\n      <td>20170715</td>\n      <td>112000.0</td>\n    </tr>\n    <tr>\n      <th>2</th>\n      <td>None</td>\n      <td>118</td>\n      <td>38fe809add3b4fcf9315a9694bb96ff5</td>\n      <td>20180712</td>\n      <td>NaN</td>\n    </tr>\n    <tr>\n      <th>3</th>\n      <td>F</td>\n      <td>75</td>\n      <td>78afa995795e4d85b5d9ceeca43f5fef</td>\n      <td>20170509</td>\n      <td>100000.0</td>\n    </tr>\n    <tr>\n      <th>4</th>\n      <td>None</td>\n      <td>118</td>\n      <td>a03223e636434f42ac4c3df47e8bac43</td>\n      <td>20170804</td>\n      <td>NaN</td>\n    </tr>\n  </tbody>\n</table>\n</div>"
     },
     "metadata": {},
     "execution_count": 16
    }
   ],
   "source": [
    "profile.head()"
   ]
  },
  {
   "cell_type": "code",
   "execution_count": 18,
   "metadata": {},
   "outputs": [],
   "source": [
    "transcript = pd.read_json('./690741_1210253_bundle_archive/transcript.json', orient='records', lines=True)"
   ]
  },
  {
   "cell_type": "code",
   "execution_count": 20,
   "metadata": {},
   "outputs": [
    {
     "output_type": "execute_result",
     "data": {
      "text/plain": "                             person           event  \\\n0  78afa995795e4d85b5d9ceeca43f5fef  offer received   \n1  a03223e636434f42ac4c3df47e8bac43  offer received   \n2  e2127556f4f64592b11af22de27a7932  offer received   \n3  8ec6ce2a7e7949b1bf142def7d0e0586  offer received   \n4  68617ca6246f4fbc85e91a2a49552598  offer received   \n\n                                              value  time  \n0  {'offer id': '9b98b8c7a33c4b65b9aebfe6a799e6d9'}     0  \n1  {'offer id': '0b1e1539f2cc45b7b9fa7c272da2e1d7'}     0  \n2  {'offer id': '2906b810c7d4411798c6938adc9daaa5'}     0  \n3  {'offer id': 'fafdcd668e3743c1bb461111dcafc2a4'}     0  \n4  {'offer id': '4d5c57ea9a6940dd891ad53e9dbe8da0'}     0  ",
      "text/html": "<div>\n<style scoped>\n    .dataframe tbody tr th:only-of-type {\n        vertical-align: middle;\n    }\n\n    .dataframe tbody tr th {\n        vertical-align: top;\n    }\n\n    .dataframe thead th {\n        text-align: right;\n    }\n</style>\n<table border=\"1\" class=\"dataframe\">\n  <thead>\n    <tr style=\"text-align: right;\">\n      <th></th>\n      <th>person</th>\n      <th>event</th>\n      <th>value</th>\n      <th>time</th>\n    </tr>\n  </thead>\n  <tbody>\n    <tr>\n      <th>0</th>\n      <td>78afa995795e4d85b5d9ceeca43f5fef</td>\n      <td>offer received</td>\n      <td>{'offer id': '9b98b8c7a33c4b65b9aebfe6a799e6d9'}</td>\n      <td>0</td>\n    </tr>\n    <tr>\n      <th>1</th>\n      <td>a03223e636434f42ac4c3df47e8bac43</td>\n      <td>offer received</td>\n      <td>{'offer id': '0b1e1539f2cc45b7b9fa7c272da2e1d7'}</td>\n      <td>0</td>\n    </tr>\n    <tr>\n      <th>2</th>\n      <td>e2127556f4f64592b11af22de27a7932</td>\n      <td>offer received</td>\n      <td>{'offer id': '2906b810c7d4411798c6938adc9daaa5'}</td>\n      <td>0</td>\n    </tr>\n    <tr>\n      <th>3</th>\n      <td>8ec6ce2a7e7949b1bf142def7d0e0586</td>\n      <td>offer received</td>\n      <td>{'offer id': 'fafdcd668e3743c1bb461111dcafc2a4'}</td>\n      <td>0</td>\n    </tr>\n    <tr>\n      <th>4</th>\n      <td>68617ca6246f4fbc85e91a2a49552598</td>\n      <td>offer received</td>\n      <td>{'offer id': '4d5c57ea9a6940dd891ad53e9dbe8da0'}</td>\n      <td>0</td>\n    </tr>\n  </tbody>\n</table>\n</div>"
     },
     "metadata": {},
     "execution_count": 20
    }
   ],
   "source": [
    "transcript.head()"
   ]
  },
  {
   "cell_type": "code",
   "execution_count": 21,
   "metadata": {},
   "outputs": [
    {
     "output_type": "execute_result",
     "data": {
      "text/plain": "array(['offer received', 'offer viewed', 'transaction', 'offer completed'],\n      dtype=object)"
     },
     "metadata": {},
     "execution_count": 21
    }
   ],
   "source": [
    "transcript.event.unique()"
   ]
  },
  {
   "cell_type": "code",
   "execution_count": null,
   "metadata": {},
   "outputs": [],
   "source": []
  }
 ],
 "metadata": {
  "language_info": {
   "codemirror_mode": {
    "name": "ipython",
    "version": 3
   },
   "file_extension": ".py",
   "mimetype": "text/x-python",
   "name": "python",
   "nbconvert_exporter": "python",
   "pygments_lexer": "ipython3",
   "version": 3
  },
  "orig_nbformat": 2,
  "kernelspec": {
   "name": "python_defaultSpec_1594903147015",
   "display_name": "Python 3.7.7 64-bit ('recsys': conda)"
  }
 },
 "nbformat": 4,
 "nbformat_minor": 2
}