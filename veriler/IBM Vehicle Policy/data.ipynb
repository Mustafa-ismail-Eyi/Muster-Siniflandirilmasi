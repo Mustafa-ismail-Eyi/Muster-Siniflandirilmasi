{
 "cells": [
  {
   "cell_type": "code",
   "execution_count": 3,
   "metadata": {},
   "outputs": [],
   "source": [
    "import numpy as np\n",
    "import pandas as pd"
   ]
  },
  {
   "cell_type": "code",
   "execution_count": 4,
   "metadata": {},
   "outputs": [],
   "source": [
    "data = pd.read_csv('./187466_419203_bundle_archive/WA_Fn-UseC_-Marketing-Customer-Value-Analysis.csv')"
   ]
  },
  {
   "cell_type": "code",
   "execution_count": 5,
   "metadata": {},
   "outputs": [
    {
     "output_type": "execute_result",
     "data": {
      "text/plain": "(9134, 24)"
     },
     "metadata": {},
     "execution_count": 5
    }
   ],
   "source": [
    "data.shape"
   ]
  },
  {
   "cell_type": "code",
   "execution_count": 13,
   "metadata": {
    "tags": []
   },
   "outputs": [
    {
     "output_type": "execute_result",
     "data": {
      "text/plain": "       Customer Lifetime Value        Income  Monthly Premium Auto  \\\ncount              9134.000000   9134.000000           9134.000000   \nmean               8004.940475  37657.380009             93.219291   \nstd                6870.967608  30379.904734             34.407967   \nmin                1898.007675      0.000000             61.000000   \n25%                3994.251794      0.000000             68.000000   \n50%                5780.182197  33889.500000             83.000000   \n75%                8962.167041  62320.000000            109.000000   \nmax               83325.381190  99981.000000            298.000000   \n\n       Months Since Last Claim  Months Since Policy Inception  \\\ncount              9134.000000                    9134.000000   \nmean                 15.097000                      48.064594   \nstd                  10.073257                      27.905991   \nmin                   0.000000                       0.000000   \n25%                   6.000000                      24.000000   \n50%                  14.000000                      48.000000   \n75%                  23.000000                      71.000000   \nmax                  35.000000                      99.000000   \n\n       Number of Open Complaints  Number of Policies  Total Claim Amount  \ncount                9134.000000         9134.000000         9134.000000  \nmean                    0.384388            2.966170          434.088794  \nstd                     0.910384            2.390182          290.500092  \nmin                     0.000000            1.000000            0.099007  \n25%                     0.000000            1.000000          272.258244  \n50%                     0.000000            2.000000          383.945434  \n75%                     0.000000            4.000000          547.514839  \nmax                     5.000000            9.000000         2893.239678  ",
      "text/html": "<div>\n<style scoped>\n    .dataframe tbody tr th:only-of-type {\n        vertical-align: middle;\n    }\n\n    .dataframe tbody tr th {\n        vertical-align: top;\n    }\n\n    .dataframe thead th {\n        text-align: right;\n    }\n</style>\n<table border=\"1\" class=\"dataframe\">\n  <thead>\n    <tr style=\"text-align: right;\">\n      <th></th>\n      <th>Customer Lifetime Value</th>\n      <th>Income</th>\n      <th>Monthly Premium Auto</th>\n      <th>Months Since Last Claim</th>\n      <th>Months Since Policy Inception</th>\n      <th>Number of Open Complaints</th>\n      <th>Number of Policies</th>\n      <th>Total Claim Amount</th>\n    </tr>\n  </thead>\n  <tbody>\n    <tr>\n      <th>count</th>\n      <td>9134.000000</td>\n      <td>9134.000000</td>\n      <td>9134.000000</td>\n      <td>9134.000000</td>\n      <td>9134.000000</td>\n      <td>9134.000000</td>\n      <td>9134.000000</td>\n      <td>9134.000000</td>\n    </tr>\n    <tr>\n      <th>mean</th>\n      <td>8004.940475</td>\n      <td>37657.380009</td>\n      <td>93.219291</td>\n      <td>15.097000</td>\n      <td>48.064594</td>\n      <td>0.384388</td>\n      <td>2.966170</td>\n      <td>434.088794</td>\n    </tr>\n    <tr>\n      <th>std</th>\n      <td>6870.967608</td>\n      <td>30379.904734</td>\n      <td>34.407967</td>\n      <td>10.073257</td>\n      <td>27.905991</td>\n      <td>0.910384</td>\n      <td>2.390182</td>\n      <td>290.500092</td>\n    </tr>\n    <tr>\n      <th>min</th>\n      <td>1898.007675</td>\n      <td>0.000000</td>\n      <td>61.000000</td>\n      <td>0.000000</td>\n      <td>0.000000</td>\n      <td>0.000000</td>\n      <td>1.000000</td>\n      <td>0.099007</td>\n    </tr>\n    <tr>\n      <th>25%</th>\n      <td>3994.251794</td>\n      <td>0.000000</td>\n      <td>68.000000</td>\n      <td>6.000000</td>\n      <td>24.000000</td>\n      <td>0.000000</td>\n      <td>1.000000</td>\n      <td>272.258244</td>\n    </tr>\n    <tr>\n      <th>50%</th>\n      <td>5780.182197</td>\n      <td>33889.500000</td>\n      <td>83.000000</td>\n      <td>14.000000</td>\n      <td>48.000000</td>\n      <td>0.000000</td>\n      <td>2.000000</td>\n      <td>383.945434</td>\n    </tr>\n    <tr>\n      <th>75%</th>\n      <td>8962.167041</td>\n      <td>62320.000000</td>\n      <td>109.000000</td>\n      <td>23.000000</td>\n      <td>71.000000</td>\n      <td>0.000000</td>\n      <td>4.000000</td>\n      <td>547.514839</td>\n    </tr>\n    <tr>\n      <th>max</th>\n      <td>83325.381190</td>\n      <td>99981.000000</td>\n      <td>298.000000</td>\n      <td>35.000000</td>\n      <td>99.000000</td>\n      <td>5.000000</td>\n      <td>9.000000</td>\n      <td>2893.239678</td>\n    </tr>\n  </tbody>\n</table>\n</div>"
     },
     "metadata": {},
     "execution_count": 13
    }
   ],
   "source": [
    "data.describe()"
   ]
  },
  {
   "cell_type": "code",
   "execution_count": 14,
   "metadata": {},
   "outputs": [
    {
     "output_type": "execute_result",
     "data": {
      "text/plain": "Customer                          object\nState                             object\nCustomer Lifetime Value          float64\nResponse                          object\nCoverage                          object\nEducation                         object\nEffective To Date                 object\nEmploymentStatus                  object\nGender                            object\nIncome                             int64\nLocation Code                     object\nMarital Status                    object\nMonthly Premium Auto               int64\nMonths Since Last Claim            int64\nMonths Since Policy Inception      int64\nNumber of Open Complaints          int64\nNumber of Policies                 int64\nPolicy Type                       object\nPolicy                            object\nRenew Offer Type                  object\nSales Channel                     object\nTotal Claim Amount               float64\nVehicle Class                     object\nVehicle Size                      object\ndtype: object"
     },
     "metadata": {},
     "execution_count": 14
    }
   ],
   "source": [
    "data.dtypes"
   ]
  },
  {
   "cell_type": "code",
   "execution_count": 20,
   "metadata": {},
   "outputs": [
    {
     "output_type": "execute_result",
     "data": {
      "text/plain": "   Customer       State  Customer Lifetime Value Response  Coverage  \\\n0   BU79786  Washington              2763.519279       No     Basic   \n1   QZ44356     Arizona              6979.535903       No  Extended   \n2   AI49188      Nevada             12887.431650       No   Premium   \n3   WW63253  California              7645.861827       No     Basic   \n4   HB64268  Washington              2813.692575       No     Basic   \n5   OC83172      Oregon              8256.297800      Yes     Basic   \n6   XZ87318      Oregon              5380.898636      Yes     Basic   \n7   CF85061     Arizona              7216.100311       No   Premium   \n8   DY87989      Oregon             24127.504020      Yes     Basic   \n9   BQ94931      Oregon              7388.178085       No  Extended   \n10  SX51350  California              4738.992022       No     Basic   \n11  VQ65197  California              8197.197078       No     Basic   \n12  DP39365  California              8798.797003       No   Premium   \n13  SJ95423     Arizona              8819.018934      Yes     Basic   \n14  IL66569  California              5384.431665       No     Basic   \n15  BW63560      Oregon              7463.139377       No     Basic   \n16  FV94802      Nevada              2566.867823       No     Basic   \n17  OE15005  California              3945.241604       No     Basic   \n18  WC83389      Oregon              5710.333115       No     Basic   \n19  FL50705  California              8162.617053       No   Premium   \n\n               Education Effective To Date EmploymentStatus Gender  Income  \\\n0               Bachelor           2/24/11         Employed      F   56274   \n1               Bachelor           1/31/11       Unemployed      F       0   \n2               Bachelor           2/19/11         Employed      F   48767   \n3               Bachelor           1/20/11       Unemployed      M       0   \n4               Bachelor            2/3/11         Employed      M   43836   \n5               Bachelor           1/25/11         Employed      F   62902   \n6                College           2/24/11         Employed      F   55350   \n7                 Master           1/18/11       Unemployed      M       0   \n8               Bachelor           1/26/11    Medical Leave      M   14072   \n9                College           2/17/11         Employed      F   28812   \n10               College           2/21/11       Unemployed      M       0   \n11               College            1/6/11       Unemployed      F       0   \n12                Master            2/6/11         Employed      M   77026   \n13  High School or Below           1/10/11         Employed      M   99845   \n14               College           1/18/11         Employed      M   83689   \n15              Bachelor           1/17/11         Employed      F   24599   \n16  High School or Below            2/6/11    Medical Leave      M   25049   \n17               College            1/5/11    Medical Leave      M   28855   \n18               College           2/27/11         Employed      M   51148   \n19  High School or Below           1/14/11         Employed      F   66140   \n\n    ... Months Since Policy Inception Number of Open Complaints  \\\n0   ...                             5                         0   \n1   ...                            42                         0   \n2   ...                            38                         0   \n3   ...                            65                         0   \n4   ...                            44                         0   \n5   ...                            94                         0   \n6   ...                            13                         0   \n7   ...                            68                         0   \n8   ...                             3                         0   \n9   ...                             7                         0   \n10  ...                             5                         0   \n11  ...                            87                         0   \n12  ...                            82                         2   \n13  ...                            25                         1   \n14  ...                            10                         2   \n15  ...                            50                         1   \n16  ...                             7                         0   \n17  ...                            59                         0   \n18  ...                             1                         0   \n19  ...                            21                         0   \n\n    Number of Policies     Policy Type        Policy  Renew Offer Type  \\\n0                    1  Corporate Auto  Corporate L3            Offer1   \n1                    8   Personal Auto   Personal L3            Offer3   \n2                    2   Personal Auto   Personal L3            Offer1   \n3                    7  Corporate Auto  Corporate L2            Offer1   \n4                    1   Personal Auto   Personal L1            Offer1   \n5                    2   Personal Auto   Personal L3            Offer2   \n6                    9  Corporate Auto  Corporate L3            Offer1   \n7                    4  Corporate Auto  Corporate L3            Offer1   \n8                    2  Corporate Auto  Corporate L3            Offer1   \n9                    8    Special Auto    Special L2            Offer2   \n10                   3   Personal Auto   Personal L3            Offer1   \n11                   3   Personal Auto   Personal L3            Offer2   \n12                   3  Corporate Auto  Corporate L1            Offer2   \n13                   8  Corporate Auto  Corporate L3            Offer2   \n14                   8  Corporate Auto  Corporate L3            Offer4   \n15                   2  Corporate Auto  Corporate L2            Offer2   \n16                   1   Personal Auto   Personal L3            Offer2   \n17                   1   Personal Auto   Personal L2            Offer3   \n18                   7   Personal Auto   Personal L2            Offer2   \n19                   3  Corporate Auto  Corporate L2            Offer1   \n\n    Sales Channel Total Claim Amount  Vehicle Class Vehicle Size  \n0           Agent         384.811147   Two-Door Car      Medsize  \n1           Agent        1131.464935  Four-Door Car      Medsize  \n2           Agent         566.472247   Two-Door Car      Medsize  \n3     Call Center         529.881344            SUV      Medsize  \n4           Agent         138.130879  Four-Door Car      Medsize  \n5             Web         159.383042   Two-Door Car      Medsize  \n6           Agent         321.600000  Four-Door Car      Medsize  \n7           Agent         363.029680  Four-Door Car      Medsize  \n8           Agent         511.200000  Four-Door Car      Medsize  \n9          Branch         425.527834  Four-Door Car      Medsize  \n10          Agent         482.400000  Four-Door Car        Small  \n11          Agent         528.000000            SUV      Medsize  \n12          Agent         472.029737  Four-Door Car      Medsize  \n13         Branch         528.000000            SUV      Medsize  \n14    Call Center         307.139132  Four-Door Car      Medsize  \n15         Branch          42.920271  Four-Door Car      Medsize  \n16    Call Center         454.245098   Two-Door Car      Medsize  \n17    Call Center         647.442031            SUV      Medsize  \n18         Branch         308.981664  Four-Door Car      Medsize  \n19    Call Center         484.800000  Four-Door Car        Small  \n\n[20 rows x 24 columns]",
      "text/html": "<div>\n<style scoped>\n    .dataframe tbody tr th:only-of-type {\n        vertical-align: middle;\n    }\n\n    .dataframe tbody tr th {\n        vertical-align: top;\n    }\n\n    .dataframe thead th {\n        text-align: right;\n    }\n</style>\n<table border=\"1\" class=\"dataframe\">\n  <thead>\n    <tr style=\"text-align: right;\">\n      <th></th>\n      <th>Customer</th>\n      <th>State</th>\n      <th>Customer Lifetime Value</th>\n      <th>Response</th>\n      <th>Coverage</th>\n      <th>Education</th>\n      <th>Effective To Date</th>\n      <th>EmploymentStatus</th>\n      <th>Gender</th>\n      <th>Income</th>\n      <th>...</th>\n      <th>Months Since Policy Inception</th>\n      <th>Number of Open Complaints</th>\n      <th>Number of Policies</th>\n      <th>Policy Type</th>\n      <th>Policy</th>\n      <th>Renew Offer Type</th>\n      <th>Sales Channel</th>\n      <th>Total Claim Amount</th>\n      <th>Vehicle Class</th>\n      <th>Vehicle Size</th>\n    </tr>\n  </thead>\n  <tbody>\n    <tr>\n      <th>0</th>\n      <td>BU79786</td>\n      <td>Washington</td>\n      <td>2763.519279</td>\n      <td>No</td>\n      <td>Basic</td>\n      <td>Bachelor</td>\n      <td>2/24/11</td>\n      <td>Employed</td>\n      <td>F</td>\n      <td>56274</td>\n      <td>...</td>\n      <td>5</td>\n      <td>0</td>\n      <td>1</td>\n      <td>Corporate Auto</td>\n      <td>Corporate L3</td>\n      <td>Offer1</td>\n      <td>Agent</td>\n      <td>384.811147</td>\n      <td>Two-Door Car</td>\n      <td>Medsize</td>\n    </tr>\n    <tr>\n      <th>1</th>\n      <td>QZ44356</td>\n      <td>Arizona</td>\n      <td>6979.535903</td>\n      <td>No</td>\n      <td>Extended</td>\n      <td>Bachelor</td>\n      <td>1/31/11</td>\n      <td>Unemployed</td>\n      <td>F</td>\n      <td>0</td>\n      <td>...</td>\n      <td>42</td>\n      <td>0</td>\n      <td>8</td>\n      <td>Personal Auto</td>\n      <td>Personal L3</td>\n      <td>Offer3</td>\n      <td>Agent</td>\n      <td>1131.464935</td>\n      <td>Four-Door Car</td>\n      <td>Medsize</td>\n    </tr>\n    <tr>\n      <th>2</th>\n      <td>AI49188</td>\n      <td>Nevada</td>\n      <td>12887.431650</td>\n      <td>No</td>\n      <td>Premium</td>\n      <td>Bachelor</td>\n      <td>2/19/11</td>\n      <td>Employed</td>\n      <td>F</td>\n      <td>48767</td>\n      <td>...</td>\n      <td>38</td>\n      <td>0</td>\n      <td>2</td>\n      <td>Personal Auto</td>\n      <td>Personal L3</td>\n      <td>Offer1</td>\n      <td>Agent</td>\n      <td>566.472247</td>\n      <td>Two-Door Car</td>\n      <td>Medsize</td>\n    </tr>\n    <tr>\n      <th>3</th>\n      <td>WW63253</td>\n      <td>California</td>\n      <td>7645.861827</td>\n      <td>No</td>\n      <td>Basic</td>\n      <td>Bachelor</td>\n      <td>1/20/11</td>\n      <td>Unemployed</td>\n      <td>M</td>\n      <td>0</td>\n      <td>...</td>\n      <td>65</td>\n      <td>0</td>\n      <td>7</td>\n      <td>Corporate Auto</td>\n      <td>Corporate L2</td>\n      <td>Offer1</td>\n      <td>Call Center</td>\n      <td>529.881344</td>\n      <td>SUV</td>\n      <td>Medsize</td>\n    </tr>\n    <tr>\n      <th>4</th>\n      <td>HB64268</td>\n      <td>Washington</td>\n      <td>2813.692575</td>\n      <td>No</td>\n      <td>Basic</td>\n      <td>Bachelor</td>\n      <td>2/3/11</td>\n      <td>Employed</td>\n      <td>M</td>\n      <td>43836</td>\n      <td>...</td>\n      <td>44</td>\n      <td>0</td>\n      <td>1</td>\n      <td>Personal Auto</td>\n      <td>Personal L1</td>\n      <td>Offer1</td>\n      <td>Agent</td>\n      <td>138.130879</td>\n      <td>Four-Door Car</td>\n      <td>Medsize</td>\n    </tr>\n    <tr>\n      <th>5</th>\n      <td>OC83172</td>\n      <td>Oregon</td>\n      <td>8256.297800</td>\n      <td>Yes</td>\n      <td>Basic</td>\n      <td>Bachelor</td>\n      <td>1/25/11</td>\n      <td>Employed</td>\n      <td>F</td>\n      <td>62902</td>\n      <td>...</td>\n      <td>94</td>\n      <td>0</td>\n      <td>2</td>\n      <td>Personal Auto</td>\n      <td>Personal L3</td>\n      <td>Offer2</td>\n      <td>Web</td>\n      <td>159.383042</td>\n      <td>Two-Door Car</td>\n      <td>Medsize</td>\n    </tr>\n    <tr>\n      <th>6</th>\n      <td>XZ87318</td>\n      <td>Oregon</td>\n      <td>5380.898636</td>\n      <td>Yes</td>\n      <td>Basic</td>\n      <td>College</td>\n      <td>2/24/11</td>\n      <td>Employed</td>\n      <td>F</td>\n      <td>55350</td>\n      <td>...</td>\n      <td>13</td>\n      <td>0</td>\n      <td>9</td>\n      <td>Corporate Auto</td>\n      <td>Corporate L3</td>\n      <td>Offer1</td>\n      <td>Agent</td>\n      <td>321.600000</td>\n      <td>Four-Door Car</td>\n      <td>Medsize</td>\n    </tr>\n    <tr>\n      <th>7</th>\n      <td>CF85061</td>\n      <td>Arizona</td>\n      <td>7216.100311</td>\n      <td>No</td>\n      <td>Premium</td>\n      <td>Master</td>\n      <td>1/18/11</td>\n      <td>Unemployed</td>\n      <td>M</td>\n      <td>0</td>\n      <td>...</td>\n      <td>68</td>\n      <td>0</td>\n      <td>4</td>\n      <td>Corporate Auto</td>\n      <td>Corporate L3</td>\n      <td>Offer1</td>\n      <td>Agent</td>\n      <td>363.029680</td>\n      <td>Four-Door Car</td>\n      <td>Medsize</td>\n    </tr>\n    <tr>\n      <th>8</th>\n      <td>DY87989</td>\n      <td>Oregon</td>\n      <td>24127.504020</td>\n      <td>Yes</td>\n      <td>Basic</td>\n      <td>Bachelor</td>\n      <td>1/26/11</td>\n      <td>Medical Leave</td>\n      <td>M</td>\n      <td>14072</td>\n      <td>...</td>\n      <td>3</td>\n      <td>0</td>\n      <td>2</td>\n      <td>Corporate Auto</td>\n      <td>Corporate L3</td>\n      <td>Offer1</td>\n      <td>Agent</td>\n      <td>511.200000</td>\n      <td>Four-Door Car</td>\n      <td>Medsize</td>\n    </tr>\n    <tr>\n      <th>9</th>\n      <td>BQ94931</td>\n      <td>Oregon</td>\n      <td>7388.178085</td>\n      <td>No</td>\n      <td>Extended</td>\n      <td>College</td>\n      <td>2/17/11</td>\n      <td>Employed</td>\n      <td>F</td>\n      <td>28812</td>\n      <td>...</td>\n      <td>7</td>\n      <td>0</td>\n      <td>8</td>\n      <td>Special Auto</td>\n      <td>Special L2</td>\n      <td>Offer2</td>\n      <td>Branch</td>\n      <td>425.527834</td>\n      <td>Four-Door Car</td>\n      <td>Medsize</td>\n    </tr>\n    <tr>\n      <th>10</th>\n      <td>SX51350</td>\n      <td>California</td>\n      <td>4738.992022</td>\n      <td>No</td>\n      <td>Basic</td>\n      <td>College</td>\n      <td>2/21/11</td>\n      <td>Unemployed</td>\n      <td>M</td>\n      <td>0</td>\n      <td>...</td>\n      <td>5</td>\n      <td>0</td>\n      <td>3</td>\n      <td>Personal Auto</td>\n      <td>Personal L3</td>\n      <td>Offer1</td>\n      <td>Agent</td>\n      <td>482.400000</td>\n      <td>Four-Door Car</td>\n      <td>Small</td>\n    </tr>\n    <tr>\n      <th>11</th>\n      <td>VQ65197</td>\n      <td>California</td>\n      <td>8197.197078</td>\n      <td>No</td>\n      <td>Basic</td>\n      <td>College</td>\n      <td>1/6/11</td>\n      <td>Unemployed</td>\n      <td>F</td>\n      <td>0</td>\n      <td>...</td>\n      <td>87</td>\n      <td>0</td>\n      <td>3</td>\n      <td>Personal Auto</td>\n      <td>Personal L3</td>\n      <td>Offer2</td>\n      <td>Agent</td>\n      <td>528.000000</td>\n      <td>SUV</td>\n      <td>Medsize</td>\n    </tr>\n    <tr>\n      <th>12</th>\n      <td>DP39365</td>\n      <td>California</td>\n      <td>8798.797003</td>\n      <td>No</td>\n      <td>Premium</td>\n      <td>Master</td>\n      <td>2/6/11</td>\n      <td>Employed</td>\n      <td>M</td>\n      <td>77026</td>\n      <td>...</td>\n      <td>82</td>\n      <td>2</td>\n      <td>3</td>\n      <td>Corporate Auto</td>\n      <td>Corporate L1</td>\n      <td>Offer2</td>\n      <td>Agent</td>\n      <td>472.029737</td>\n      <td>Four-Door Car</td>\n      <td>Medsize</td>\n    </tr>\n    <tr>\n      <th>13</th>\n      <td>SJ95423</td>\n      <td>Arizona</td>\n      <td>8819.018934</td>\n      <td>Yes</td>\n      <td>Basic</td>\n      <td>High School or Below</td>\n      <td>1/10/11</td>\n      <td>Employed</td>\n      <td>M</td>\n      <td>99845</td>\n      <td>...</td>\n      <td>25</td>\n      <td>1</td>\n      <td>8</td>\n      <td>Corporate Auto</td>\n      <td>Corporate L3</td>\n      <td>Offer2</td>\n      <td>Branch</td>\n      <td>528.000000</td>\n      <td>SUV</td>\n      <td>Medsize</td>\n    </tr>\n    <tr>\n      <th>14</th>\n      <td>IL66569</td>\n      <td>California</td>\n      <td>5384.431665</td>\n      <td>No</td>\n      <td>Basic</td>\n      <td>College</td>\n      <td>1/18/11</td>\n      <td>Employed</td>\n      <td>M</td>\n      <td>83689</td>\n      <td>...</td>\n      <td>10</td>\n      <td>2</td>\n      <td>8</td>\n      <td>Corporate Auto</td>\n      <td>Corporate L3</td>\n      <td>Offer4</td>\n      <td>Call Center</td>\n      <td>307.139132</td>\n      <td>Four-Door Car</td>\n      <td>Medsize</td>\n    </tr>\n    <tr>\n      <th>15</th>\n      <td>BW63560</td>\n      <td>Oregon</td>\n      <td>7463.139377</td>\n      <td>No</td>\n      <td>Basic</td>\n      <td>Bachelor</td>\n      <td>1/17/11</td>\n      <td>Employed</td>\n      <td>F</td>\n      <td>24599</td>\n      <td>...</td>\n      <td>50</td>\n      <td>1</td>\n      <td>2</td>\n      <td>Corporate Auto</td>\n      <td>Corporate L2</td>\n      <td>Offer2</td>\n      <td>Branch</td>\n      <td>42.920271</td>\n      <td>Four-Door Car</td>\n      <td>Medsize</td>\n    </tr>\n    <tr>\n      <th>16</th>\n      <td>FV94802</td>\n      <td>Nevada</td>\n      <td>2566.867823</td>\n      <td>No</td>\n      <td>Basic</td>\n      <td>High School or Below</td>\n      <td>2/6/11</td>\n      <td>Medical Leave</td>\n      <td>M</td>\n      <td>25049</td>\n      <td>...</td>\n      <td>7</td>\n      <td>0</td>\n      <td>1</td>\n      <td>Personal Auto</td>\n      <td>Personal L3</td>\n      <td>Offer2</td>\n      <td>Call Center</td>\n      <td>454.245098</td>\n      <td>Two-Door Car</td>\n      <td>Medsize</td>\n    </tr>\n    <tr>\n      <th>17</th>\n      <td>OE15005</td>\n      <td>California</td>\n      <td>3945.241604</td>\n      <td>No</td>\n      <td>Basic</td>\n      <td>College</td>\n      <td>1/5/11</td>\n      <td>Medical Leave</td>\n      <td>M</td>\n      <td>28855</td>\n      <td>...</td>\n      <td>59</td>\n      <td>0</td>\n      <td>1</td>\n      <td>Personal Auto</td>\n      <td>Personal L2</td>\n      <td>Offer3</td>\n      <td>Call Center</td>\n      <td>647.442031</td>\n      <td>SUV</td>\n      <td>Medsize</td>\n    </tr>\n    <tr>\n      <th>18</th>\n      <td>WC83389</td>\n      <td>Oregon</td>\n      <td>5710.333115</td>\n      <td>No</td>\n      <td>Basic</td>\n      <td>College</td>\n      <td>2/27/11</td>\n      <td>Employed</td>\n      <td>M</td>\n      <td>51148</td>\n      <td>...</td>\n      <td>1</td>\n      <td>0</td>\n      <td>7</td>\n      <td>Personal Auto</td>\n      <td>Personal L2</td>\n      <td>Offer2</td>\n      <td>Branch</td>\n      <td>308.981664</td>\n      <td>Four-Door Car</td>\n      <td>Medsize</td>\n    </tr>\n    <tr>\n      <th>19</th>\n      <td>FL50705</td>\n      <td>California</td>\n      <td>8162.617053</td>\n      <td>No</td>\n      <td>Premium</td>\n      <td>High School or Below</td>\n      <td>1/14/11</td>\n      <td>Employed</td>\n      <td>F</td>\n      <td>66140</td>\n      <td>...</td>\n      <td>21</td>\n      <td>0</td>\n      <td>3</td>\n      <td>Corporate Auto</td>\n      <td>Corporate L2</td>\n      <td>Offer1</td>\n      <td>Call Center</td>\n      <td>484.800000</td>\n      <td>Four-Door Car</td>\n      <td>Small</td>\n    </tr>\n  </tbody>\n</table>\n<p>20 rows × 24 columns</p>\n</div>"
     },
     "metadata": {},
     "execution_count": 20
    }
   ],
   "source": [
    "data[:20][:]"
   ]
  },
  {
   "cell_type": "code",
   "execution_count": 22,
   "metadata": {},
   "outputs": [
    {
     "output_type": "execute_result",
     "data": {
      "text/plain": "array(['Basic', 'Extended', 'Premium'], dtype=object)"
     },
     "metadata": {},
     "execution_count": 22
    }
   ],
   "source": [
    "data.Coverage.unique()"
   ]
  },
  {
   "cell_type": "code",
   "execution_count": 26,
   "metadata": {},
   "outputs": [
    {
     "output_type": "execute_result",
     "data": {
      "text/plain": "'2/9/11'"
     },
     "metadata": {},
     "execution_count": 26
    }
   ],
   "source": [
    "data['Effective To Date'].max()"
   ]
  },
  {
   "cell_type": "code",
   "execution_count": 27,
   "metadata": {},
   "outputs": [
    {
     "output_type": "execute_result",
     "data": {
      "text/plain": "'1/1/11'"
     },
     "metadata": {},
     "execution_count": 27
    }
   ],
   "source": [
    "data['Effective To Date'].min()"
   ]
  },
  {
   "cell_type": "code",
   "execution_count": 28,
   "metadata": {},
   "outputs": [
    {
     "output_type": "execute_result",
     "data": {
      "text/plain": "array(['Corporate Auto', 'Personal Auto', 'Special Auto'], dtype=object)"
     },
     "metadata": {},
     "execution_count": 28
    }
   ],
   "source": [
    "data['Policy Type'].unique()"
   ]
  },
  {
   "cell_type": "code",
   "execution_count": 29,
   "metadata": {},
   "outputs": [
    {
     "output_type": "execute_result",
     "data": {
      "text/plain": "array(['Corporate L3', 'Personal L3', 'Corporate L2', 'Personal L1',\n       'Special L2', 'Corporate L1', 'Personal L2', 'Special L1',\n       'Special L3'], dtype=object)"
     },
     "metadata": {},
     "execution_count": 29
    }
   ],
   "source": [
    "data['Policy'].unique()"
   ]
  },
  {
   "cell_type": "code",
   "execution_count": 32,
   "metadata": {},
   "outputs": [],
   "source": [
    "renew_offer=data['Renew Offer Type'].unique()"
   ]
  },
  {
   "cell_type": "code",
   "execution_count": 40,
   "metadata": {
    "tags": []
   },
   "outputs": [
    {
     "output_type": "stream",
     "name": "stdout",
     "text": "['Offer1' 'Offer3' 'Offer2' 'Offer4']\n"
    }
   ],
   "source": [
    "print(renew_offer[:])"
   ]
  },
  {
   "cell_type": "code",
   "execution_count": 42,
   "metadata": {},
   "outputs": [
    {
     "output_type": "execute_result",
     "data": {
      "text/plain": "array(['Agent', 'Call Center', 'Web', 'Branch'], dtype=object)"
     },
     "metadata": {},
     "execution_count": 42
    }
   ],
   "source": [
    "data['Sales Channel'].unique()"
   ]
  },
  {
   "cell_type": "code",
   "execution_count": 44,
   "metadata": {},
   "outputs": [
    {
     "output_type": "execute_result",
     "data": {
      "text/plain": "1       8\n3       7\n6       9\n7       4\n9       8\n       ..\n9119    3\n9123    3\n9126    4\n9127    3\n9132    3\nName: Number of Policies, Length: 3589, dtype: int64"
     },
     "metadata": {},
     "execution_count": 44
    }
   ],
   "source": [
    "data[data['Number of Policies']>2]['Number of Policies']"
   ]
  },
  {
   "cell_type": "code",
   "execution_count": 45,
   "metadata": {},
   "outputs": [
    {
     "output_type": "execute_result",
     "data": {
      "text/plain": "array([ 69,  94, 108, 106,  73,  67, 101,  71,  93, 110,  70,  64,  72,\n        74,  79,  61, 111, 139,  80,  63, 237,  65,  62, 117,  91,  90,\n        66,  99, 103, 172,  92, 104, 113, 124, 105, 100, 112,  97,  95,\n       102, 186,  77,  96,  76, 119,  88, 109, 107, 130,  85,  98, 133,\n        86,  78,  83,  68, 192, 118,  89, 140, 127, 168, 126,  82, 115,\n       217, 114, 138,  81, 255, 150, 123, 116, 190, 159,  84, 152, 136,\n       245, 135, 128, 225, 132, 153, 121, 154, 161, 156, 171,  87, 244,\n       183, 176, 230, 129, 177, 196, 131, 276, 253, 137, 180, 203, 147,\n       165, 198, 125, 193, 271, 188, 142, 206, 182, 189, 160, 295, 210,\n       134, 239, 256, 173, 285, 148, 197, 199, 214, 175, 167, 194, 164,\n       181, 222, 215, 283, 169, 248, 223, 273, 151, 213, 145, 185, 287,\n       297, 201, 149, 146, 235, 268, 211, 187, 141, 242, 170, 122, 143,\n       155, 166, 212, 249, 240, 191, 195, 216, 144, 179, 232, 158, 207,\n       184, 238, 229, 220, 178, 204, 281, 234, 218, 275, 209, 261, 157,\n       205, 228, 284, 231, 208, 296, 202, 162, 274, 219, 247, 290, 226,\n       163, 298, 266, 254, 252, 174, 286], dtype=int64)"
     },
     "metadata": {},
     "execution_count": 45
    }
   ],
   "source": [
    "data['Monthly Premium Auto'].unique()"
   ]
  },
  {
   "cell_type": "code",
   "execution_count": 46,
   "metadata": {},
   "outputs": [
    {
     "output_type": "execute_result",
     "data": {
      "text/plain": "array(['Two-Door Car', 'Four-Door Car', 'SUV', 'Luxury SUV', 'Sports Car',\n       'Luxury Car'], dtype=object)"
     },
     "metadata": {},
     "execution_count": 46
    }
   ],
   "source": [
    "data['Vehicle Class'].unique()"
   ]
  },
  {
   "cell_type": "code",
   "execution_count": 47,
   "metadata": {},
   "outputs": [
    {
     "output_type": "execute_result",
     "data": {
      "text/plain": "array(['Medsize', 'Small', 'Large'], dtype=object)"
     },
     "metadata": {},
     "execution_count": 47
    }
   ],
   "source": [
    "data['Vehicle Size'].unique()"
   ]
  },
  {
   "cell_type": "code",
   "execution_count": null,
   "metadata": {},
   "outputs": [],
   "source": []
  }
 ],
 "metadata": {
  "language_info": {
   "codemirror_mode": {
    "name": "ipython",
    "version": 3
   },
   "file_extension": ".py",
   "mimetype": "text/x-python",
   "name": "python",
   "nbconvert_exporter": "python",
   "pygments_lexer": "ipython3",
   "version": 3
  },
  "orig_nbformat": 2,
  "kernelspec": {
   "name": "python_defaultSpec_1594940218232",
   "display_name": "Python 3.7.7 64-bit ('recsys': conda)"
  }
 },
 "nbformat": 4,
 "nbformat_minor": 2
}