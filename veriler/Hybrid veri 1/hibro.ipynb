{
 "metadata": {
  "language_info": {
   "codemirror_mode": {
    "name": "ipython",
    "version": 3
   },
   "file_extension": ".py",
   "mimetype": "text/x-python",
   "name": "python",
   "nbconvert_exporter": "python",
   "pygments_lexer": "ipython3",
   "version": 3
  },
  "orig_nbformat": 2,
  "kernelspec": {
   "name": "python_defaultSpec_1595416661085",
   "display_name": "Python 3.7.7 64-bit ('recsys': conda)"
  }
 },
 "nbformat": 4,
 "nbformat_minor": 2,
 "cells": [
  {
   "cell_type": "code",
   "execution_count": 1,
   "metadata": {},
   "outputs": [],
   "source": [
    "import numpy as np\n",
    "import pandas as pd"
   ]
  },
  {
   "cell_type": "code",
   "execution_count": 8,
   "metadata": {},
   "outputs": [
    {
     "output_type": "execute_result",
     "data": {
      "text/plain": "   Unnamed: 0  id  campaign_id  coupon_id  customer_id  redemption_status  \\\n0           0   1           13         27         1053                  1   \n1           1   2           13        116           48                  1   \n2           2   6            9        635          205                  1   \n3           3   7           13        644         1050                  1   \n4           4   9            8       1017         1489                  1   \n\n   recency  history  used_discount  used_bogo  is_referral channel  \\\n0       10   142.44              1          0            0   Phone   \n1        6   329.08              1          1            1     Web   \n2        7   180.65              0          1            1     Web   \n3        9   675.83              1          0            1     Web   \n4        2    45.34              1          0            0     Web   \n\n             offer  conversion  \n0  Buy One Get One           0  \n1         No Offer           0  \n2  Buy One Get One           0  \n3         Discount           0  \n4  Buy One Get One           0  ",
      "text/html": "<div>\n<style scoped>\n    .dataframe tbody tr th:only-of-type {\n        vertical-align: middle;\n    }\n\n    .dataframe tbody tr th {\n        vertical-align: top;\n    }\n\n    .dataframe thead th {\n        text-align: right;\n    }\n</style>\n<table border=\"1\" class=\"dataframe\">\n  <thead>\n    <tr style=\"text-align: right;\">\n      <th></th>\n      <th>Unnamed: 0</th>\n      <th>id</th>\n      <th>campaign_id</th>\n      <th>coupon_id</th>\n      <th>customer_id</th>\n      <th>redemption_status</th>\n      <th>recency</th>\n      <th>history</th>\n      <th>used_discount</th>\n      <th>used_bogo</th>\n      <th>is_referral</th>\n      <th>channel</th>\n      <th>offer</th>\n      <th>conversion</th>\n    </tr>\n  </thead>\n  <tbody>\n    <tr>\n      <th>0</th>\n      <td>0</td>\n      <td>1</td>\n      <td>13</td>\n      <td>27</td>\n      <td>1053</td>\n      <td>1</td>\n      <td>10</td>\n      <td>142.44</td>\n      <td>1</td>\n      <td>0</td>\n      <td>0</td>\n      <td>Phone</td>\n      <td>Buy One Get One</td>\n      <td>0</td>\n    </tr>\n    <tr>\n      <th>1</th>\n      <td>1</td>\n      <td>2</td>\n      <td>13</td>\n      <td>116</td>\n      <td>48</td>\n      <td>1</td>\n      <td>6</td>\n      <td>329.08</td>\n      <td>1</td>\n      <td>1</td>\n      <td>1</td>\n      <td>Web</td>\n      <td>No Offer</td>\n      <td>0</td>\n    </tr>\n    <tr>\n      <th>2</th>\n      <td>2</td>\n      <td>6</td>\n      <td>9</td>\n      <td>635</td>\n      <td>205</td>\n      <td>1</td>\n      <td>7</td>\n      <td>180.65</td>\n      <td>0</td>\n      <td>1</td>\n      <td>1</td>\n      <td>Web</td>\n      <td>Buy One Get One</td>\n      <td>0</td>\n    </tr>\n    <tr>\n      <th>3</th>\n      <td>3</td>\n      <td>7</td>\n      <td>13</td>\n      <td>644</td>\n      <td>1050</td>\n      <td>1</td>\n      <td>9</td>\n      <td>675.83</td>\n      <td>1</td>\n      <td>0</td>\n      <td>1</td>\n      <td>Web</td>\n      <td>Discount</td>\n      <td>0</td>\n    </tr>\n    <tr>\n      <th>4</th>\n      <td>4</td>\n      <td>9</td>\n      <td>8</td>\n      <td>1017</td>\n      <td>1489</td>\n      <td>1</td>\n      <td>2</td>\n      <td>45.34</td>\n      <td>1</td>\n      <td>0</td>\n      <td>0</td>\n      <td>Web</td>\n      <td>Buy One Get One</td>\n      <td>0</td>\n    </tr>\n  </tbody>\n</table>\n</div>"
     },
     "metadata": {},
     "execution_count": 8
    }
   ],
   "source": [
    "hybrid = pd.read_csv('hybrid.csv')\n",
    "#hybrid.iloc[:,0]\n",
    "hybrid.head()"
   ]
  },
  {
   "cell_type": "code",
   "execution_count": 10,
   "metadata": {},
   "outputs": [],
   "source": [
    "hybrid = hybrid.drop(['Unnamed: 0'], axis=1)"
   ]
  },
  {
   "cell_type": "code",
   "execution_count": null,
   "metadata": {},
   "outputs": [],
   "source": []
  },
  {
   "cell_type": "code",
   "execution_count": 13,
   "metadata": {},
   "outputs": [
    {
     "output_type": "execute_result",
     "data": {
      "text/plain": "           id  campaign_id  coupon_id  customer_id  redemption_status  \\\n5          11           11        795          793                  1   \n10         20            9        575          108                  1   \n13         23           13        517         1067                  1   \n15         25           13        796          248                  1   \n22         33           12        109          553                  1   \n...       ...          ...        ...          ...                ...   \n63995  105100            8        559           34                  0   \n63996  105102           30        918          369                  0   \n63997  105103           26        502          233                  0   \n63998  105104            8        432          770                  0   \n63999  105105           29        787          669                  0   \n\n       recency  history  used_discount  used_bogo  is_referral       channel  \\\n5            6   134.83              0          1            0         Phone   \n10           7   548.91              0          1            1         Phone   \n13           2   101.64              0          1            0           Web   \n15           3    58.13              1          0            1           Web   \n22           2   118.40              1          0            0           Web   \n...        ...      ...            ...        ...          ...           ...   \n63995       10   105.54              1          0            0           Web   \n63996        5    38.91              0          1            1         Phone   \n63997        6    29.99              1          0            1         Phone   \n63998        1   552.94              1          0            1  Multichannel   \n63999        1   472.82              0          1            0           Web   \n\n                 offer  conversion  \n5      Buy One Get One           1  \n10     Buy One Get One           1  \n13            Discount           1  \n15            No Offer           1  \n22            Discount           1  \n...                ...         ...  \n63995         Discount           0  \n63996         Discount           0  \n63997         Discount           0  \n63998  Buy One Get One           0  \n63999         Discount           0  \n\n[47888 rows x 13 columns]",
      "text/html": "<div>\n<style scoped>\n    .dataframe tbody tr th:only-of-type {\n        vertical-align: middle;\n    }\n\n    .dataframe tbody tr th {\n        vertical-align: top;\n    }\n\n    .dataframe thead th {\n        text-align: right;\n    }\n</style>\n<table border=\"1\" class=\"dataframe\">\n  <thead>\n    <tr style=\"text-align: right;\">\n      <th></th>\n      <th>id</th>\n      <th>campaign_id</th>\n      <th>coupon_id</th>\n      <th>customer_id</th>\n      <th>redemption_status</th>\n      <th>recency</th>\n      <th>history</th>\n      <th>used_discount</th>\n      <th>used_bogo</th>\n      <th>is_referral</th>\n      <th>channel</th>\n      <th>offer</th>\n      <th>conversion</th>\n    </tr>\n  </thead>\n  <tbody>\n    <tr>\n      <th>5</th>\n      <td>11</td>\n      <td>11</td>\n      <td>795</td>\n      <td>793</td>\n      <td>1</td>\n      <td>6</td>\n      <td>134.83</td>\n      <td>0</td>\n      <td>1</td>\n      <td>0</td>\n      <td>Phone</td>\n      <td>Buy One Get One</td>\n      <td>1</td>\n    </tr>\n    <tr>\n      <th>10</th>\n      <td>20</td>\n      <td>9</td>\n      <td>575</td>\n      <td>108</td>\n      <td>1</td>\n      <td>7</td>\n      <td>548.91</td>\n      <td>0</td>\n      <td>1</td>\n      <td>1</td>\n      <td>Phone</td>\n      <td>Buy One Get One</td>\n      <td>1</td>\n    </tr>\n    <tr>\n      <th>13</th>\n      <td>23</td>\n      <td>13</td>\n      <td>517</td>\n      <td>1067</td>\n      <td>1</td>\n      <td>2</td>\n      <td>101.64</td>\n      <td>0</td>\n      <td>1</td>\n      <td>0</td>\n      <td>Web</td>\n      <td>Discount</td>\n      <td>1</td>\n    </tr>\n    <tr>\n      <th>15</th>\n      <td>25</td>\n      <td>13</td>\n      <td>796</td>\n      <td>248</td>\n      <td>1</td>\n      <td>3</td>\n      <td>58.13</td>\n      <td>1</td>\n      <td>0</td>\n      <td>1</td>\n      <td>Web</td>\n      <td>No Offer</td>\n      <td>1</td>\n    </tr>\n    <tr>\n      <th>22</th>\n      <td>33</td>\n      <td>12</td>\n      <td>109</td>\n      <td>553</td>\n      <td>1</td>\n      <td>2</td>\n      <td>118.40</td>\n      <td>1</td>\n      <td>0</td>\n      <td>0</td>\n      <td>Web</td>\n      <td>Discount</td>\n      <td>1</td>\n    </tr>\n    <tr>\n      <th>...</th>\n      <td>...</td>\n      <td>...</td>\n      <td>...</td>\n      <td>...</td>\n      <td>...</td>\n      <td>...</td>\n      <td>...</td>\n      <td>...</td>\n      <td>...</td>\n      <td>...</td>\n      <td>...</td>\n      <td>...</td>\n      <td>...</td>\n    </tr>\n    <tr>\n      <th>63995</th>\n      <td>105100</td>\n      <td>8</td>\n      <td>559</td>\n      <td>34</td>\n      <td>0</td>\n      <td>10</td>\n      <td>105.54</td>\n      <td>1</td>\n      <td>0</td>\n      <td>0</td>\n      <td>Web</td>\n      <td>Discount</td>\n      <td>0</td>\n    </tr>\n    <tr>\n      <th>63996</th>\n      <td>105102</td>\n      <td>30</td>\n      <td>918</td>\n      <td>369</td>\n      <td>0</td>\n      <td>5</td>\n      <td>38.91</td>\n      <td>0</td>\n      <td>1</td>\n      <td>1</td>\n      <td>Phone</td>\n      <td>Discount</td>\n      <td>0</td>\n    </tr>\n    <tr>\n      <th>63997</th>\n      <td>105103</td>\n      <td>26</td>\n      <td>502</td>\n      <td>233</td>\n      <td>0</td>\n      <td>6</td>\n      <td>29.99</td>\n      <td>1</td>\n      <td>0</td>\n      <td>1</td>\n      <td>Phone</td>\n      <td>Discount</td>\n      <td>0</td>\n    </tr>\n    <tr>\n      <th>63998</th>\n      <td>105104</td>\n      <td>8</td>\n      <td>432</td>\n      <td>770</td>\n      <td>0</td>\n      <td>1</td>\n      <td>552.94</td>\n      <td>1</td>\n      <td>0</td>\n      <td>1</td>\n      <td>Multichannel</td>\n      <td>Buy One Get One</td>\n      <td>0</td>\n    </tr>\n    <tr>\n      <th>63999</th>\n      <td>105105</td>\n      <td>29</td>\n      <td>787</td>\n      <td>669</td>\n      <td>0</td>\n      <td>1</td>\n      <td>472.82</td>\n      <td>0</td>\n      <td>1</td>\n      <td>0</td>\n      <td>Web</td>\n      <td>Discount</td>\n      <td>0</td>\n    </tr>\n  </tbody>\n</table>\n<p>47888 rows × 13 columns</p>\n</div>"
     },
     "metadata": {},
     "execution_count": 13
    }
   ],
   "source": [
    "hybrid[hybrid['redemption_status'] == hybrid['conversion']]"
   ]
  },
  {
   "cell_type": "code",
   "execution_count": 27,
   "metadata": {},
   "outputs": [
    {
     "output_type": "execute_result",
     "data": {
      "text/plain": "           id  campaign_id  coupon_id  customer_id  redemption_status  \\\n5          11           11        795          793                  1   \n10         20            9        575          108                  1   \n87        141            8        658          638                  1   \n142       228           29        538          634                  1   \n155       255           12        819         1026                  1   \n...       ...          ...        ...          ...                ...   \n63894  104934           10         15         1582                  0   \n63896  104936            8          6          652                  0   \n63904  104951           10       1043          226                  0   \n63951  105033            8       1084         1410                  0   \n63989  105093           30        360          400                  0   \n\n       recency  history  used_discount  used_bogo  is_referral channel  \\\n5            6   134.83              0          1            0   Phone   \n10           7   548.91              0          1            1   Phone   \n87           6   165.77              0          1            0     Web   \n142         11   131.76              0          1            1     Web   \n155          3    57.33              0          1            0     Web   \n...        ...      ...            ...        ...          ...     ...   \n63894        8   194.46              0          1            1   Phone   \n63896        1   391.46              0          1            1   Phone   \n63904        1    29.99              0          1            0     Web   \n63951       10    50.94              0          1            0     Web   \n63989       10   304.30              1          1            0     Web   \n\n                 offer  conversion  \n5      Buy One Get One           1  \n10     Buy One Get One           1  \n87     Buy One Get One           1  \n142    Buy One Get One           1  \n155    Buy One Get One           1  \n...                ...         ...  \n63894  Buy One Get One           1  \n63896  Buy One Get One           1  \n63904  Buy One Get One           1  \n63951  Buy One Get One           1  \n63989  Buy One Get One           1  \n\n[2171 rows x 13 columns]",
      "text/html": "<div>\n<style scoped>\n    .dataframe tbody tr th:only-of-type {\n        vertical-align: middle;\n    }\n\n    .dataframe tbody tr th {\n        vertical-align: top;\n    }\n\n    .dataframe thead th {\n        text-align: right;\n    }\n</style>\n<table border=\"1\" class=\"dataframe\">\n  <thead>\n    <tr style=\"text-align: right;\">\n      <th></th>\n      <th>id</th>\n      <th>campaign_id</th>\n      <th>coupon_id</th>\n      <th>customer_id</th>\n      <th>redemption_status</th>\n      <th>recency</th>\n      <th>history</th>\n      <th>used_discount</th>\n      <th>used_bogo</th>\n      <th>is_referral</th>\n      <th>channel</th>\n      <th>offer</th>\n      <th>conversion</th>\n    </tr>\n  </thead>\n  <tbody>\n    <tr>\n      <th>5</th>\n      <td>11</td>\n      <td>11</td>\n      <td>795</td>\n      <td>793</td>\n      <td>1</td>\n      <td>6</td>\n      <td>134.83</td>\n      <td>0</td>\n      <td>1</td>\n      <td>0</td>\n      <td>Phone</td>\n      <td>Buy One Get One</td>\n      <td>1</td>\n    </tr>\n    <tr>\n      <th>10</th>\n      <td>20</td>\n      <td>9</td>\n      <td>575</td>\n      <td>108</td>\n      <td>1</td>\n      <td>7</td>\n      <td>548.91</td>\n      <td>0</td>\n      <td>1</td>\n      <td>1</td>\n      <td>Phone</td>\n      <td>Buy One Get One</td>\n      <td>1</td>\n    </tr>\n    <tr>\n      <th>87</th>\n      <td>141</td>\n      <td>8</td>\n      <td>658</td>\n      <td>638</td>\n      <td>1</td>\n      <td>6</td>\n      <td>165.77</td>\n      <td>0</td>\n      <td>1</td>\n      <td>0</td>\n      <td>Web</td>\n      <td>Buy One Get One</td>\n      <td>1</td>\n    </tr>\n    <tr>\n      <th>142</th>\n      <td>228</td>\n      <td>29</td>\n      <td>538</td>\n      <td>634</td>\n      <td>1</td>\n      <td>11</td>\n      <td>131.76</td>\n      <td>0</td>\n      <td>1</td>\n      <td>1</td>\n      <td>Web</td>\n      <td>Buy One Get One</td>\n      <td>1</td>\n    </tr>\n    <tr>\n      <th>155</th>\n      <td>255</td>\n      <td>12</td>\n      <td>819</td>\n      <td>1026</td>\n      <td>1</td>\n      <td>3</td>\n      <td>57.33</td>\n      <td>0</td>\n      <td>1</td>\n      <td>0</td>\n      <td>Web</td>\n      <td>Buy One Get One</td>\n      <td>1</td>\n    </tr>\n    <tr>\n      <th>...</th>\n      <td>...</td>\n      <td>...</td>\n      <td>...</td>\n      <td>...</td>\n      <td>...</td>\n      <td>...</td>\n      <td>...</td>\n      <td>...</td>\n      <td>...</td>\n      <td>...</td>\n      <td>...</td>\n      <td>...</td>\n      <td>...</td>\n    </tr>\n    <tr>\n      <th>63894</th>\n      <td>104934</td>\n      <td>10</td>\n      <td>15</td>\n      <td>1582</td>\n      <td>0</td>\n      <td>8</td>\n      <td>194.46</td>\n      <td>0</td>\n      <td>1</td>\n      <td>1</td>\n      <td>Phone</td>\n      <td>Buy One Get One</td>\n      <td>1</td>\n    </tr>\n    <tr>\n      <th>63896</th>\n      <td>104936</td>\n      <td>8</td>\n      <td>6</td>\n      <td>652</td>\n      <td>0</td>\n      <td>1</td>\n      <td>391.46</td>\n      <td>0</td>\n      <td>1</td>\n      <td>1</td>\n      <td>Phone</td>\n      <td>Buy One Get One</td>\n      <td>1</td>\n    </tr>\n    <tr>\n      <th>63904</th>\n      <td>104951</td>\n      <td>10</td>\n      <td>1043</td>\n      <td>226</td>\n      <td>0</td>\n      <td>1</td>\n      <td>29.99</td>\n      <td>0</td>\n      <td>1</td>\n      <td>0</td>\n      <td>Web</td>\n      <td>Buy One Get One</td>\n      <td>1</td>\n    </tr>\n    <tr>\n      <th>63951</th>\n      <td>105033</td>\n      <td>8</td>\n      <td>1084</td>\n      <td>1410</td>\n      <td>0</td>\n      <td>10</td>\n      <td>50.94</td>\n      <td>0</td>\n      <td>1</td>\n      <td>0</td>\n      <td>Web</td>\n      <td>Buy One Get One</td>\n      <td>1</td>\n    </tr>\n    <tr>\n      <th>63989</th>\n      <td>105093</td>\n      <td>30</td>\n      <td>360</td>\n      <td>400</td>\n      <td>0</td>\n      <td>10</td>\n      <td>304.30</td>\n      <td>1</td>\n      <td>1</td>\n      <td>0</td>\n      <td>Web</td>\n      <td>Buy One Get One</td>\n      <td>1</td>\n    </tr>\n  </tbody>\n</table>\n<p>2171 rows × 13 columns</p>\n</div>"
     },
     "metadata": {},
     "execution_count": 27
    }
   ],
   "source": [
    "hybrid[(hybrid['used_bogo']==1) & (hybrid['offer']=='Buy One Get One') & (hybrid['conversion'] == 1)]"
   ]
  },
  {
   "cell_type": "code",
   "execution_count": null,
   "metadata": {},
   "outputs": [],
   "source": []
  },
  {
   "cell_type": "code",
   "execution_count": 17,
   "metadata": {
    "tags": []
   },
   "outputs": [],
   "source": [
    "from matplotlib import pyplot as plt\n",
    "%matplotlib inline"
   ]
  },
  {
   "cell_type": "code",
   "execution_count": null,
   "metadata": {},
   "outputs": [],
   "source": [
    "plt.plot()"
   ]
  }
 ]
}