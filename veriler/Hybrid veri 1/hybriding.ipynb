{
 "metadata": {
  "language_info": {
   "codemirror_mode": {
    "name": "ipython",
    "version": 3
   },
   "file_extension": ".py",
   "mimetype": "text/x-python",
   "name": "python",
   "nbconvert_exporter": "python",
   "pygments_lexer": "ipython3",
   "version": 3
  },
  "orig_nbformat": 2,
  "kernelspec": {
   "name": "python_defaultSpec_1595409905331",
   "display_name": "Python 3.7.5 64-bit ('recsys': conda)"
  }
 },
 "nbformat": 4,
 "nbformat_minor": 2,
 "cells": [
  {
   "cell_type": "code",
   "execution_count": 1,
   "metadata": {},
   "outputs": [],
   "source": [
    "import pandas as pd\n",
    "import numpy as np"
   ]
  },
  {
   "cell_type": "code",
   "execution_count": 2,
   "metadata": {
    "tags": []
   },
   "outputs": [
    {
     "output_type": "stream",
     "name": "stdout",
     "text": "id  campaign_id  coupon_id  customer_id  redemption_status\n0   1           13         27         1053                  0\n1   2           13        116           48                  0\n2   6            9        635          205                  0\n3   7           13        644         1050                  0\n4   9            8       1017         1489                  0\n(78369, 5)\n"
    }
   ],
   "source": [
    "#coupon redemption verilerinin yüklenmesi\n",
    "cr_data = pd.read_csv('coupon_redemption/train.csv')\n",
    "print(cr_data.head(5))\n",
    "print(cr_data.shape)"
   ]
  },
  {
   "cell_type": "code",
   "execution_count": 3,
   "metadata": {
    "tags": []
   },
   "outputs": [
    {
     "output_type": "stream",
     "name": "stdout",
     "text": "recency  history  used_discount  used_bogo   zip_code  is_referral channel  \\\n0       10   142.44              1          0  Surburban            0   Phone   \n1        6   329.08              1          1      Rural            1     Web   \n2        7   180.65              0          1  Surburban            1     Web   \n3        9   675.83              1          0      Rural            1     Web   \n4        2    45.34              1          0      Urban            0     Web   \n\n             offer  conversion  \n0  Buy One Get One           0  \n1         No Offer           0  \n2  Buy One Get One           0  \n3         Discount           0  \n4  Buy One Get One           0  \n(64000, 9)\n['Buy One Get One' 'No Offer' 'Discount']\n"
    }
   ],
   "source": [
    "# marketing promotion verilerinin yüklenmesi\n",
    "mp_data = pd.read_csv('marketing_promotion/data.csv')\n",
    "print(mp_data.head(5))\n",
    "print(mp_data.shape)\n",
    "print(mp_data.offer.unique())"
   ]
  },
  {
   "cell_type": "code",
   "execution_count": 4,
   "metadata": {},
   "outputs": [],
   "source": [
    "cr_campaign = pd.read_csv('coupon_redemption/campaign_data.csv')\n",
    "cr_campaign.head()\n",
    "# yüklediğimiz verilerin copylerini aldık\n",
    "cr_campaign_c = cr_campaign.copy() # kampanya hakkında bilgileri içeriyor\n",
    "mp_data_c = mp_data.copy()\n",
    "cr_data_c = cr_data.copy()"
   ]
  },
  {
   "cell_type": "code",
   "execution_count": 5,
   "metadata": {},
   "outputs": [
    {
     "output_type": "execute_result",
     "data": {
      "text/plain": "   campaign_id campaign_type start_date  end_date\n0           24             Y   21/10/13  20/12/13\n1           25             Y   21/10/13  22/11/13\n2           20             Y   07/09/13  16/11/13\n3           23             Y   08/10/13  15/11/13\n4           21             Y   16/09/13  18/10/13",
      "text/html": "<div>\n<style scoped>\n    .dataframe tbody tr th:only-of-type {\n        vertical-align: middle;\n    }\n\n    .dataframe tbody tr th {\n        vertical-align: top;\n    }\n\n    .dataframe thead th {\n        text-align: right;\n    }\n</style>\n<table border=\"1\" class=\"dataframe\">\n  <thead>\n    <tr style=\"text-align: right;\">\n      <th></th>\n      <th>campaign_id</th>\n      <th>campaign_type</th>\n      <th>start_date</th>\n      <th>end_date</th>\n    </tr>\n  </thead>\n  <tbody>\n    <tr>\n      <th>0</th>\n      <td>24</td>\n      <td>Y</td>\n      <td>21/10/13</td>\n      <td>20/12/13</td>\n    </tr>\n    <tr>\n      <th>1</th>\n      <td>25</td>\n      <td>Y</td>\n      <td>21/10/13</td>\n      <td>22/11/13</td>\n    </tr>\n    <tr>\n      <th>2</th>\n      <td>20</td>\n      <td>Y</td>\n      <td>07/09/13</td>\n      <td>16/11/13</td>\n    </tr>\n    <tr>\n      <th>3</th>\n      <td>23</td>\n      <td>Y</td>\n      <td>08/10/13</td>\n      <td>15/11/13</td>\n    </tr>\n    <tr>\n      <th>4</th>\n      <td>21</td>\n      <td>Y</td>\n      <td>16/09/13</td>\n      <td>18/10/13</td>\n    </tr>\n  </tbody>\n</table>\n</div>"
     },
     "metadata": {},
     "execution_count": 5
    }
   ],
   "source": [
    "cr_campaign_c.head()"
   ]
  },
  {
   "cell_type": "code",
   "execution_count": 6,
   "metadata": {},
   "outputs": [
    {
     "output_type": "execute_result",
     "data": {
      "text/plain": "(28, 4)"
     },
     "metadata": {},
     "execution_count": 6
    }
   ],
   "source": [
    "cr_data_c.head()\n",
    "cr_campaign_c.shape"
   ]
  },
  {
   "cell_type": "code",
   "execution_count": 7,
   "metadata": {},
   "outputs": [],
   "source": [
    "cr_campaign_c['campaign_type'] = cr_campaign_c['campaign_type'].replace(['X'], 'Buy One Get One')"
   ]
  },
  {
   "cell_type": "code",
   "execution_count": 8,
   "metadata": {},
   "outputs": [
    {
     "output_type": "execute_result",
     "data": {
      "text/plain": "   campaign_id campaign_type start_date  end_date\n0           24      Discount   21/10/13  20/12/13\n1           25      Discount   21/10/13  22/11/13\n2           20      Discount   07/09/13  16/11/13\n3           23      Discount   08/10/13  15/11/13\n4           21      Discount   16/09/13  18/10/13",
      "text/html": "<div>\n<style scoped>\n    .dataframe tbody tr th:only-of-type {\n        vertical-align: middle;\n    }\n\n    .dataframe tbody tr th {\n        vertical-align: top;\n    }\n\n    .dataframe thead th {\n        text-align: right;\n    }\n</style>\n<table border=\"1\" class=\"dataframe\">\n  <thead>\n    <tr style=\"text-align: right;\">\n      <th></th>\n      <th>campaign_id</th>\n      <th>campaign_type</th>\n      <th>start_date</th>\n      <th>end_date</th>\n    </tr>\n  </thead>\n  <tbody>\n    <tr>\n      <th>0</th>\n      <td>24</td>\n      <td>Discount</td>\n      <td>21/10/13</td>\n      <td>20/12/13</td>\n    </tr>\n    <tr>\n      <th>1</th>\n      <td>25</td>\n      <td>Discount</td>\n      <td>21/10/13</td>\n      <td>22/11/13</td>\n    </tr>\n    <tr>\n      <th>2</th>\n      <td>20</td>\n      <td>Discount</td>\n      <td>07/09/13</td>\n      <td>16/11/13</td>\n    </tr>\n    <tr>\n      <th>3</th>\n      <td>23</td>\n      <td>Discount</td>\n      <td>08/10/13</td>\n      <td>15/11/13</td>\n    </tr>\n    <tr>\n      <th>4</th>\n      <td>21</td>\n      <td>Discount</td>\n      <td>16/09/13</td>\n      <td>18/10/13</td>\n    </tr>\n  </tbody>\n</table>\n</div>"
     },
     "metadata": {},
     "execution_count": 8
    }
   ],
   "source": [
    "cr_campaign_c['campaign_type'] = cr_campaign_c['campaign_type'].replace(['Y'], 'Discount')\n",
    "cr_campaign_c.head()"
   ]
  },
  {
   "cell_type": "code",
   "execution_count": 9,
   "metadata": {},
   "outputs": [],
   "source": [
    "mp_data_c = mp_data_c.drop(['zip_code'], axis=1)"
   ]
  },
  {
   "cell_type": "code",
   "execution_count": 10,
   "metadata": {
    "tags": []
   },
   "outputs": [
    {
     "output_type": "stream",
     "name": "stdout",
     "text": "9394\n729\n"
    }
   ],
   "source": [
    "#mp_data_c.head()\n",
    "print(mp_data_c[mp_data_c['conversion']==1].shape[0])\n",
    "print(cr_data_c[cr_data_c['redemption_status']==1].shape[0])"
   ]
  },
  {
   "cell_type": "code",
   "execution_count": 11,
   "metadata": {},
   "outputs": [],
   "source": [
    "cr_data_c = cr_data_c[:64000]"
   ]
  },
  {
   "cell_type": "code",
   "execution_count": 12,
   "metadata": {},
   "outputs": [
    {
     "output_type": "execute_result",
     "data": {
      "text/plain": "(64000, 5)"
     },
     "metadata": {},
     "execution_count": 12
    }
   ],
   "source": [
    "cr_data_c.shape"
   ]
  },
  {
   "cell_type": "code",
   "execution_count": 13,
   "metadata": {},
   "outputs": [
    {
     "output_type": "execute_result",
     "data": {
      "text/plain": "   id  campaign_id  coupon_id  customer_id  redemption_status\n0   1           13         27         1053                  0\n1   2           13        116           48                  0\n2   6            9        635          205                  0\n3   7           13        644         1050                  0\n4   9            8       1017         1489                  0",
      "text/html": "<div>\n<style scoped>\n    .dataframe tbody tr th:only-of-type {\n        vertical-align: middle;\n    }\n\n    .dataframe tbody tr th {\n        vertical-align: top;\n    }\n\n    .dataframe thead th {\n        text-align: right;\n    }\n</style>\n<table border=\"1\" class=\"dataframe\">\n  <thead>\n    <tr style=\"text-align: right;\">\n      <th></th>\n      <th>id</th>\n      <th>campaign_id</th>\n      <th>coupon_id</th>\n      <th>customer_id</th>\n      <th>redemption_status</th>\n    </tr>\n  </thead>\n  <tbody>\n    <tr>\n      <th>0</th>\n      <td>1</td>\n      <td>13</td>\n      <td>27</td>\n      <td>1053</td>\n      <td>0</td>\n    </tr>\n    <tr>\n      <th>1</th>\n      <td>2</td>\n      <td>13</td>\n      <td>116</td>\n      <td>48</td>\n      <td>0</td>\n    </tr>\n    <tr>\n      <th>2</th>\n      <td>6</td>\n      <td>9</td>\n      <td>635</td>\n      <td>205</td>\n      <td>0</td>\n    </tr>\n    <tr>\n      <th>3</th>\n      <td>7</td>\n      <td>13</td>\n      <td>644</td>\n      <td>1050</td>\n      <td>0</td>\n    </tr>\n    <tr>\n      <th>4</th>\n      <td>9</td>\n      <td>8</td>\n      <td>1017</td>\n      <td>1489</td>\n      <td>0</td>\n    </tr>\n  </tbody>\n</table>\n</div>"
     },
     "metadata": {},
     "execution_count": 13
    }
   ],
   "source": [
    "cr_data_c.head()"
   ]
  },
  {
   "cell_type": "code",
   "execution_count": 14,
   "metadata": {},
   "outputs": [
    {
     "output_type": "execute_result",
     "data": {
      "text/plain": "'hybrid = pd.concat([cr_data_c, mp_data_c], axis=1)\\n#hybrid.iloc[60000:60005,:]\\nhybrid.head(10)'"
     },
     "metadata": {},
     "execution_count": 14
    }
   ],
   "source": [
    "\"\"\"hybrid = pd.concat([cr_data_c, mp_data_c], axis=1)\n",
    "#hybrid.iloc[60000:60005,:]\n",
    "hybrid.head(10)\"\"\""
   ]
  },
  {
   "cell_type": "code",
   "execution_count": 15,
   "metadata": {},
   "outputs": [],
   "source": [
    "# her iki veri setinde de satın alımları eşitlemiş oldum\n",
    "count = 0\n",
    "for i in range(0,cr_data_c.shape[0]):\n",
    "    if cr_data_c.iloc[i,4] != 1:\n",
    "        if count != 8794:\n",
    "            cr_data_c.iloc[i,4] = 1\n",
    "            count +=1"
   ]
  },
  {
   "cell_type": "code",
   "execution_count": 16,
   "metadata": {
    "tags": []
   },
   "outputs": [
    {
     "output_type": "stream",
     "name": "stdout",
     "text": "9394\n"
    }
   ],
   "source": [
    "print(cr_data_c[cr_data_c['redemption_status']==1].shape[0])"
   ]
  },
  {
   "cell_type": "code",
   "execution_count": 18,
   "metadata": {},
   "outputs": [],
   "source": [
    "hybrid = pd.concat([cr_data_c, mp_data_c], axis=1)"
   ]
  },
  {
   "cell_type": "code",
   "execution_count": 19,
   "metadata": {},
   "outputs": [
    {
     "output_type": "execute_result",
     "data": {
      "text/plain": "   id  campaign_id  coupon_id  customer_id  redemption_status  recency  \\\n0   1           13         27         1053                  1       10   \n1   2           13        116           48                  1        6   \n2   6            9        635          205                  1        7   \n3   7           13        644         1050                  1        9   \n4   9            8       1017         1489                  1        2   \n\n   history  used_discount  used_bogo  is_referral channel            offer  \\\n0   142.44              1          0            0   Phone  Buy One Get One   \n1   329.08              1          1            1     Web         No Offer   \n2   180.65              0          1            1     Web  Buy One Get One   \n3   675.83              1          0            1     Web         Discount   \n4    45.34              1          0            0     Web  Buy One Get One   \n\n   conversion  \n0           0  \n1           0  \n2           0  \n3           0  \n4           0  ",
      "text/html": "<div>\n<style scoped>\n    .dataframe tbody tr th:only-of-type {\n        vertical-align: middle;\n    }\n\n    .dataframe tbody tr th {\n        vertical-align: top;\n    }\n\n    .dataframe thead th {\n        text-align: right;\n    }\n</style>\n<table border=\"1\" class=\"dataframe\">\n  <thead>\n    <tr style=\"text-align: right;\">\n      <th></th>\n      <th>id</th>\n      <th>campaign_id</th>\n      <th>coupon_id</th>\n      <th>customer_id</th>\n      <th>redemption_status</th>\n      <th>recency</th>\n      <th>history</th>\n      <th>used_discount</th>\n      <th>used_bogo</th>\n      <th>is_referral</th>\n      <th>channel</th>\n      <th>offer</th>\n      <th>conversion</th>\n    </tr>\n  </thead>\n  <tbody>\n    <tr>\n      <th>0</th>\n      <td>1</td>\n      <td>13</td>\n      <td>27</td>\n      <td>1053</td>\n      <td>1</td>\n      <td>10</td>\n      <td>142.44</td>\n      <td>1</td>\n      <td>0</td>\n      <td>0</td>\n      <td>Phone</td>\n      <td>Buy One Get One</td>\n      <td>0</td>\n    </tr>\n    <tr>\n      <th>1</th>\n      <td>2</td>\n      <td>13</td>\n      <td>116</td>\n      <td>48</td>\n      <td>1</td>\n      <td>6</td>\n      <td>329.08</td>\n      <td>1</td>\n      <td>1</td>\n      <td>1</td>\n      <td>Web</td>\n      <td>No Offer</td>\n      <td>0</td>\n    </tr>\n    <tr>\n      <th>2</th>\n      <td>6</td>\n      <td>9</td>\n      <td>635</td>\n      <td>205</td>\n      <td>1</td>\n      <td>7</td>\n      <td>180.65</td>\n      <td>0</td>\n      <td>1</td>\n      <td>1</td>\n      <td>Web</td>\n      <td>Buy One Get One</td>\n      <td>0</td>\n    </tr>\n    <tr>\n      <th>3</th>\n      <td>7</td>\n      <td>13</td>\n      <td>644</td>\n      <td>1050</td>\n      <td>1</td>\n      <td>9</td>\n      <td>675.83</td>\n      <td>1</td>\n      <td>0</td>\n      <td>1</td>\n      <td>Web</td>\n      <td>Discount</td>\n      <td>0</td>\n    </tr>\n    <tr>\n      <th>4</th>\n      <td>9</td>\n      <td>8</td>\n      <td>1017</td>\n      <td>1489</td>\n      <td>1</td>\n      <td>2</td>\n      <td>45.34</td>\n      <td>1</td>\n      <td>0</td>\n      <td>0</td>\n      <td>Web</td>\n      <td>Buy One Get One</td>\n      <td>0</td>\n    </tr>\n  </tbody>\n</table>\n</div>"
     },
     "metadata": {},
     "execution_count": 19
    }
   ],
   "source": [
    "hybrid.head()"
   ]
  },
  {
   "cell_type": "code",
   "execution_count": 20,
   "metadata": {},
   "outputs": [],
   "source": [
    "hybrid.to_csv('hybrid.csv')"
   ]
  },
  {
   "cell_type": "code",
   "execution_count": null,
   "metadata": {},
   "outputs": [],
   "source": []
  }
 ]
}