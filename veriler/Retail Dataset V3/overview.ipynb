{
 "metadata": {
  "language_info": {
   "codemirror_mode": {
    "name": "ipython",
    "version": 3
   },
   "file_extension": ".py",
   "mimetype": "text/x-python",
   "name": "python",
   "nbconvert_exporter": "python",
   "pygments_lexer": "ipython3",
   "version": 3
  },
  "orig_nbformat": 2,
  "kernelspec": {
   "name": "python_defaultSpec_1595512507817",
   "display_name": "Python 3.7.5 64-bit ('recsys': conda)"
  }
 },
 "nbformat": 4,
 "nbformat_minor": 2,
 "cells": [
  {
   "cell_type": "code",
   "execution_count": 1,
   "metadata": {},
   "outputs": [],
   "source": [
    "import pandas as pd\n",
    "import numpy as np"
   ]
  },
  {
   "cell_type": "code",
   "execution_count": 5,
   "metadata": {},
   "outputs": [],
   "source": [
    "df = pd.read_csv('./Retail_Dataset_Analysis_V3/purchase data.csv')"
   ]
  },
  {
   "cell_type": "code",
   "execution_count": 6,
   "metadata": {},
   "outputs": [
    {
     "output_type": "execute_result",
     "data": {
      "text/plain": "          ID  Day  Incidence  Brand  Quantity  Last_Inc_Brand  \\\n0  200000001    1          0      0         0               0   \n1  200000001   11          0      0         0               0   \n2  200000001   12          0      0         0               0   \n3  200000001   16          0      0         0               0   \n4  200000001   18          0      0         0               0   \n\n   Last_Inc_Quantity  Price_1  Price_2  Price_3  Price_4  Price_5  \\\n0                  0     1.59     1.87     2.01     2.09     2.66   \n1                  0     1.51     1.89     1.99     2.09     2.66   \n2                  0     1.51     1.89     1.99     2.09     2.66   \n3                  0     1.52     1.89     1.98     2.09     2.66   \n4                  0     1.52     1.89     1.99     2.09     2.66   \n\n   Promotion_1  Promotion_2  Promotion_3  Promotion_4  Promotion_5  \n0            0            1            0            0            0  \n1            0            0            0            0            0  \n2            0            0            0            0            0  \n3            0            0            0            0            0  \n4            0            0            0            0            0  ",
      "text/html": "<div>\n<style scoped>\n    .dataframe tbody tr th:only-of-type {\n        vertical-align: middle;\n    }\n\n    .dataframe tbody tr th {\n        vertical-align: top;\n    }\n\n    .dataframe thead th {\n        text-align: right;\n    }\n</style>\n<table border=\"1\" class=\"dataframe\">\n  <thead>\n    <tr style=\"text-align: right;\">\n      <th></th>\n      <th>ID</th>\n      <th>Day</th>\n      <th>Incidence</th>\n      <th>Brand</th>\n      <th>Quantity</th>\n      <th>Last_Inc_Brand</th>\n      <th>Last_Inc_Quantity</th>\n      <th>Price_1</th>\n      <th>Price_2</th>\n      <th>Price_3</th>\n      <th>Price_4</th>\n      <th>Price_5</th>\n      <th>Promotion_1</th>\n      <th>Promotion_2</th>\n      <th>Promotion_3</th>\n      <th>Promotion_4</th>\n      <th>Promotion_5</th>\n    </tr>\n  </thead>\n  <tbody>\n    <tr>\n      <th>0</th>\n      <td>200000001</td>\n      <td>1</td>\n      <td>0</td>\n      <td>0</td>\n      <td>0</td>\n      <td>0</td>\n      <td>0</td>\n      <td>1.59</td>\n      <td>1.87</td>\n      <td>2.01</td>\n      <td>2.09</td>\n      <td>2.66</td>\n      <td>0</td>\n      <td>1</td>\n      <td>0</td>\n      <td>0</td>\n      <td>0</td>\n    </tr>\n    <tr>\n      <th>1</th>\n      <td>200000001</td>\n      <td>11</td>\n      <td>0</td>\n      <td>0</td>\n      <td>0</td>\n      <td>0</td>\n      <td>0</td>\n      <td>1.51</td>\n      <td>1.89</td>\n      <td>1.99</td>\n      <td>2.09</td>\n      <td>2.66</td>\n      <td>0</td>\n      <td>0</td>\n      <td>0</td>\n      <td>0</td>\n      <td>0</td>\n    </tr>\n    <tr>\n      <th>2</th>\n      <td>200000001</td>\n      <td>12</td>\n      <td>0</td>\n      <td>0</td>\n      <td>0</td>\n      <td>0</td>\n      <td>0</td>\n      <td>1.51</td>\n      <td>1.89</td>\n      <td>1.99</td>\n      <td>2.09</td>\n      <td>2.66</td>\n      <td>0</td>\n      <td>0</td>\n      <td>0</td>\n      <td>0</td>\n      <td>0</td>\n    </tr>\n    <tr>\n      <th>3</th>\n      <td>200000001</td>\n      <td>16</td>\n      <td>0</td>\n      <td>0</td>\n      <td>0</td>\n      <td>0</td>\n      <td>0</td>\n      <td>1.52</td>\n      <td>1.89</td>\n      <td>1.98</td>\n      <td>2.09</td>\n      <td>2.66</td>\n      <td>0</td>\n      <td>0</td>\n      <td>0</td>\n      <td>0</td>\n      <td>0</td>\n    </tr>\n    <tr>\n      <th>4</th>\n      <td>200000001</td>\n      <td>18</td>\n      <td>0</td>\n      <td>0</td>\n      <td>0</td>\n      <td>0</td>\n      <td>0</td>\n      <td>1.52</td>\n      <td>1.89</td>\n      <td>1.99</td>\n      <td>2.09</td>\n      <td>2.66</td>\n      <td>0</td>\n      <td>0</td>\n      <td>0</td>\n      <td>0</td>\n      <td>0</td>\n    </tr>\n  </tbody>\n</table>\n</div>"
     },
     "metadata": {},
     "execution_count": 6
    }
   ],
   "source": [
    "df.head()"
   ]
  },
  {
   "cell_type": "code",
   "execution_count": 7,
   "metadata": {},
   "outputs": [
    {
     "output_type": "execute_result",
     "data": {
      "text/plain": "                 ID           Day     Incidence         Brand      Quantity  \\\ncount  5.869300e+04  58693.000000  58693.000000  58693.000000  58693.000000   \nmean   2.000003e+08    349.431074      0.249399      0.844309      0.691973   \nstd    1.443167e+02    212.045058      0.432669      1.633083      1.498734   \nmin    2.000000e+08      1.000000      0.000000      0.000000      0.000000   \n25%    2.000001e+08    161.000000      0.000000      0.000000      0.000000   \n50%    2.000003e+08    343.000000      0.000000      0.000000      0.000000   \n75%    2.000004e+08    530.000000      0.000000      0.000000      0.000000   \nmax    2.000005e+08    730.000000      1.000000      5.000000     15.000000   \n\n       Last_Inc_Brand  Last_Inc_Quantity       Price_1       Price_2  \\\ncount    58693.000000       58693.000000  58693.000000  58693.000000   \nmean         0.840799           0.248070      1.392074      1.780999   \nstd          1.631628           0.431897      0.091139      0.170868   \nmin          0.000000           0.000000      1.100000      1.260000   \n25%          0.000000           0.000000      1.340000      1.580000   \n50%          0.000000           0.000000      1.390000      1.880000   \n75%          0.000000           0.000000      1.470000      1.890000   \nmax          5.000000           1.000000      1.590000      1.900000   \n\n            Price_3       Price_4       Price_5   Promotion_1   Promotion_2  \\\ncount  58693.000000  58693.000000  58693.000000  58693.000000  58693.000000   \nmean       2.006789      2.159945      2.654798      0.343840      0.315608   \nstd        0.046867      0.089825      0.098272      0.474993      0.464762   \nmin        1.870000      1.760000      2.110000      0.000000      0.000000   \n25%        1.970000      2.120000      2.630000      0.000000      0.000000   \n50%        2.010000      2.170000      2.670000      0.000000      0.000000   \n75%        2.060000      2.240000      2.700000      1.000000      1.000000   \nmax        2.140000      2.260000      2.800000      1.000000      1.000000   \n\n        Promotion_3   Promotion_4   Promotion_5  \ncount  58693.000000  58693.000000  58693.000000  \nmean       0.042799      0.117851      0.035865  \nstd        0.202405      0.322434      0.185954  \nmin        0.000000      0.000000      0.000000  \n25%        0.000000      0.000000      0.000000  \n50%        0.000000      0.000000      0.000000  \n75%        0.000000      0.000000      0.000000  \nmax        1.000000      1.000000      1.000000  ",
      "text/html": "<div>\n<style scoped>\n    .dataframe tbody tr th:only-of-type {\n        vertical-align: middle;\n    }\n\n    .dataframe tbody tr th {\n        vertical-align: top;\n    }\n\n    .dataframe thead th {\n        text-align: right;\n    }\n</style>\n<table border=\"1\" class=\"dataframe\">\n  <thead>\n    <tr style=\"text-align: right;\">\n      <th></th>\n      <th>ID</th>\n      <th>Day</th>\n      <th>Incidence</th>\n      <th>Brand</th>\n      <th>Quantity</th>\n      <th>Last_Inc_Brand</th>\n      <th>Last_Inc_Quantity</th>\n      <th>Price_1</th>\n      <th>Price_2</th>\n      <th>Price_3</th>\n      <th>Price_4</th>\n      <th>Price_5</th>\n      <th>Promotion_1</th>\n      <th>Promotion_2</th>\n      <th>Promotion_3</th>\n      <th>Promotion_4</th>\n      <th>Promotion_5</th>\n    </tr>\n  </thead>\n  <tbody>\n    <tr>\n      <th>count</th>\n      <td>5.869300e+04</td>\n      <td>58693.000000</td>\n      <td>58693.000000</td>\n      <td>58693.000000</td>\n      <td>58693.000000</td>\n      <td>58693.000000</td>\n      <td>58693.000000</td>\n      <td>58693.000000</td>\n      <td>58693.000000</td>\n      <td>58693.000000</td>\n      <td>58693.000000</td>\n      <td>58693.000000</td>\n      <td>58693.000000</td>\n      <td>58693.000000</td>\n      <td>58693.000000</td>\n      <td>58693.000000</td>\n      <td>58693.000000</td>\n    </tr>\n    <tr>\n      <th>mean</th>\n      <td>2.000003e+08</td>\n      <td>349.431074</td>\n      <td>0.249399</td>\n      <td>0.844309</td>\n      <td>0.691973</td>\n      <td>0.840799</td>\n      <td>0.248070</td>\n      <td>1.392074</td>\n      <td>1.780999</td>\n      <td>2.006789</td>\n      <td>2.159945</td>\n      <td>2.654798</td>\n      <td>0.343840</td>\n      <td>0.315608</td>\n      <td>0.042799</td>\n      <td>0.117851</td>\n      <td>0.035865</td>\n    </tr>\n    <tr>\n      <th>std</th>\n      <td>1.443167e+02</td>\n      <td>212.045058</td>\n      <td>0.432669</td>\n      <td>1.633083</td>\n      <td>1.498734</td>\n      <td>1.631628</td>\n      <td>0.431897</td>\n      <td>0.091139</td>\n      <td>0.170868</td>\n      <td>0.046867</td>\n      <td>0.089825</td>\n      <td>0.098272</td>\n      <td>0.474993</td>\n      <td>0.464762</td>\n      <td>0.202405</td>\n      <td>0.322434</td>\n      <td>0.185954</td>\n    </tr>\n    <tr>\n      <th>min</th>\n      <td>2.000000e+08</td>\n      <td>1.000000</td>\n      <td>0.000000</td>\n      <td>0.000000</td>\n      <td>0.000000</td>\n      <td>0.000000</td>\n      <td>0.000000</td>\n      <td>1.100000</td>\n      <td>1.260000</td>\n      <td>1.870000</td>\n      <td>1.760000</td>\n      <td>2.110000</td>\n      <td>0.000000</td>\n      <td>0.000000</td>\n      <td>0.000000</td>\n      <td>0.000000</td>\n      <td>0.000000</td>\n    </tr>\n    <tr>\n      <th>25%</th>\n      <td>2.000001e+08</td>\n      <td>161.000000</td>\n      <td>0.000000</td>\n      <td>0.000000</td>\n      <td>0.000000</td>\n      <td>0.000000</td>\n      <td>0.000000</td>\n      <td>1.340000</td>\n      <td>1.580000</td>\n      <td>1.970000</td>\n      <td>2.120000</td>\n      <td>2.630000</td>\n      <td>0.000000</td>\n      <td>0.000000</td>\n      <td>0.000000</td>\n      <td>0.000000</td>\n      <td>0.000000</td>\n    </tr>\n    <tr>\n      <th>50%</th>\n      <td>2.000003e+08</td>\n      <td>343.000000</td>\n      <td>0.000000</td>\n      <td>0.000000</td>\n      <td>0.000000</td>\n      <td>0.000000</td>\n      <td>0.000000</td>\n      <td>1.390000</td>\n      <td>1.880000</td>\n      <td>2.010000</td>\n      <td>2.170000</td>\n      <td>2.670000</td>\n      <td>0.000000</td>\n      <td>0.000000</td>\n      <td>0.000000</td>\n      <td>0.000000</td>\n      <td>0.000000</td>\n    </tr>\n    <tr>\n      <th>75%</th>\n      <td>2.000004e+08</td>\n      <td>530.000000</td>\n      <td>0.000000</td>\n      <td>0.000000</td>\n      <td>0.000000</td>\n      <td>0.000000</td>\n      <td>0.000000</td>\n      <td>1.470000</td>\n      <td>1.890000</td>\n      <td>2.060000</td>\n      <td>2.240000</td>\n      <td>2.700000</td>\n      <td>1.000000</td>\n      <td>1.000000</td>\n      <td>0.000000</td>\n      <td>0.000000</td>\n      <td>0.000000</td>\n    </tr>\n    <tr>\n      <th>max</th>\n      <td>2.000005e+08</td>\n      <td>730.000000</td>\n      <td>1.000000</td>\n      <td>5.000000</td>\n      <td>15.000000</td>\n      <td>5.000000</td>\n      <td>1.000000</td>\n      <td>1.590000</td>\n      <td>1.900000</td>\n      <td>2.140000</td>\n      <td>2.260000</td>\n      <td>2.800000</td>\n      <td>1.000000</td>\n      <td>1.000000</td>\n      <td>1.000000</td>\n      <td>1.000000</td>\n      <td>1.000000</td>\n    </tr>\n  </tbody>\n</table>\n</div>"
     },
     "metadata": {},
     "execution_count": 7
    }
   ],
   "source": [
    "df.describe()"
   ]
  },
  {
   "cell_type": "code",
   "execution_count": 8,
   "metadata": {},
   "outputs": [
    {
     "output_type": "execute_result",
     "data": {
      "text/plain": "(58693, 17)"
     },
     "metadata": {},
     "execution_count": 8
    }
   ],
   "source": [
    "df.shape"
   ]
  },
  {
   "cell_type": "code",
   "execution_count": 10,
   "metadata": {},
   "outputs": [
    {
     "output_type": "execute_result",
     "data": {
      "text/plain": "ID                     int64\nDay                    int64\nIncidence              int64\nBrand                  int64\nQuantity               int64\nLast_Inc_Brand         int64\nLast_Inc_Quantity      int64\nPrice_1              float64\nPrice_2              float64\nPrice_3              float64\nPrice_4              float64\nPrice_5              float64\nPromotion_1            int64\nPromotion_2            int64\nPromotion_3            int64\nPromotion_4            int64\nPromotion_5            int64\ndtype: object"
     },
     "metadata": {},
     "execution_count": 10
    }
   ],
   "source": [
    "df.dtypes"
   ]
  },
  {
   "cell_type": "code",
   "execution_count": 18,
   "metadata": {},
   "outputs": [
    {
     "output_type": "execute_result",
     "data": {
      "text/plain": "500"
     },
     "metadata": {},
     "execution_count": 18
    }
   ],
   "source": [
    "df.ID.unique().shape[0]"
   ]
  },
  {
   "cell_type": "code",
   "execution_count": 19,
   "metadata": {},
   "outputs": [],
   "source": [
    "df2 = pd.read_csv('./Retail_Dataset_Analysis_V3/segmentation-data.csv')"
   ]
  },
  {
   "cell_type": "code",
   "execution_count": 21,
   "metadata": {},
   "outputs": [
    {
     "output_type": "execute_result",
     "data": {
      "text/plain": "          ID  Sex  Marital status  Age  Education  Income  Occupation  \\\n0  100000001    0               0   67          2  124670           1   \n1  100000002    1               1   22          1  150773           1   \n2  100000003    0               0   49          1   89210           0   \n3  100000004    0               0   45          1  171565           1   \n4  100000005    0               0   53          1  149031           1   \n\n   Settlement size  \n0                2  \n1                2  \n2                0  \n3                1  \n4                1  ",
      "text/html": "<div>\n<style scoped>\n    .dataframe tbody tr th:only-of-type {\n        vertical-align: middle;\n    }\n\n    .dataframe tbody tr th {\n        vertical-align: top;\n    }\n\n    .dataframe thead th {\n        text-align: right;\n    }\n</style>\n<table border=\"1\" class=\"dataframe\">\n  <thead>\n    <tr style=\"text-align: right;\">\n      <th></th>\n      <th>ID</th>\n      <th>Sex</th>\n      <th>Marital status</th>\n      <th>Age</th>\n      <th>Education</th>\n      <th>Income</th>\n      <th>Occupation</th>\n      <th>Settlement size</th>\n    </tr>\n  </thead>\n  <tbody>\n    <tr>\n      <th>0</th>\n      <td>100000001</td>\n      <td>0</td>\n      <td>0</td>\n      <td>67</td>\n      <td>2</td>\n      <td>124670</td>\n      <td>1</td>\n      <td>2</td>\n    </tr>\n    <tr>\n      <th>1</th>\n      <td>100000002</td>\n      <td>1</td>\n      <td>1</td>\n      <td>22</td>\n      <td>1</td>\n      <td>150773</td>\n      <td>1</td>\n      <td>2</td>\n    </tr>\n    <tr>\n      <th>2</th>\n      <td>100000003</td>\n      <td>0</td>\n      <td>0</td>\n      <td>49</td>\n      <td>1</td>\n      <td>89210</td>\n      <td>0</td>\n      <td>0</td>\n    </tr>\n    <tr>\n      <th>3</th>\n      <td>100000004</td>\n      <td>0</td>\n      <td>0</td>\n      <td>45</td>\n      <td>1</td>\n      <td>171565</td>\n      <td>1</td>\n      <td>1</td>\n    </tr>\n    <tr>\n      <th>4</th>\n      <td>100000005</td>\n      <td>0</td>\n      <td>0</td>\n      <td>53</td>\n      <td>1</td>\n      <td>149031</td>\n      <td>1</td>\n      <td>1</td>\n    </tr>\n  </tbody>\n</table>\n</div>"
     },
     "metadata": {},
     "execution_count": 21
    }
   ],
   "source": [
    "df2.head()"
   ]
  },
  {
   "cell_type": "code",
   "execution_count": null,
   "metadata": {},
   "outputs": [],
   "source": [
    "df"
   ]
  }
 ]
}