{
 "cells": [
  {
   "cell_type": "code",
   "execution_count": null,
   "metadata": {},
   "outputs": [],
   "source": [
    "\"\"\"Bu veri setinde çok fazla features olmamısyla beraber fbu feture'lar şunlardır:\n",
    "InvoiceNo: Fatura numarası. Her işleme yani faturaya ait eşsiz numara. Eğer bu kod C ile başlıyorsa işlemin iptal edildiğini ifade eder.\n",
    "StockCode: Ürün kodu. Her bir ürün için eşsiz numara.\n",
    "Description: Ürün ismi.\n",
    "Quantity: Ürün adedi. Faturalardaki ürünlerden kaçar tane satıldığını ifade etmektedir. '-' ile başlarsa iade edildiğine işaret eder\n",
    "InvoiceDate: Fatura tarihi ve zamanı.\n",
    "UnitPrice: Ürün fiyatı.(Sterlin cinsinden)\n",
    "CustomerID: Eşsiz müşteri numarası.\n",
    "Country: Ülke ismi. Müşterinin yaşadığı ülke.\n",
    "\"\"\""
   ]
  },
  {
   "cell_type": "code",
   "execution_count": null,
   "metadata": {},
   "outputs": [],
   "source": [
    "\"\"\"Bir müşteri segmentasyonu yapabilmemiz için bu veriyi iyi incelememiz gerekmektedir\"\"\""
   ]
  },
  {
   "cell_type": "code",
   "execution_count": 2,
   "metadata": {},
   "outputs": [],
   "source": [
    "import numpy as np\n",
    "import pandas as pd"
   ]
  },
  {
   "cell_type": "code",
   "execution_count": 3,
   "metadata": {},
   "outputs": [],
   "source": [
    "pd.set_option('display.max_columns', None); pd.set_option('display.max_rows', None)\n",
    "pd.set_option('display.float_format', lambda x: '%.0f' % x)"
   ]
  },
  {
   "cell_type": "code",
   "execution_count": 8,
   "metadata": {},
   "outputs": [],
   "source": [
    "df_2010_2011 = pd.read_excel('./online_retail_2.xlsx', sheet_name=\"Year 2010-2011\")"
   ]
  },
  {
   "cell_type": "code",
   "execution_count": 9,
   "metadata": {},
   "outputs": [
    {
     "output_type": "execute_result",
     "data": {
      "text/plain": "WHITE HANGING HEART T-LIGHT HOLDER    2369\nREGENCY CAKESTAND 3 TIER              2200\nJUMBO BAG RED RETROSPOT               2159\nPARTY BUNTING                         1727\nLUNCH BAG RED RETROSPOT               1638\nName: Description, dtype: int64"
     },
     "metadata": {},
     "execution_count": 9
    }
   ],
   "source": [
    "df = df_2010_2011.copy()\n",
    "#Hangi üründen kaç tane var?\n",
    "df[\"Description\"].value_counts().head()"
   ]
  },
  {
   "cell_type": "code",
   "execution_count": 10,
   "metadata": {},
   "outputs": [
    {
     "output_type": "execute_result",
     "data": {
      "text/plain": "4223"
     },
     "metadata": {},
     "execution_count": 10
    }
   ],
   "source": [
    "#Eşsiz ürün sayısı kaçtır?\n",
    "df[\"Description\"].nunique()"
   ]
  },
  {
   "cell_type": "code",
   "execution_count": 11,
   "metadata": {},
   "outputs": [
    {
     "output_type": "execute_result",
     "data": {
      "text/plain": "                                   Quantity\nDescription                                \nWORLD WAR 2 GLIDERS ASSTD DESIGNS     53847\nJUMBO BAG RED RETROSPOT               47363\nASSORTED COLOUR BIRD ORNAMENT         36381\nPOPCORN HOLDER                        36334\nPACK OF 72 RETROSPOT CAKE CASES       36039",
      "text/html": "<div>\n<style scoped>\n    .dataframe tbody tr th:only-of-type {\n        vertical-align: middle;\n    }\n\n    .dataframe tbody tr th {\n        vertical-align: top;\n    }\n\n    .dataframe thead th {\n        text-align: right;\n    }\n</style>\n<table border=\"1\" class=\"dataframe\">\n  <thead>\n    <tr style=\"text-align: right;\">\n      <th></th>\n      <th>Quantity</th>\n    </tr>\n    <tr>\n      <th>Description</th>\n      <th></th>\n    </tr>\n  </thead>\n  <tbody>\n    <tr>\n      <th>WORLD WAR 2 GLIDERS ASSTD DESIGNS</th>\n      <td>53847</td>\n    </tr>\n    <tr>\n      <th>JUMBO BAG RED RETROSPOT</th>\n      <td>47363</td>\n    </tr>\n    <tr>\n      <th>ASSORTED COLOUR BIRD ORNAMENT</th>\n      <td>36381</td>\n    </tr>\n    <tr>\n      <th>POPCORN HOLDER</th>\n      <td>36334</td>\n    </tr>\n    <tr>\n      <th>PACK OF 72 RETROSPOT CAKE CASES</th>\n      <td>36039</td>\n    </tr>\n  </tbody>\n</table>\n</div>"
     },
     "metadata": {},
     "execution_count": 11
    }
   ],
   "source": [
    "#En çok sipariş edilen ürün hangisidir?\n",
    "df.groupby(\"Description\").agg({\"Quantity\":\"sum\"}).sort_values(\"Quantity\", ascending = False).head()"
   ]
  },
  {
   "cell_type": "code",
   "execution_count": 12,
   "metadata": {},
   "outputs": [
    {
     "output_type": "execute_result",
     "data": {
      "text/plain": "25900"
     },
     "metadata": {},
     "execution_count": 12
    }
   ],
   "source": [
    "#Toplam kaç fatura kesilmiştir?\n",
    "df[\"Invoice\"].nunique()"
   ]
  },
  {
   "cell_type": "code",
   "execution_count": 13,
   "metadata": {},
   "outputs": [],
   "source": [
    "#Fatura başına ortalama kaç para kazanılmıştır?\n",
    "df[\"TotalPrice\"] = df[\"Quantity\"]*df[\"Price\"]"
   ]
  },
  {
   "cell_type": "code",
   "execution_count": 14,
   "metadata": {},
   "outputs": [
    {
     "output_type": "execute_result",
     "data": {
      "text/plain": "  Invoice StockCode                          Description  Quantity  \\\n0  536365    85123A   WHITE HANGING HEART T-LIGHT HOLDER         6   \n1  536365     71053                  WHITE METAL LANTERN         6   \n2  536365    84406B       CREAM CUPID HEARTS COAT HANGER         8   \n3  536365    84029G  KNITTED UNION FLAG HOT WATER BOTTLE         6   \n4  536365    84029E       RED WOOLLY HOTTIE WHITE HEART.         6   \n\n          InvoiceDate  Price  Customer ID         Country  TotalPrice  \n0 2010-12-01 08:26:00      3        17850  United Kingdom          15  \n1 2010-12-01 08:26:00      3        17850  United Kingdom          20  \n2 2010-12-01 08:26:00      3        17850  United Kingdom          22  \n3 2010-12-01 08:26:00      3        17850  United Kingdom          20  \n4 2010-12-01 08:26:00      3        17850  United Kingdom          20  ",
      "text/html": "<div>\n<style scoped>\n    .dataframe tbody tr th:only-of-type {\n        vertical-align: middle;\n    }\n\n    .dataframe tbody tr th {\n        vertical-align: top;\n    }\n\n    .dataframe thead th {\n        text-align: right;\n    }\n</style>\n<table border=\"1\" class=\"dataframe\">\n  <thead>\n    <tr style=\"text-align: right;\">\n      <th></th>\n      <th>Invoice</th>\n      <th>StockCode</th>\n      <th>Description</th>\n      <th>Quantity</th>\n      <th>InvoiceDate</th>\n      <th>Price</th>\n      <th>Customer ID</th>\n      <th>Country</th>\n      <th>TotalPrice</th>\n    </tr>\n  </thead>\n  <tbody>\n    <tr>\n      <th>0</th>\n      <td>536365</td>\n      <td>85123A</td>\n      <td>WHITE HANGING HEART T-LIGHT HOLDER</td>\n      <td>6</td>\n      <td>2010-12-01 08:26:00</td>\n      <td>3</td>\n      <td>17850</td>\n      <td>United Kingdom</td>\n      <td>15</td>\n    </tr>\n    <tr>\n      <th>1</th>\n      <td>536365</td>\n      <td>71053</td>\n      <td>WHITE METAL LANTERN</td>\n      <td>6</td>\n      <td>2010-12-01 08:26:00</td>\n      <td>3</td>\n      <td>17850</td>\n      <td>United Kingdom</td>\n      <td>20</td>\n    </tr>\n    <tr>\n      <th>2</th>\n      <td>536365</td>\n      <td>84406B</td>\n      <td>CREAM CUPID HEARTS COAT HANGER</td>\n      <td>8</td>\n      <td>2010-12-01 08:26:00</td>\n      <td>3</td>\n      <td>17850</td>\n      <td>United Kingdom</td>\n      <td>22</td>\n    </tr>\n    <tr>\n      <th>3</th>\n      <td>536365</td>\n      <td>84029G</td>\n      <td>KNITTED UNION FLAG HOT WATER BOTTLE</td>\n      <td>6</td>\n      <td>2010-12-01 08:26:00</td>\n      <td>3</td>\n      <td>17850</td>\n      <td>United Kingdom</td>\n      <td>20</td>\n    </tr>\n    <tr>\n      <th>4</th>\n      <td>536365</td>\n      <td>84029E</td>\n      <td>RED WOOLLY HOTTIE WHITE HEART.</td>\n      <td>6</td>\n      <td>2010-12-01 08:26:00</td>\n      <td>3</td>\n      <td>17850</td>\n      <td>United Kingdom</td>\n      <td>20</td>\n    </tr>\n  </tbody>\n</table>\n</div>"
     },
     "metadata": {},
     "execution_count": 14
    }
   ],
   "source": [
    "df.groupby(\"Invoice\").agg({\"TotalPrice\":\"sum\"}).head()\n",
    "df.head()"
   ]
  },
  {
   "cell_type": "code",
   "execution_count": 15,
   "metadata": {},
   "outputs": [
    {
     "output_type": "execute_result",
     "data": {
      "text/plain": "        Invoice  StockCode Description  Quantity         InvoiceDate  Price  \\\n222681  C556445          M      Manual        -1 2011-06-10 15:31:00  38970   \n524602  C580605  AMAZONFEE  AMAZON FEE        -1 2011-12-05 11:36:00  17836   \n43702   C540117  AMAZONFEE  AMAZON FEE        -1 2011-01-05 09:55:00  16888   \n43703   C540118  AMAZONFEE  AMAZON FEE        -1 2011-01-05 09:57:00  16454   \n16356   C537651  AMAZONFEE  AMAZON FEE        -1 2010-12-07 15:49:00  13541   \n\n        Customer ID         Country  TotalPrice  \n222681        15098  United Kingdom      -38970  \n524602          nan  United Kingdom      -17836  \n43702           nan  United Kingdom      -16888  \n43703           nan  United Kingdom      -16454  \n16356           nan  United Kingdom      -13541  ",
      "text/html": "<div>\n<style scoped>\n    .dataframe tbody tr th:only-of-type {\n        vertical-align: middle;\n    }\n\n    .dataframe tbody tr th {\n        vertical-align: top;\n    }\n\n    .dataframe thead th {\n        text-align: right;\n    }\n</style>\n<table border=\"1\" class=\"dataframe\">\n  <thead>\n    <tr style=\"text-align: right;\">\n      <th></th>\n      <th>Invoice</th>\n      <th>StockCode</th>\n      <th>Description</th>\n      <th>Quantity</th>\n      <th>InvoiceDate</th>\n      <th>Price</th>\n      <th>Customer ID</th>\n      <th>Country</th>\n      <th>TotalPrice</th>\n    </tr>\n  </thead>\n  <tbody>\n    <tr>\n      <th>222681</th>\n      <td>C556445</td>\n      <td>M</td>\n      <td>Manual</td>\n      <td>-1</td>\n      <td>2011-06-10 15:31:00</td>\n      <td>38970</td>\n      <td>15098</td>\n      <td>United Kingdom</td>\n      <td>-38970</td>\n    </tr>\n    <tr>\n      <th>524602</th>\n      <td>C580605</td>\n      <td>AMAZONFEE</td>\n      <td>AMAZON FEE</td>\n      <td>-1</td>\n      <td>2011-12-05 11:36:00</td>\n      <td>17836</td>\n      <td>nan</td>\n      <td>United Kingdom</td>\n      <td>-17836</td>\n    </tr>\n    <tr>\n      <th>43702</th>\n      <td>C540117</td>\n      <td>AMAZONFEE</td>\n      <td>AMAZON FEE</td>\n      <td>-1</td>\n      <td>2011-01-05 09:55:00</td>\n      <td>16888</td>\n      <td>nan</td>\n      <td>United Kingdom</td>\n      <td>-16888</td>\n    </tr>\n    <tr>\n      <th>43703</th>\n      <td>C540118</td>\n      <td>AMAZONFEE</td>\n      <td>AMAZON FEE</td>\n      <td>-1</td>\n      <td>2011-01-05 09:57:00</td>\n      <td>16454</td>\n      <td>nan</td>\n      <td>United Kingdom</td>\n      <td>-16454</td>\n    </tr>\n    <tr>\n      <th>16356</th>\n      <td>C537651</td>\n      <td>AMAZONFEE</td>\n      <td>AMAZON FEE</td>\n      <td>-1</td>\n      <td>2010-12-07 15:49:00</td>\n      <td>13541</td>\n      <td>nan</td>\n      <td>United Kingdom</td>\n      <td>-13541</td>\n    </tr>\n  </tbody>\n</table>\n</div>"
     },
     "metadata": {},
     "execution_count": 15
    }
   ],
   "source": [
    "#En pahalı ürünler hangileridir?\n",
    "df.sort_values(\"Price\", ascending = False).head()"
   ]
  },
  {
   "cell_type": "code",
   "execution_count": 16,
   "metadata": {},
   "outputs": [
    {
     "output_type": "execute_result",
     "data": {
      "text/plain": "United Kingdom          495478\nGermany                   9495\nFrance                    8558\nEIRE                      8196\nSpain                     2533\nNetherlands               2371\nBelgium                   2069\nSwitzerland               2002\nPortugal                  1519\nAustralia                 1259\nNorway                    1086\nItaly                      803\nChannel Islands            758\nFinland                    695\nCyprus                     622\nSweden                     462\nUnspecified                446\nAustria                    401\nDenmark                    389\nJapan                      358\nPoland                     341\nIsrael                     297\nUSA                        291\nHong Kong                  288\nSingapore                  229\nIceland                    182\nCanada                     151\nGreece                     146\nMalta                      127\nUnited Arab Emirates        68\nEuropean Community          61\nRSA                         58\nLebanon                     45\nLithuania                   35\nBrazil                      32\nCzech Republic              30\nBahrain                     19\nSaudi Arabia                10\nName: Country, dtype: int64"
     },
     "metadata": {},
     "execution_count": 16
    }
   ],
   "source": [
    "#Hangi ülkeden kaç sipariş geldi?\n",
    "df[\"Country\"].value_counts()"
   ]
  },
  {
   "cell_type": "code",
   "execution_count": 17,
   "metadata": {},
   "outputs": [
    {
     "output_type": "execute_result",
     "data": {
      "text/plain": "                TotalPrice\nCountry                   \nUnited Kingdom     8187806\nNetherlands         284662\nEIRE                263277\nGermany             221698\nFrance              197422",
      "text/html": "<div>\n<style scoped>\n    .dataframe tbody tr th:only-of-type {\n        vertical-align: middle;\n    }\n\n    .dataframe tbody tr th {\n        vertical-align: top;\n    }\n\n    .dataframe thead th {\n        text-align: right;\n    }\n</style>\n<table border=\"1\" class=\"dataframe\">\n  <thead>\n    <tr style=\"text-align: right;\">\n      <th></th>\n      <th>TotalPrice</th>\n    </tr>\n    <tr>\n      <th>Country</th>\n      <th></th>\n    </tr>\n  </thead>\n  <tbody>\n    <tr>\n      <th>United Kingdom</th>\n      <td>8187806</td>\n    </tr>\n    <tr>\n      <th>Netherlands</th>\n      <td>284662</td>\n    </tr>\n    <tr>\n      <th>EIRE</th>\n      <td>263277</td>\n    </tr>\n    <tr>\n      <th>Germany</th>\n      <td>221698</td>\n    </tr>\n    <tr>\n      <th>France</th>\n      <td>197422</td>\n    </tr>\n  </tbody>\n</table>\n</div>"
     },
     "metadata": {},
     "execution_count": 17
    }
   ],
   "source": [
    "#Hangi ülke ne kadar kazandırdı?\n",
    "df.groupby(\"Country\").agg({\"TotalPrice\":\"sum\"}).sort_values(\"TotalPrice\", ascending = False).head()"
   ]
  },
  {
   "cell_type": "code",
   "execution_count": 18,
   "metadata": {},
   "outputs": [
    {
     "output_type": "execute_result",
     "data": {
      "text/plain": "        Invoice StockCode                          Description  Quantity  \\\n540422  C581484     23843          PAPER CRAFT , LITTLE BIRDIE    -80995   \n61624   C541433     23166       MEDIUM CERAMIC TOP STORAGE JAR    -74215   \n4268    C536757     84347  ROTATING SILVER ANGELS T-LIGHT HLDR     -9360   \n\n               InvoiceDate  Price  Customer ID         Country  TotalPrice  \n540422 2011-12-09 09:27:00      2        16446  United Kingdom     -168470  \n61624  2011-01-18 10:17:00      1        12346  United Kingdom      -77184  \n4268   2010-12-02 14:23:00      0        15838  United Kingdom        -281  ",
      "text/html": "<div>\n<style scoped>\n    .dataframe tbody tr th:only-of-type {\n        vertical-align: middle;\n    }\n\n    .dataframe tbody tr th {\n        vertical-align: top;\n    }\n\n    .dataframe thead th {\n        text-align: right;\n    }\n</style>\n<table border=\"1\" class=\"dataframe\">\n  <thead>\n    <tr style=\"text-align: right;\">\n      <th></th>\n      <th>Invoice</th>\n      <th>StockCode</th>\n      <th>Description</th>\n      <th>Quantity</th>\n      <th>InvoiceDate</th>\n      <th>Price</th>\n      <th>Customer ID</th>\n      <th>Country</th>\n      <th>TotalPrice</th>\n    </tr>\n  </thead>\n  <tbody>\n    <tr>\n      <th>540422</th>\n      <td>C581484</td>\n      <td>23843</td>\n      <td>PAPER CRAFT , LITTLE BIRDIE</td>\n      <td>-80995</td>\n      <td>2011-12-09 09:27:00</td>\n      <td>2</td>\n      <td>16446</td>\n      <td>United Kingdom</td>\n      <td>-168470</td>\n    </tr>\n    <tr>\n      <th>61624</th>\n      <td>C541433</td>\n      <td>23166</td>\n      <td>MEDIUM CERAMIC TOP STORAGE JAR</td>\n      <td>-74215</td>\n      <td>2011-01-18 10:17:00</td>\n      <td>1</td>\n      <td>12346</td>\n      <td>United Kingdom</td>\n      <td>-77184</td>\n    </tr>\n    <tr>\n      <th>4268</th>\n      <td>C536757</td>\n      <td>84347</td>\n      <td>ROTATING SILVER ANGELS T-LIGHT HLDR</td>\n      <td>-9360</td>\n      <td>2010-12-02 14:23:00</td>\n      <td>0</td>\n      <td>15838</td>\n      <td>United Kingdom</td>\n      <td>-281</td>\n    </tr>\n  </tbody>\n</table>\n</div>"
     },
     "metadata": {},
     "execution_count": 18
    }
   ],
   "source": [
    "#En çok iade alan ürün hangisidir? \n",
    "#Invoice değişkeninde başında \"C\" ifadesi yer alan ürünler iptal edilmiştir. Veri setinde şu anda boş yani değerler bulunmaktadır.\n",
    "#Bu yüzden str.contains komutu içinde na değerlerini False olarak tanımlayıp görmezden geliyoruz. \n",
    "#Adet işlemi için de \"Quantity\" değişkenini azalan şekilde sıralayarak en çoktan en aza doğru iadeleri sıralayabiliriz.\n",
    "return_ = df[df[\"Invoice\"].str.contains(\"C\", na=False)]\n",
    "return_.sort_values(\"Quantity\", ascending = True).head(3)"
   ]
  },
  {
   "cell_type": "code",
   "execution_count": 19,
   "metadata": {},
   "outputs": [
    {
     "output_type": "execute_result",
     "data": {
      "text/plain": "(541910, 9)"
     },
     "metadata": {},
     "execution_count": 19
    }
   ],
   "source": [
    "#veri ön işleme\n",
    "df.shape"
   ]
  },
  {
   "cell_type": "code",
   "execution_count": 20,
   "metadata": {},
   "outputs": [
    {
     "output_type": "execute_result",
     "data": {
      "text/plain": "(406830, 9)"
     },
     "metadata": {},
     "execution_count": 20
    }
   ],
   "source": [
    "#Eksik değerleri veri setinden çıkarıyoruz.\n",
    "df.dropna(inplace = True)\n",
    "df.shape"
   ]
  },
  {
   "cell_type": "code",
   "execution_count": 21,
   "metadata": {},
   "outputs": [
    {
     "output_type": "execute_result",
     "data": {
      "text/plain": "             count  mean  std     min    1%    5%   10%   25%   50%   75%  \\\nQuantity    406830    12  249  -80995    -2     1     1     2     5    12   \nPrice       406830     3   69       0     0     0     1     1     2     4   \nCustomer ID 406830 15288 1714   12346 12415 12626 12876 13953 15152 16791   \nTotalPrice  406830    20  428 -168470   -10     1     2     4    11    20   \n\n              90%   95%   99%    max  \nQuantity       24    36   120  80995  \nPrice           7     8    15  38970  \nCustomer ID 17719 17905 18212  18287  \nTotalPrice     35    67   200 168470  ",
      "text/html": "<div>\n<style scoped>\n    .dataframe tbody tr th:only-of-type {\n        vertical-align: middle;\n    }\n\n    .dataframe tbody tr th {\n        vertical-align: top;\n    }\n\n    .dataframe thead th {\n        text-align: right;\n    }\n</style>\n<table border=\"1\" class=\"dataframe\">\n  <thead>\n    <tr style=\"text-align: right;\">\n      <th></th>\n      <th>count</th>\n      <th>mean</th>\n      <th>std</th>\n      <th>min</th>\n      <th>1%</th>\n      <th>5%</th>\n      <th>10%</th>\n      <th>25%</th>\n      <th>50%</th>\n      <th>75%</th>\n      <th>90%</th>\n      <th>95%</th>\n      <th>99%</th>\n      <th>max</th>\n    </tr>\n  </thead>\n  <tbody>\n    <tr>\n      <th>Quantity</th>\n      <td>406830</td>\n      <td>12</td>\n      <td>249</td>\n      <td>-80995</td>\n      <td>-2</td>\n      <td>1</td>\n      <td>1</td>\n      <td>2</td>\n      <td>5</td>\n      <td>12</td>\n      <td>24</td>\n      <td>36</td>\n      <td>120</td>\n      <td>80995</td>\n    </tr>\n    <tr>\n      <th>Price</th>\n      <td>406830</td>\n      <td>3</td>\n      <td>69</td>\n      <td>0</td>\n      <td>0</td>\n      <td>0</td>\n      <td>1</td>\n      <td>1</td>\n      <td>2</td>\n      <td>4</td>\n      <td>7</td>\n      <td>8</td>\n      <td>15</td>\n      <td>38970</td>\n    </tr>\n    <tr>\n      <th>Customer ID</th>\n      <td>406830</td>\n      <td>15288</td>\n      <td>1714</td>\n      <td>12346</td>\n      <td>12415</td>\n      <td>12626</td>\n      <td>12876</td>\n      <td>13953</td>\n      <td>15152</td>\n      <td>16791</td>\n      <td>17719</td>\n      <td>17905</td>\n      <td>18212</td>\n      <td>18287</td>\n    </tr>\n    <tr>\n      <th>TotalPrice</th>\n      <td>406830</td>\n      <td>20</td>\n      <td>428</td>\n      <td>-168470</td>\n      <td>-10</td>\n      <td>1</td>\n      <td>2</td>\n      <td>4</td>\n      <td>11</td>\n      <td>20</td>\n      <td>35</td>\n      <td>67</td>\n      <td>200</td>\n      <td>168470</td>\n    </tr>\n  </tbody>\n</table>\n</div>"
     },
     "metadata": {},
     "execution_count": 21
    }
   ],
   "source": [
    "#İstatistiksel değerleri, kartilleri inceleyerek veri seti hakkında bilgi ediniyoruz.\n",
    "df.describe([0.01,0.05,0.10,0.25,0.50,0.75,0.90,0.95, 0.99]).T"
   ]
  },
  {
   "cell_type": "code",
   "execution_count": 77,
   "metadata": {},
   "outputs": [
    {
     "output_type": "execute_result",
     "data": {
      "text/plain": "'RFM Skorları\\nRFM ifadesi Recency, Frequency, Monetary ifadelerinin baş harflerinden oluşur. Müşterilerin satın alma alışkanlıkları üzerinden pazarlama ve satış stratejileri belirlemeye yardımcı olan bir tekniktir.\\n\\nRecency (Yenilik): Müşterinin son satın almasından bugüne kadar geçen süre\\nDiğer bir ifadesiyle “Müşterinin son temasından bugüne kadar geçen süre” dir. (Bugünün tarihi - Son satın alma) şeklinde bulunur. Bugünün tarihi - son ürün satın alma tarihi. Çıkan değeri küçük olması istenir.\\n\\nFrequency (Sıklık): Toplam satın alma sayısı.\\n\\nMonetary (Parasal Değer): Müşterinin yaptığı toplam harcama.'"
     },
     "metadata": {},
     "execution_count": 77
    }
   ],
   "source": [
    "\"\"\"RFM Skorları\n",
    "RFM ifadesi Recency, Frequency, Monetary ifadelerinin baş harflerinden oluşur. Müşterilerin satın alma alışkanlıkları üzerinden pazarlama ve satış stratejileri belirlemeye yardımcı olan bir tekniktir.\n",
    "\n",
    "Recency (Yenilik): Müşterinin son satın almasından bugüne kadar geçen süre\n",
    "Diğer bir ifadesiyle “Müşterinin son temasından bugüne kadar geçen süre” dir. (Bugünün tarihi - Son satın alma) şeklinde bulunur. Bugünün tarihi - son ürün satın alma tarihi. Çıkan değeri küçük olması istenir.\n",
    "\n",
    "Frequency (Sıklık): Toplam satın alma sayısı.\n",
    "\n",
    "Monetary (Parasal Değer): Müşterinin yaptığı toplam harcama.\"\"\""
   ]
  },
  {
   "cell_type": "code",
   "execution_count": 78,
   "metadata": {},
   "outputs": [
    {
     "output_type": "execute_result",
     "data": {
      "text/plain": "Timestamp('2010-12-01 08:26:00')"
     },
     "metadata": {},
     "execution_count": 78
    }
   ],
   "source": [
    "#RECENCY\n",
    "#Alışveriş yapılan ilk günü buluyoruz.\n",
    "df[\"InvoiceDate\"].min()"
   ]
  },
  {
   "cell_type": "code",
   "execution_count": 79,
   "metadata": {},
   "outputs": [
    {
     "output_type": "execute_result",
     "data": {
      "text/plain": "datetime.datetime(2011, 12, 9, 0, 0)"
     },
     "metadata": {},
     "execution_count": 79
    }
   ],
   "source": [
    "#İnceleyeceğimiz veriler 2010-2011 yılları arasında olduğu için bugünün tarihini kendimiz belirliyoruz.\n",
    "#yyyy.aa.gg\n",
    "import datetime as dt\n",
    "today_date = dt.datetime(2011,12,9)\n",
    "today_date"
   ]
  },
  {
   "cell_type": "code",
   "execution_count": 80,
   "metadata": {},
   "outputs": [
    {
     "output_type": "execute_result",
     "data": {
      "text/plain": "                    InvoiceDate\nCustomer ID                    \n12346       2011-01-18 10:17:00\n12347       2011-12-07 15:52:00\n12348       2011-09-25 13:13:00\n12349       2011-11-21 09:51:00\n12350       2011-02-02 16:01:00",
      "text/html": "<div>\n<style scoped>\n    .dataframe tbody tr th:only-of-type {\n        vertical-align: middle;\n    }\n\n    .dataframe tbody tr th {\n        vertical-align: top;\n    }\n\n    .dataframe thead th {\n        text-align: right;\n    }\n</style>\n<table border=\"1\" class=\"dataframe\">\n  <thead>\n    <tr style=\"text-align: right;\">\n      <th></th>\n      <th>InvoiceDate</th>\n    </tr>\n    <tr>\n      <th>Customer ID</th>\n      <th></th>\n    </tr>\n  </thead>\n  <tbody>\n    <tr>\n      <th>12346</th>\n      <td>2011-01-18 10:17:00</td>\n    </tr>\n    <tr>\n      <th>12347</th>\n      <td>2011-12-07 15:52:00</td>\n    </tr>\n    <tr>\n      <th>12348</th>\n      <td>2011-09-25 13:13:00</td>\n    </tr>\n    <tr>\n      <th>12349</th>\n      <td>2011-11-21 09:51:00</td>\n    </tr>\n    <tr>\n      <th>12350</th>\n      <td>2011-02-02 16:01:00</td>\n    </tr>\n  </tbody>\n</table>\n</div>"
     },
     "metadata": {},
     "execution_count": 80
    }
   ],
   "source": [
    "#Müşteri ID'sine göre son yapılan alışveriş tarihlerine ulaşıyoruz.\n",
    "df.groupby(\"Customer ID\").agg({\"InvoiceDate\":\"max\"}).head()"
   ]
  },
  {
   "cell_type": "code",
   "execution_count": 103,
   "metadata": {},
   "outputs": [
    {
     "output_type": "execute_result",
     "data": {
      "text/plain": "                      Recency\nCustomer ID                  \n12346       324 days 13:43:00\n12347         1 days 08:08:00\n12348        74 days 10:47:00\n12349        17 days 14:09:00\n12350       309 days 07:59:00",
      "text/html": "<div>\n<style scoped>\n    .dataframe tbody tr th:only-of-type {\n        vertical-align: middle;\n    }\n\n    .dataframe tbody tr th {\n        vertical-align: top;\n    }\n\n    .dataframe thead th {\n        text-align: right;\n    }\n</style>\n<table border=\"1\" class=\"dataframe\">\n  <thead>\n    <tr style=\"text-align: right;\">\n      <th></th>\n      <th>Recency</th>\n    </tr>\n    <tr>\n      <th>Customer ID</th>\n      <th></th>\n    </tr>\n  </thead>\n  <tbody>\n    <tr>\n      <th>12346</th>\n      <td>324 days 13:43:00</td>\n    </tr>\n    <tr>\n      <th>12347</th>\n      <td>1 days 08:08:00</td>\n    </tr>\n    <tr>\n      <th>12348</th>\n      <td>74 days 10:47:00</td>\n    </tr>\n    <tr>\n      <th>12349</th>\n      <td>17 days 14:09:00</td>\n    </tr>\n    <tr>\n      <th>12350</th>\n      <td>309 days 07:59:00</td>\n    </tr>\n  </tbody>\n</table>\n</div>"
     },
     "metadata": {},
     "execution_count": 103
    }
   ],
   "source": [
    "#Bizim belirlediğimiz bugünün tarihi - alışveriş yapılan son tarih) işlemi yapıldığında recency değerini buluyoruz.\n",
    "temp_df = (today_date - df.groupby(\"Customer ID\").agg({\"InvoiceDate\":\"max\"}))\n",
    "temp_df.rename(columns={\"InvoiceDate\": \"Recency\"}, inplace = True)\n",
    "temp_df.head()"
   ]
  },
  {
   "cell_type": "code",
   "execution_count": 104,
   "metadata": {},
   "outputs": [
    {
     "output_type": "execute_result",
     "data": {
      "text/plain": "Customer ID\n12346    324\n12347      1\n12348     74\n12349     17\n12350    309\nName: Recency, dtype: int64"
     },
     "metadata": {},
     "execution_count": 104
    }
   ],
   "source": [
    "#Saat değerlerini silmek için, daha önce burası Invoice Date değişkeni ve veri tipi datetime olduğu için days'leri seçip saatleri siliyoruz.\n",
    "recency_df = temp_df[\"Recency\"].apply(lambda x: x.days)\n",
    "recency_df.head()"
   ]
  },
  {
   "cell_type": "code",
   "execution_count": 105,
   "metadata": {},
   "outputs": [
    {
     "output_type": "execute_result",
     "data": {
      "text/plain": "                     Invoice\nCustomer ID Invoice         \n12346       541431         1\n            C541433        1\n12347       537626        31\n            542237        29\n            549222        24",
      "text/html": "<div>\n<style scoped>\n    .dataframe tbody tr th:only-of-type {\n        vertical-align: middle;\n    }\n\n    .dataframe tbody tr th {\n        vertical-align: top;\n    }\n\n    .dataframe thead th {\n        text-align: right;\n    }\n</style>\n<table border=\"1\" class=\"dataframe\">\n  <thead>\n    <tr style=\"text-align: right;\">\n      <th></th>\n      <th></th>\n      <th>Invoice</th>\n    </tr>\n    <tr>\n      <th>Customer ID</th>\n      <th>Invoice</th>\n      <th></th>\n    </tr>\n  </thead>\n  <tbody>\n    <tr>\n      <th rowspan=\"2\" valign=\"top\">12346</th>\n      <th>541431</th>\n      <td>1</td>\n    </tr>\n    <tr>\n      <th>C541433</th>\n      <td>1</td>\n    </tr>\n    <tr>\n      <th rowspan=\"3\" valign=\"top\">12347</th>\n      <th>537626</th>\n      <td>31</td>\n    </tr>\n    <tr>\n      <th>542237</th>\n      <td>29</td>\n    </tr>\n    <tr>\n      <th>549222</th>\n      <td>24</td>\n    </tr>\n  </tbody>\n</table>\n</div>"
     },
     "metadata": {},
     "execution_count": 105
    }
   ],
   "source": [
    "#FREQUENCY\n",
    "temp_df = df.groupby([\"Customer ID\",\"Invoice\"]).agg({\"Invoice\":\"count\"})\n",
    "temp_df.head()"
   ]
  },
  {
   "cell_type": "code",
   "execution_count": 106,
   "metadata": {},
   "outputs": [
    {
     "output_type": "execute_result",
     "data": {
      "text/plain": "             Invoice\nCustomer ID         \n12346              2\n12347              7\n12348              4\n12349              1\n12350              1",
      "text/html": "<div>\n<style scoped>\n    .dataframe tbody tr th:only-of-type {\n        vertical-align: middle;\n    }\n\n    .dataframe tbody tr th {\n        vertical-align: top;\n    }\n\n    .dataframe thead th {\n        text-align: right;\n    }\n</style>\n<table border=\"1\" class=\"dataframe\">\n  <thead>\n    <tr style=\"text-align: right;\">\n      <th></th>\n      <th>Invoice</th>\n    </tr>\n    <tr>\n      <th>Customer ID</th>\n      <th></th>\n    </tr>\n  </thead>\n  <tbody>\n    <tr>\n      <th>12346</th>\n      <td>2</td>\n    </tr>\n    <tr>\n      <th>12347</th>\n      <td>7</td>\n    </tr>\n    <tr>\n      <th>12348</th>\n      <td>4</td>\n    </tr>\n    <tr>\n      <th>12349</th>\n      <td>1</td>\n    </tr>\n    <tr>\n      <th>12350</th>\n      <td>1</td>\n    </tr>\n  </tbody>\n</table>\n</div>"
     },
     "metadata": {},
     "execution_count": 106
    }
   ],
   "source": [
    "#Her müşteri kaç alışveriş yapmış toplamda bunu buluyoruz.\n",
    "temp_df.groupby(\"Customer ID\").agg({\"Invoice\":\"count\"}).head()"
   ]
  },
  {
   "cell_type": "code",
   "execution_count": 107,
   "metadata": {},
   "outputs": [
    {
     "output_type": "execute_result",
     "data": {
      "text/plain": "             Frequency\nCustomer ID           \n12346                2\n12347                7\n12348                4\n12349                1\n12350                1",
      "text/html": "<div>\n<style scoped>\n    .dataframe tbody tr th:only-of-type {\n        vertical-align: middle;\n    }\n\n    .dataframe tbody tr th {\n        vertical-align: top;\n    }\n\n    .dataframe thead th {\n        text-align: right;\n    }\n</style>\n<table border=\"1\" class=\"dataframe\">\n  <thead>\n    <tr style=\"text-align: right;\">\n      <th></th>\n      <th>Frequency</th>\n    </tr>\n    <tr>\n      <th>Customer ID</th>\n      <th></th>\n    </tr>\n  </thead>\n  <tbody>\n    <tr>\n      <th>12346</th>\n      <td>2</td>\n    </tr>\n    <tr>\n      <th>12347</th>\n      <td>7</td>\n    </tr>\n    <tr>\n      <th>12348</th>\n      <td>4</td>\n    </tr>\n    <tr>\n      <th>12349</th>\n      <td>1</td>\n    </tr>\n    <tr>\n      <th>12350</th>\n      <td>1</td>\n    </tr>\n  </tbody>\n</table>\n</div>"
     },
     "metadata": {},
     "execution_count": 107
    }
   ],
   "source": [
    "#Yukarıda yapmış olduğumuz işlemi bir değişkene atayıp \"Invoice\" yazan değişkeni de \"Frequency\" olarak değiştirip gözlemliyoruz.\n",
    "freq_df = temp_df.groupby(\"Customer ID\").agg({\"Invoice\":\"count\"})\n",
    "freq_df.rename(columns={\"Invoice\": \"Frequency\"}, inplace = True)\n",
    "freq_df.head()"
   ]
  },
  {
   "cell_type": "code",
   "execution_count": 108,
   "metadata": {},
   "outputs": [
    {
     "output_type": "execute_result",
     "data": {
      "text/plain": "             TotalPrice\nCustomer ID            \n12346                 0\n12347              4310\n12348              1797\n12349              1758\n12350               334",
      "text/html": "<div>\n<style scoped>\n    .dataframe tbody tr th:only-of-type {\n        vertical-align: middle;\n    }\n\n    .dataframe tbody tr th {\n        vertical-align: top;\n    }\n\n    .dataframe thead th {\n        text-align: right;\n    }\n</style>\n<table border=\"1\" class=\"dataframe\">\n  <thead>\n    <tr style=\"text-align: right;\">\n      <th></th>\n      <th>TotalPrice</th>\n    </tr>\n    <tr>\n      <th>Customer ID</th>\n      <th></th>\n    </tr>\n  </thead>\n  <tbody>\n    <tr>\n      <th>12346</th>\n      <td>0</td>\n    </tr>\n    <tr>\n      <th>12347</th>\n      <td>4310</td>\n    </tr>\n    <tr>\n      <th>12348</th>\n      <td>1797</td>\n    </tr>\n    <tr>\n      <th>12349</th>\n      <td>1758</td>\n    </tr>\n    <tr>\n      <th>12350</th>\n      <td>334</td>\n    </tr>\n  </tbody>\n</table>\n</div>"
     },
     "metadata": {},
     "execution_count": 108
    }
   ],
   "source": [
    "#MONETARY\n",
    "monetary_df = df.groupby(\"Customer ID\").agg({\"TotalPrice\":\"sum\"})\n",
    "monetary_df.head()"
   ]
  },
  {
   "cell_type": "code",
   "execution_count": 109,
   "metadata": {},
   "outputs": [
    {
     "output_type": "execute_result",
     "data": {
      "text/plain": "             Monetary\nCustomer ID          \n12346               0\n12347            4310\n12348            1797\n12349            1758\n12350             334",
      "text/html": "<div>\n<style scoped>\n    .dataframe tbody tr th:only-of-type {\n        vertical-align: middle;\n    }\n\n    .dataframe tbody tr th {\n        vertical-align: top;\n    }\n\n    .dataframe thead th {\n        text-align: right;\n    }\n</style>\n<table border=\"1\" class=\"dataframe\">\n  <thead>\n    <tr style=\"text-align: right;\">\n      <th></th>\n      <th>Monetary</th>\n    </tr>\n    <tr>\n      <th>Customer ID</th>\n      <th></th>\n    </tr>\n  </thead>\n  <tbody>\n    <tr>\n      <th>12346</th>\n      <td>0</td>\n    </tr>\n    <tr>\n      <th>12347</th>\n      <td>4310</td>\n    </tr>\n    <tr>\n      <th>12348</th>\n      <td>1797</td>\n    </tr>\n    <tr>\n      <th>12349</th>\n      <td>1758</td>\n    </tr>\n    <tr>\n      <th>12350</th>\n      <td>334</td>\n    </tr>\n  </tbody>\n</table>\n</div>"
     },
     "metadata": {},
     "execution_count": 109
    }
   ],
   "source": [
    "#Sutün adlandırmasını değiştiriyoruz.\n",
    "monetary_df.rename(columns={\"TotalPrice\": \"Monetary\"}, inplace = True)\n",
    "monetary_df.head()"
   ]
  },
  {
   "cell_type": "code",
   "execution_count": 110,
   "metadata": {
    "tags": []
   },
   "outputs": [
    {
     "output_type": "stream",
     "name": "stdout",
     "text": "(4372,) (4372, 1) (4372, 1)\n"
    }
   ],
   "source": [
    "print(recency_df.shape,freq_df.shape,monetary_df.shape)"
   ]
  },
  {
   "cell_type": "code",
   "execution_count": 111,
   "metadata": {},
   "outputs": [
    {
     "output_type": "execute_result",
     "data": {
      "text/plain": "             Recency  Frequency  Monetary\nCustomer ID                              \n12346            324          2         0\n12347              1          7      4310\n12348             74          4      1797\n12349             17          1      1758\n12350            309          1       334",
      "text/html": "<div>\n<style scoped>\n    .dataframe tbody tr th:only-of-type {\n        vertical-align: middle;\n    }\n\n    .dataframe tbody tr th {\n        vertical-align: top;\n    }\n\n    .dataframe thead th {\n        text-align: right;\n    }\n</style>\n<table border=\"1\" class=\"dataframe\">\n  <thead>\n    <tr style=\"text-align: right;\">\n      <th></th>\n      <th>Recency</th>\n      <th>Frequency</th>\n      <th>Monetary</th>\n    </tr>\n    <tr>\n      <th>Customer ID</th>\n      <th></th>\n      <th></th>\n      <th></th>\n    </tr>\n  </thead>\n  <tbody>\n    <tr>\n      <th>12346</th>\n      <td>324</td>\n      <td>2</td>\n      <td>0</td>\n    </tr>\n    <tr>\n      <th>12347</th>\n      <td>1</td>\n      <td>7</td>\n      <td>4310</td>\n    </tr>\n    <tr>\n      <th>12348</th>\n      <td>74</td>\n      <td>4</td>\n      <td>1797</td>\n    </tr>\n    <tr>\n      <th>12349</th>\n      <td>17</td>\n      <td>1</td>\n      <td>1758</td>\n    </tr>\n    <tr>\n      <th>12350</th>\n      <td>309</td>\n      <td>1</td>\n      <td>334</td>\n    </tr>\n  </tbody>\n</table>\n</div>"
     },
     "metadata": {},
     "execution_count": 111
    }
   ],
   "source": [
    "#RFM\n",
    "#Parametreleri bir dataframe olarak concat fonksiyonu yardımı ile birleştiriyoruz.\n",
    "rfm = pd.concat([recency_df, freq_df, monetary_df],  axis=1)\n",
    "rfm.head()"
   ]
  },
  {
   "cell_type": "code",
   "execution_count": 112,
   "metadata": {},
   "outputs": [
    {
     "output_type": "execute_result",
     "data": {
      "text/plain": "             Recency  Frequency  Monetary RecencyScore FrequencyScore  \\\nCustomer ID                                                             \n12346            324          2         0            1              2   \n12347              1          7      4310            5              4   \n12348             74          4      1797            2              3   \n12349             17          1      1758            4              1   \n12350            309          1       334            1              1   \n\n            MonetaryScore  \nCustomer ID                \n12346                   1  \n12347                   5  \n12348                   4  \n12349                   4  \n12350                   2  ",
      "text/html": "<div>\n<style scoped>\n    .dataframe tbody tr th:only-of-type {\n        vertical-align: middle;\n    }\n\n    .dataframe tbody tr th {\n        vertical-align: top;\n    }\n\n    .dataframe thead th {\n        text-align: right;\n    }\n</style>\n<table border=\"1\" class=\"dataframe\">\n  <thead>\n    <tr style=\"text-align: right;\">\n      <th></th>\n      <th>Recency</th>\n      <th>Frequency</th>\n      <th>Monetary</th>\n      <th>RecencyScore</th>\n      <th>FrequencyScore</th>\n      <th>MonetaryScore</th>\n    </tr>\n    <tr>\n      <th>Customer ID</th>\n      <th></th>\n      <th></th>\n      <th></th>\n      <th></th>\n      <th></th>\n      <th></th>\n    </tr>\n  </thead>\n  <tbody>\n    <tr>\n      <th>12346</th>\n      <td>324</td>\n      <td>2</td>\n      <td>0</td>\n      <td>1</td>\n      <td>2</td>\n      <td>1</td>\n    </tr>\n    <tr>\n      <th>12347</th>\n      <td>1</td>\n      <td>7</td>\n      <td>4310</td>\n      <td>5</td>\n      <td>4</td>\n      <td>5</td>\n    </tr>\n    <tr>\n      <th>12348</th>\n      <td>74</td>\n      <td>4</td>\n      <td>1797</td>\n      <td>2</td>\n      <td>3</td>\n      <td>4</td>\n    </tr>\n    <tr>\n      <th>12349</th>\n      <td>17</td>\n      <td>1</td>\n      <td>1758</td>\n      <td>4</td>\n      <td>1</td>\n      <td>4</td>\n    </tr>\n    <tr>\n      <th>12350</th>\n      <td>309</td>\n      <td>1</td>\n      <td>334</td>\n      <td>1</td>\n      <td>1</td>\n      <td>2</td>\n    </tr>\n  </tbody>\n</table>\n</div>"
     },
     "metadata": {},
     "execution_count": 112
    }
   ],
   "source": [
    "#Değerler görüldüğü üzere 1 ile 5 arasında olan değerlerdir. 5 çok iyi, 1 ise çok kötü anlamına gelmektedir.\n",
    "#pd.qcut(1d array or series, number of quantiles, labels = labesl)\n",
    "#Ve yeni skorlarını da eklemiş olduk\n",
    "rfm[\"RecencyScore\"] = pd.qcut(rfm['Recency'], 5, labels = [5, 4, 3, 2, 1])\n",
    "rfm[\"FrequencyScore\"] = pd.qcut(rfm['Frequency'].rank(method = \"first\"), 5, labels = [1,2,3,4,5]) #arraydeki görülmelerine göre sıralanıyorlar\n",
    "rfm[\"MonetaryScore\"] = pd.qcut(rfm['Monetary'], 5, labels = [1, 2, 3, 4, 5])\n",
    "rfm.head()"
   ]
  },
  {
   "cell_type": "code",
   "execution_count": 113,
   "metadata": {},
   "outputs": [
    {
     "output_type": "execute_result",
     "data": {
      "text/plain": "Customer ID\n12346    121\n12347    545\n12348    234\n12349    414\n12350    112\ndtype: object"
     },
     "metadata": {},
     "execution_count": 113
    }
   ],
   "source": [
    "#Skorları yanyana yazdırıyoruz.\n",
    "(rfm['RecencyScore'].astype(str) + \n",
    " rfm['FrequencyScore'].astype(str) + \n",
    " rfm['MonetaryScore'].astype(str)).head()"
   ]
  },
  {
   "cell_type": "code",
   "execution_count": 114,
   "metadata": {},
   "outputs": [
    {
     "output_type": "execute_result",
     "data": {
      "text/plain": "             Recency  Frequency  Monetary RecencyScore FrequencyScore  \\\nCustomer ID                                                             \n12346            324          2         0            1              2   \n12347              1          7      4310            5              4   \n12348             74          4      1797            2              3   \n12349             17          1      1758            4              1   \n12350            309          1       334            1              1   \n\n            MonetaryScore RFM_SCORE  \nCustomer ID                          \n12346                   1       121  \n12347                   5       545  \n12348                   4       234  \n12349                   4       414  \n12350                   2       112  ",
      "text/html": "<div>\n<style scoped>\n    .dataframe tbody tr th:only-of-type {\n        vertical-align: middle;\n    }\n\n    .dataframe tbody tr th {\n        vertical-align: top;\n    }\n\n    .dataframe thead th {\n        text-align: right;\n    }\n</style>\n<table border=\"1\" class=\"dataframe\">\n  <thead>\n    <tr style=\"text-align: right;\">\n      <th></th>\n      <th>Recency</th>\n      <th>Frequency</th>\n      <th>Monetary</th>\n      <th>RecencyScore</th>\n      <th>FrequencyScore</th>\n      <th>MonetaryScore</th>\n      <th>RFM_SCORE</th>\n    </tr>\n    <tr>\n      <th>Customer ID</th>\n      <th></th>\n      <th></th>\n      <th></th>\n      <th></th>\n      <th></th>\n      <th></th>\n      <th></th>\n    </tr>\n  </thead>\n  <tbody>\n    <tr>\n      <th>12346</th>\n      <td>324</td>\n      <td>2</td>\n      <td>0</td>\n      <td>1</td>\n      <td>2</td>\n      <td>1</td>\n      <td>121</td>\n    </tr>\n    <tr>\n      <th>12347</th>\n      <td>1</td>\n      <td>7</td>\n      <td>4310</td>\n      <td>5</td>\n      <td>4</td>\n      <td>5</td>\n      <td>545</td>\n    </tr>\n    <tr>\n      <th>12348</th>\n      <td>74</td>\n      <td>4</td>\n      <td>1797</td>\n      <td>2</td>\n      <td>3</td>\n      <td>4</td>\n      <td>234</td>\n    </tr>\n    <tr>\n      <th>12349</th>\n      <td>17</td>\n      <td>1</td>\n      <td>1758</td>\n      <td>4</td>\n      <td>1</td>\n      <td>4</td>\n      <td>414</td>\n    </tr>\n    <tr>\n      <th>12350</th>\n      <td>309</td>\n      <td>1</td>\n      <td>334</td>\n      <td>1</td>\n      <td>1</td>\n      <td>2</td>\n      <td>112</td>\n    </tr>\n  </tbody>\n</table>\n</div>"
     },
     "metadata": {},
     "execution_count": 114
    }
   ],
   "source": [
    "#RFM_SCORE sütununu Dataframe tablosuna ekliyoruz.\n",
    "rfm[\"RFM_SCORE\"] = rfm['RecencyScore'].astype(str) + rfm['FrequencyScore'].astype(str) + rfm['MonetaryScore'].astype(str)\n",
    "rfm.head()"
   ]
  },
  {
   "cell_type": "code",
   "execution_count": 115,
   "metadata": {},
   "outputs": [
    {
     "output_type": "execute_result",
     "data": {
      "text/plain": "           count  mean  std   min  25%  50%  75%    max\nRecency     4372    91  101    -1   15   49  142    372\nFrequency   4372     5    9     1    1    3    5    248\nMonetary    4372  1898 8219 -4288  293  648 1612 279489",
      "text/html": "<div>\n<style scoped>\n    .dataframe tbody tr th:only-of-type {\n        vertical-align: middle;\n    }\n\n    .dataframe tbody tr th {\n        vertical-align: top;\n    }\n\n    .dataframe thead th {\n        text-align: right;\n    }\n</style>\n<table border=\"1\" class=\"dataframe\">\n  <thead>\n    <tr style=\"text-align: right;\">\n      <th></th>\n      <th>count</th>\n      <th>mean</th>\n      <th>std</th>\n      <th>min</th>\n      <th>25%</th>\n      <th>50%</th>\n      <th>75%</th>\n      <th>max</th>\n    </tr>\n  </thead>\n  <tbody>\n    <tr>\n      <th>Recency</th>\n      <td>4372</td>\n      <td>91</td>\n      <td>101</td>\n      <td>-1</td>\n      <td>15</td>\n      <td>49</td>\n      <td>142</td>\n      <td>372</td>\n    </tr>\n    <tr>\n      <th>Frequency</th>\n      <td>4372</td>\n      <td>5</td>\n      <td>9</td>\n      <td>1</td>\n      <td>1</td>\n      <td>3</td>\n      <td>5</td>\n      <td>248</td>\n    </tr>\n    <tr>\n      <th>Monetary</th>\n      <td>4372</td>\n      <td>1898</td>\n      <td>8219</td>\n      <td>-4288</td>\n      <td>293</td>\n      <td>648</td>\n      <td>1612</td>\n      <td>279489</td>\n    </tr>\n  </tbody>\n</table>\n</div>"
     },
     "metadata": {},
     "execution_count": 115
    }
   ],
   "source": [
    "#Betimsel istatistikleri inceliyoruz.\n",
    "rfm.describe().T"
   ]
  },
  {
   "cell_type": "code",
   "execution_count": 116,
   "metadata": {},
   "outputs": [
    {
     "output_type": "execute_result",
     "data": {
      "text/plain": "             Recency  Frequency  Monetary RecencyScore FrequencyScore  \\\nCustomer ID                                                             \n12362              2         13      5155            5              5   \n12417              2         12      3579            5              5   \n12437              0         19      4897            5              5   \n12471              1         49     18741            5              5   \n12476              0         20      6547            5              5   \n\n            MonetaryScore RFM_SCORE  \nCustomer ID                          \n12362                   5       555  \n12417                   5       555  \n12437                   5       555  \n12471                   5       555  \n12476                   5       555  ",
      "text/html": "<div>\n<style scoped>\n    .dataframe tbody tr th:only-of-type {\n        vertical-align: middle;\n    }\n\n    .dataframe tbody tr th {\n        vertical-align: top;\n    }\n\n    .dataframe thead th {\n        text-align: right;\n    }\n</style>\n<table border=\"1\" class=\"dataframe\">\n  <thead>\n    <tr style=\"text-align: right;\">\n      <th></th>\n      <th>Recency</th>\n      <th>Frequency</th>\n      <th>Monetary</th>\n      <th>RecencyScore</th>\n      <th>FrequencyScore</th>\n      <th>MonetaryScore</th>\n      <th>RFM_SCORE</th>\n    </tr>\n    <tr>\n      <th>Customer ID</th>\n      <th></th>\n      <th></th>\n      <th></th>\n      <th></th>\n      <th></th>\n      <th></th>\n      <th></th>\n    </tr>\n  </thead>\n  <tbody>\n    <tr>\n      <th>12362</th>\n      <td>2</td>\n      <td>13</td>\n      <td>5155</td>\n      <td>5</td>\n      <td>5</td>\n      <td>5</td>\n      <td>555</td>\n    </tr>\n    <tr>\n      <th>12417</th>\n      <td>2</td>\n      <td>12</td>\n      <td>3579</td>\n      <td>5</td>\n      <td>5</td>\n      <td>5</td>\n      <td>555</td>\n    </tr>\n    <tr>\n      <th>12437</th>\n      <td>0</td>\n      <td>19</td>\n      <td>4897</td>\n      <td>5</td>\n      <td>5</td>\n      <td>5</td>\n      <td>555</td>\n    </tr>\n    <tr>\n      <th>12471</th>\n      <td>1</td>\n      <td>49</td>\n      <td>18741</td>\n      <td>5</td>\n      <td>5</td>\n      <td>5</td>\n      <td>555</td>\n    </tr>\n    <tr>\n      <th>12476</th>\n      <td>0</td>\n      <td>20</td>\n      <td>6547</td>\n      <td>5</td>\n      <td>5</td>\n      <td>5</td>\n      <td>555</td>\n    </tr>\n  </tbody>\n</table>\n</div>"
     },
     "metadata": {},
     "execution_count": 116
    }
   ],
   "source": [
    "#En iyi müşteriler gösterilmektedir.\n",
    "rfm[rfm[\"RFM_SCORE\"] == \"555\"].head()"
   ]
  },
  {
   "cell_type": "code",
   "execution_count": 117,
   "metadata": {},
   "outputs": [
    {
     "output_type": "execute_result",
     "data": {
      "text/plain": "             Recency  Frequency  Monetary RecencyScore FrequencyScore  \\\nCustomer ID                                                             \n12353            203          1        89            1              1   \n12361            286          1       190            1              1   \n12401            302          1        84            1              1   \n12402            322          1       226            1              1   \n12441            365          1       174            1              1   \n\n            MonetaryScore RFM_SCORE  \nCustomer ID                          \n12353                   1       111  \n12361                   1       111  \n12401                   1       111  \n12402                   1       111  \n12441                   1       111  ",
      "text/html": "<div>\n<style scoped>\n    .dataframe tbody tr th:only-of-type {\n        vertical-align: middle;\n    }\n\n    .dataframe tbody tr th {\n        vertical-align: top;\n    }\n\n    .dataframe thead th {\n        text-align: right;\n    }\n</style>\n<table border=\"1\" class=\"dataframe\">\n  <thead>\n    <tr style=\"text-align: right;\">\n      <th></th>\n      <th>Recency</th>\n      <th>Frequency</th>\n      <th>Monetary</th>\n      <th>RecencyScore</th>\n      <th>FrequencyScore</th>\n      <th>MonetaryScore</th>\n      <th>RFM_SCORE</th>\n    </tr>\n    <tr>\n      <th>Customer ID</th>\n      <th></th>\n      <th></th>\n      <th></th>\n      <th></th>\n      <th></th>\n      <th></th>\n      <th></th>\n    </tr>\n  </thead>\n  <tbody>\n    <tr>\n      <th>12353</th>\n      <td>203</td>\n      <td>1</td>\n      <td>89</td>\n      <td>1</td>\n      <td>1</td>\n      <td>1</td>\n      <td>111</td>\n    </tr>\n    <tr>\n      <th>12361</th>\n      <td>286</td>\n      <td>1</td>\n      <td>190</td>\n      <td>1</td>\n      <td>1</td>\n      <td>1</td>\n      <td>111</td>\n    </tr>\n    <tr>\n      <th>12401</th>\n      <td>302</td>\n      <td>1</td>\n      <td>84</td>\n      <td>1</td>\n      <td>1</td>\n      <td>1</td>\n      <td>111</td>\n    </tr>\n    <tr>\n      <th>12402</th>\n      <td>322</td>\n      <td>1</td>\n      <td>226</td>\n      <td>1</td>\n      <td>1</td>\n      <td>1</td>\n      <td>111</td>\n    </tr>\n    <tr>\n      <th>12441</th>\n      <td>365</td>\n      <td>1</td>\n      <td>174</td>\n      <td>1</td>\n      <td>1</td>\n      <td>1</td>\n      <td>111</td>\n    </tr>\n  </tbody>\n</table>\n</div>"
     },
     "metadata": {},
     "execution_count": 117
    }
   ],
   "source": [
    "#En kötü müşteriler gösterilmektedir.\n",
    "rfm[rfm[\"RFM_SCORE\"] == \"111\"].head()"
   ]
  },
  {
   "cell_type": "code",
   "execution_count": 118,
   "metadata": {},
   "outputs": [],
   "source": [
    "#RFM skorlarına göre müşterileri sınıflara atıyoruz. Bu sınıfların hangi skor aralığında olacağı aşağıda belirtilmiştir. \n",
    "#Örnek olarak Hibernating sınıfı şu skor değerlerine sahiptir. \n",
    "#Recency değeri 1-2, Frequency değeri 1-2 olanlardır diğer sınıflarda bu şekilde okunmaktadır.\n",
    "#Buraya sadece Recency ve Frequency eklenmesinin sebebi tabloda sadece bu iki parametre yer almaktadır.\n",
    "#Ancak Monetary de eklenebilir.\n",
    "seg_map = {\n",
    "    r'[1-2][1-2]': 'Hibernating',\n",
    "    r'[1-2][3-4]': 'At Risk',\n",
    "    r'[1-2]5': 'Can\\'t Loose',\n",
    "    r'3[1-2]': 'About to Sleep',\n",
    "    r'33': 'Need Attention',\n",
    "    r'[3-4][4-5]': 'Loyal Customers',\n",
    "    r'41': 'Promising',\n",
    "    r'51': 'New Customers',\n",
    "    r'[4-5][2-3]': 'Potential Loyalists',\n",
    "    r'5[4-5]': 'Champions'\n",
    "}"
   ]
  },
  {
   "cell_type": "code",
   "execution_count": 119,
   "metadata": {},
   "outputs": [
    {
     "output_type": "execute_result",
     "data": {
      "text/plain": "             Recency  Frequency  Monetary RecencyScore FrequencyScore  \\\nCustomer ID                                                             \n12346            324          2         0            1              2   \n12347              1          7      4310            5              4   \n12348             74          4      1797            2              3   \n12349             17          1      1758            4              1   \n12350            309          1       334            1              1   \n\n            MonetaryScore RFM_SCORE      Segment  \nCustomer ID                                       \n12346                   1       121  Hibernating  \n12347                   5       545    Champions  \n12348                   4       234      At Risk  \n12349                   4       414    Promising  \n12350                   2       112  Hibernating  ",
      "text/html": "<div>\n<style scoped>\n    .dataframe tbody tr th:only-of-type {\n        vertical-align: middle;\n    }\n\n    .dataframe tbody tr th {\n        vertical-align: top;\n    }\n\n    .dataframe thead th {\n        text-align: right;\n    }\n</style>\n<table border=\"1\" class=\"dataframe\">\n  <thead>\n    <tr style=\"text-align: right;\">\n      <th></th>\n      <th>Recency</th>\n      <th>Frequency</th>\n      <th>Monetary</th>\n      <th>RecencyScore</th>\n      <th>FrequencyScore</th>\n      <th>MonetaryScore</th>\n      <th>RFM_SCORE</th>\n      <th>Segment</th>\n    </tr>\n    <tr>\n      <th>Customer ID</th>\n      <th></th>\n      <th></th>\n      <th></th>\n      <th></th>\n      <th></th>\n      <th></th>\n      <th></th>\n      <th></th>\n    </tr>\n  </thead>\n  <tbody>\n    <tr>\n      <th>12346</th>\n      <td>324</td>\n      <td>2</td>\n      <td>0</td>\n      <td>1</td>\n      <td>2</td>\n      <td>1</td>\n      <td>121</td>\n      <td>Hibernating</td>\n    </tr>\n    <tr>\n      <th>12347</th>\n      <td>1</td>\n      <td>7</td>\n      <td>4310</td>\n      <td>5</td>\n      <td>4</td>\n      <td>5</td>\n      <td>545</td>\n      <td>Champions</td>\n    </tr>\n    <tr>\n      <th>12348</th>\n      <td>74</td>\n      <td>4</td>\n      <td>1797</td>\n      <td>2</td>\n      <td>3</td>\n      <td>4</td>\n      <td>234</td>\n      <td>At Risk</td>\n    </tr>\n    <tr>\n      <th>12349</th>\n      <td>17</td>\n      <td>1</td>\n      <td>1758</td>\n      <td>4</td>\n      <td>1</td>\n      <td>4</td>\n      <td>414</td>\n      <td>Promising</td>\n    </tr>\n    <tr>\n      <th>12350</th>\n      <td>309</td>\n      <td>1</td>\n      <td>334</td>\n      <td>1</td>\n      <td>1</td>\n      <td>2</td>\n      <td>112</td>\n      <td>Hibernating</td>\n    </tr>\n  </tbody>\n</table>\n</div>"
     },
     "metadata": {},
     "execution_count": 119
    }
   ],
   "source": [
    "#Yukarıda tanımlanan seg_map'i dataframe tablosuna dahil ediyoruz.\n",
    "rfm['Segment'] = rfm['RecencyScore'].astype(str) + rfm['FrequencyScore'].astype(str)\n",
    "rfm['Segment'] = rfm['Segment'].replace(seg_map, regex=True)\n",
    "rfm.head()"
   ]
  },
  {
   "cell_type": "code",
   "execution_count": 120,
   "metadata": {},
   "outputs": [
    {
     "output_type": "execute_result",
     "data": {
      "text/plain": "                    Recency       Frequency       Monetary      \n                       mean count      mean count     mean count\nSegment                                                         \nAbout to Sleep           51   369         1   369      435   369\nAt Risk                 157   603         3   603      951   603\nCan't Loose             132    68        10    68     2381    68\nChampions                 4   665        15   665     6510   665\nHibernating             216  1053         1  1053      376  1053\nLoyal Customers          31   795         8   795     2703   795\nNeed Attention           48   190         3   190      790   190\nNew Customers             5    42         1    42      377    42\nPotential Loyalists      15   490         2   490      684   490\nPromising                21    97         1    97      303    97",
      "text/html": "<div>\n<style scoped>\n    .dataframe tbody tr th:only-of-type {\n        vertical-align: middle;\n    }\n\n    .dataframe tbody tr th {\n        vertical-align: top;\n    }\n\n    .dataframe thead tr th {\n        text-align: left;\n    }\n\n    .dataframe thead tr:last-of-type th {\n        text-align: right;\n    }\n</style>\n<table border=\"1\" class=\"dataframe\">\n  <thead>\n    <tr>\n      <th></th>\n      <th colspan=\"2\" halign=\"left\">Recency</th>\n      <th colspan=\"2\" halign=\"left\">Frequency</th>\n      <th colspan=\"2\" halign=\"left\">Monetary</th>\n    </tr>\n    <tr>\n      <th></th>\n      <th>mean</th>\n      <th>count</th>\n      <th>mean</th>\n      <th>count</th>\n      <th>mean</th>\n      <th>count</th>\n    </tr>\n    <tr>\n      <th>Segment</th>\n      <th></th>\n      <th></th>\n      <th></th>\n      <th></th>\n      <th></th>\n      <th></th>\n    </tr>\n  </thead>\n  <tbody>\n    <tr>\n      <th>About to Sleep</th>\n      <td>51</td>\n      <td>369</td>\n      <td>1</td>\n      <td>369</td>\n      <td>435</td>\n      <td>369</td>\n    </tr>\n    <tr>\n      <th>At Risk</th>\n      <td>157</td>\n      <td>603</td>\n      <td>3</td>\n      <td>603</td>\n      <td>951</td>\n      <td>603</td>\n    </tr>\n    <tr>\n      <th>Can't Loose</th>\n      <td>132</td>\n      <td>68</td>\n      <td>10</td>\n      <td>68</td>\n      <td>2381</td>\n      <td>68</td>\n    </tr>\n    <tr>\n      <th>Champions</th>\n      <td>4</td>\n      <td>665</td>\n      <td>15</td>\n      <td>665</td>\n      <td>6510</td>\n      <td>665</td>\n    </tr>\n    <tr>\n      <th>Hibernating</th>\n      <td>216</td>\n      <td>1053</td>\n      <td>1</td>\n      <td>1053</td>\n      <td>376</td>\n      <td>1053</td>\n    </tr>\n    <tr>\n      <th>Loyal Customers</th>\n      <td>31</td>\n      <td>795</td>\n      <td>8</td>\n      <td>795</td>\n      <td>2703</td>\n      <td>795</td>\n    </tr>\n    <tr>\n      <th>Need Attention</th>\n      <td>48</td>\n      <td>190</td>\n      <td>3</td>\n      <td>190</td>\n      <td>790</td>\n      <td>190</td>\n    </tr>\n    <tr>\n      <th>New Customers</th>\n      <td>5</td>\n      <td>42</td>\n      <td>1</td>\n      <td>42</td>\n      <td>377</td>\n      <td>42</td>\n    </tr>\n    <tr>\n      <th>Potential Loyalists</th>\n      <td>15</td>\n      <td>490</td>\n      <td>2</td>\n      <td>490</td>\n      <td>684</td>\n      <td>490</td>\n    </tr>\n    <tr>\n      <th>Promising</th>\n      <td>21</td>\n      <td>97</td>\n      <td>1</td>\n      <td>97</td>\n      <td>303</td>\n      <td>97</td>\n    </tr>\n  </tbody>\n</table>\n</div>"
     },
     "metadata": {},
     "execution_count": 120
    }
   ],
   "source": [
    "#Segmentlere göre groupby yaparak elde edilen 3 parametrenin ortalama ve kaç adet olduğunu buluyoruz.\n",
    "rfm[[\"Segment\", \"Recency\",\"Frequency\",\"Monetary\"]].groupby(\"Segment\").agg([\"mean\",\"count\"])"
   ]
  },
  {
   "cell_type": "code",
   "execution_count": 121,
   "metadata": {},
   "outputs": [
    {
     "output_type": "execute_result",
     "data": {
      "text/plain": "             Recency  Frequency  Monetary RecencyScore FrequencyScore  \\\nCustomer ID                                                             \n12360             51          3      2662            3              3   \n12370             50          4      3546            3              3   \n12372             70          3      1298            3              3   \n12546             45          3      1142            3              3   \n12759             51          3      1531            3              3   \n\n            MonetaryScore RFM_SCORE         Segment  \nCustomer ID                                          \n12360                   5       335  Need Attention  \n12370                   5       335  Need Attention  \n12372                   4       334  Need Attention  \n12546                   4       334  Need Attention  \n12759                   4       334  Need Attention  ",
      "text/html": "<div>\n<style scoped>\n    .dataframe tbody tr th:only-of-type {\n        vertical-align: middle;\n    }\n\n    .dataframe tbody tr th {\n        vertical-align: top;\n    }\n\n    .dataframe thead th {\n        text-align: right;\n    }\n</style>\n<table border=\"1\" class=\"dataframe\">\n  <thead>\n    <tr style=\"text-align: right;\">\n      <th></th>\n      <th>Recency</th>\n      <th>Frequency</th>\n      <th>Monetary</th>\n      <th>RecencyScore</th>\n      <th>FrequencyScore</th>\n      <th>MonetaryScore</th>\n      <th>RFM_SCORE</th>\n      <th>Segment</th>\n    </tr>\n    <tr>\n      <th>Customer ID</th>\n      <th></th>\n      <th></th>\n      <th></th>\n      <th></th>\n      <th></th>\n      <th></th>\n      <th></th>\n      <th></th>\n    </tr>\n  </thead>\n  <tbody>\n    <tr>\n      <th>12360</th>\n      <td>51</td>\n      <td>3</td>\n      <td>2662</td>\n      <td>3</td>\n      <td>3</td>\n      <td>5</td>\n      <td>335</td>\n      <td>Need Attention</td>\n    </tr>\n    <tr>\n      <th>12370</th>\n      <td>50</td>\n      <td>4</td>\n      <td>3546</td>\n      <td>3</td>\n      <td>3</td>\n      <td>5</td>\n      <td>335</td>\n      <td>Need Attention</td>\n    </tr>\n    <tr>\n      <th>12372</th>\n      <td>70</td>\n      <td>3</td>\n      <td>1298</td>\n      <td>3</td>\n      <td>3</td>\n      <td>4</td>\n      <td>334</td>\n      <td>Need Attention</td>\n    </tr>\n    <tr>\n      <th>12546</th>\n      <td>45</td>\n      <td>3</td>\n      <td>1142</td>\n      <td>3</td>\n      <td>3</td>\n      <td>4</td>\n      <td>334</td>\n      <td>Need Attention</td>\n    </tr>\n    <tr>\n      <th>12759</th>\n      <td>51</td>\n      <td>3</td>\n      <td>1531</td>\n      <td>3</td>\n      <td>3</td>\n      <td>4</td>\n      <td>334</td>\n      <td>Need Attention</td>\n    </tr>\n  </tbody>\n</table>\n</div>"
     },
     "metadata": {},
     "execution_count": 121
    }
   ],
   "source": [
    "#\"Need Attention\" grubunu yakalıyoruz.\n",
    "rfm[rfm[\"Segment\"] == \"Need Attention\"].head()"
   ]
  },
  {
   "cell_type": "code",
   "execution_count": 122,
   "metadata": {},
   "outputs": [
    {
     "output_type": "execute_result",
     "data": {
      "text/plain": "Float64Index([12360.0, 12370.0, 12372.0, 12546.0, 12759.0, 12808.0, 12822.0,\n              12886.0, 12895.0, 13032.0,\n              ...\n              18170.0, 18194.0, 18205.0, 18228.0, 18235.0, 18252.0, 18261.0,\n              18270.0, 18277.0, 18287.0],\n             dtype='float64', name='Customer ID', length=190)"
     },
     "metadata": {},
     "execution_count": 122
    }
   ],
   "source": [
    "#Dikkat gerektiren müşterilerin Customer ID (indeks) değerlerine erişilmiştir.\n",
    "#Yeni müşterilere özel promosyonlar ve mailler bu ID'ler sayesinde atılabilir.\n",
    "rfm[rfm[\"Segment\"] == \"Need Attention\"].index"
   ]
  },
  {
   "cell_type": "code",
   "execution_count": 123,
   "metadata": {},
   "outputs": [
    {
     "output_type": "execute_result",
     "data": {
      "text/plain": "   NewCustomerID\n0          12360\n1          12370\n2          12372\n3          12546\n4          12759",
      "text/html": "<div>\n<style scoped>\n    .dataframe tbody tr th:only-of-type {\n        vertical-align: middle;\n    }\n\n    .dataframe tbody tr th {\n        vertical-align: top;\n    }\n\n    .dataframe thead th {\n        text-align: right;\n    }\n</style>\n<table border=\"1\" class=\"dataframe\">\n  <thead>\n    <tr style=\"text-align: right;\">\n      <th></th>\n      <th>NewCustomerID</th>\n    </tr>\n  </thead>\n  <tbody>\n    <tr>\n      <th>0</th>\n      <td>12360</td>\n    </tr>\n    <tr>\n      <th>1</th>\n      <td>12370</td>\n    </tr>\n    <tr>\n      <th>2</th>\n      <td>12372</td>\n    </tr>\n    <tr>\n      <th>3</th>\n      <td>12546</td>\n    </tr>\n    <tr>\n      <th>4</th>\n      <td>12759</td>\n    </tr>\n  </tbody>\n</table>\n</div>"
     },
     "metadata": {},
     "execution_count": 123
    }
   ],
   "source": [
    "#Yeni bir dataframe oluşturularak içerisine Need Attention grubuna ait müşterilerin ID bilgileri atıyoruz.\n",
    "#Atanan bu ID'ler csv çıktısı alınarak kullanıma hazır hale getirilmiştir.\n",
    "new_df = pd.DataFrame()\n",
    "new_df[\"NewCustomerID\"] = rfm[rfm[\"Segment\"] == \"Need Attention\"].index\n",
    "new_df.head()"
   ]
  }
 ],
 "metadata": {
  "language_info": {
   "codemirror_mode": {
    "name": "ipython",
    "version": 3
   },
   "file_extension": ".py",
   "mimetype": "text/x-python",
   "name": "python",
   "nbconvert_exporter": "python",
   "pygments_lexer": "ipython3",
   "version": 3
  },
  "orig_nbformat": 2,
  "kernelspec": {
   "name": "python_defaultSpec_1593841625935",
   "display_name": "Python 3.7.6 64-bit ('base': conda)"
  }
 },
 "nbformat": 4,
 "nbformat_minor": 2
}